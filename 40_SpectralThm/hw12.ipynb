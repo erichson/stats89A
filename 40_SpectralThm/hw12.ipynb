{
 "cells": [
  {
   "cell_type": "markdown",
   "id": "mathematical-david",
   "metadata": {},
   "source": [
    "# Homework 12"
   ]
  },
  {
   "cell_type": "markdown",
   "id": "distinct-speed",
   "metadata": {},
   "source": [
    "## Problem 1: revisiting the power method\n",
    "\n",
    "In Homework 8, we introduced the _power method_ which is a popular iterative matrix algorithm used for finding eigenvalues and eigenvectors. In this problem, we revisit this algorithm."
   ]
  },
  {
   "cell_type": "markdown",
   "id": "executive-observer",
   "metadata": {},
   "source": [
    "### Part A\n",
    "\n",
    "The iterations of the power method take the following form for a given $n\\times n$ matrix $A$:\n",
    "\n",
    "- draw starting vector $u_0\\in \\mathbb{R}^n$\n",
    "- for $k=1,\\dots,N$:\n",
    "    - set $u_k = \\frac{Au_{k-1}}{\\|Au_{k-1}\\|_2}$\n",
    "    - set $\\lambda_k = u_k^\\top A u_k$\n",
    "- return $u_N, \\lambda_N$\n",
    "\n",
    "Implement a function `power_method(A,N)` which takes in a square matrix $A$ and returns the output of the power method after $N$ iterations. "
   ]
  },
  {
   "cell_type": "code",
   "execution_count": null,
   "id": "mental-outdoors",
   "metadata": {},
   "outputs": [],
   "source": []
  },
  {
   "cell_type": "markdown",
   "id": "fourth-winner",
   "metadata": {},
   "source": [
    "### Part B\n",
    "Use your function using $N=1000$ iterations on the matrix $A$ defined below. Use `np.linalg.eig(A)` to find the eigendecomposition of $A$, and print the largest eigenvalue and associated eigenvector (note: `eig` returns a pair `eigen_vals, eigen_vecs`; the $k$th eigenvalue of $A$ is `eigen_vals[k]` and the $k$th eigenvector of $A$ is `eigen_vecs[:,k]`.) Compare your results to the output of your `power_method` function."
   ]
  },
  {
   "cell_type": "code",
   "execution_count": 1,
   "id": "immune-batman",
   "metadata": {},
   "outputs": [],
   "source": [
    "import numpy as np\n",
    "\n",
    "np.random.seed(3)\n",
    "n = 5\n",
    "A = 5*np.random.normal(size=(n,n))\n",
    "A = A.T@A"
   ]
  },
  {
   "cell_type": "markdown",
   "id": "operating-dancing",
   "metadata": {},
   "source": [
    "### Part C\n",
    "As we saw in the previous part, the power method returns the largest eigenvalue/eigenvector pair of the matrix $A$. However, we can also use the power method to find other eigenvalues/vectors. Consider the following algorithm, for an $n\\times n$ matrix $A$:\n",
    "\n",
    "- let $A_1 = A$\n",
    "- set $u_1, \\lambda_1 = $ `power_method(A_1, N)`\n",
    "- for $i=2,\\dots,n$:\n",
    "    - set $A_i = A_{i-1} - \\lambda_{i-1}u_{i-1}u_{i-1}^\\top$\n",
    "    - set $u_i, \\lambda_i = $ `power_method(A_i, N)` \n",
    "- return $\\Lambda = \\text{diag}(\\lambda_1,\\dots, \\lambda_n)$, $U = \\begin{pmatrix} u_1 & \\cdots & u_n \\end{pmatrix}$\n",
    "\n",
    "Implement the above algorithm (again using $N=1000$ iterations of the power method at each stage), and test it on the matrix $A$ from part B. Verify that $A \\approx U \\Lambda U^\\top$, and compare $\\Lambda$ and $U$ with the output `eigen_vals`, `eigen_vecs` obtained from the `np.linalg.eig` function."
   ]
  },
  {
   "cell_type": "code",
   "execution_count": null,
   "id": "european-projector",
   "metadata": {},
   "outputs": [],
   "source": []
  },
  {
   "cell_type": "markdown",
   "id": "martial-roberts",
   "metadata": {},
   "source": [
    "## Problem 2: the functional calculus\n",
    "\n",
    "One important application of the eigendecomposition $A = U\\Lambda U^\\top$ of symmetric matrices $A$ is that it allows us to easily compute matrix powers. For example, we have\n",
    "\n",
    "$$\n",
    "A^2 = AA = U\\Lambda \\underbrace{U^\\top U}_I\\Lambda U^\\top = U\\Lambda^2 U^\\top\n",
    "$$\n",
    "\n",
    "or more generally,\n",
    "\n",
    "$$\n",
    "A^k = U\\Lambda^k U^\\top.\n",
    "$$\n",
    "\n",
    "Since $\\Lambda$ is diagonal, computing the $k$th power $\\Lambda^k$ is easy: we just take the $k$th power of each of the diagonal elements. This immediately allows us to compute other functions of a matrix.\n",
    "\n",
    "Let $f(x)$ be a function taking the following form, for scalars $a_0,a_1,a_2,\\dots$:\n",
    "\n",
    "$$\n",
    "f(x) = a_0 + a_1 x + a_2 x^2 + a_3 x^3 + \\cdots = \\sum_{k=0}^\\infty a_k x^k\n",
    "$$\n",
    "\n",
    "Then for a matrix $A$, we define $f(A)$ as follows:\n",
    "\n",
    "$$\n",
    "f(A) = \\sum_{k=0}^\\infty a_k A^k.\n",
    "$$\n",
    "\n",
    "Since $A^k = U \\Lambda^k U^\\top$, we have\n",
    "\n",
    "$$\n",
    "f(A) = \\sum_{k=0}^\\infty a_k A^k =  \\sum_{k=0}^\\infty a_k U \\Lambda^k U^\\top = U \\left( \\sum_{k=0}^\\infty a_k \\Lambda^k\\right) U^\\top = U f(\\Lambda) U^\\top\n",
    "$$\n",
    "\n",
    "where here $f(\\Lambda)$ is the diagonal matrix whose $i$th diagonalThis allows us to compute $f(A)$ for any function $f(x)$ of the form $\\sum_{k=0}^\\infty a_k x^k$ and symmetric matrix $A$. This method is called the _functional calculus_. In this problem, we will look at a few examples of how it can be used. For this problem, we will use the matrix $A$ defined below:"
   ]
  },
  {
   "cell_type": "code",
   "execution_count": 129,
   "id": "overhead-october",
   "metadata": {},
   "outputs": [],
   "source": [
    "n = 10\n",
    "A = np.random.normal(size=(n,n))\n",
    "A = np.dot(A.T, A)"
   ]
  },
  {
   "cell_type": "markdown",
   "id": "dutch-thomson",
   "metadata": {},
   "source": [
    "### Part A: the matrix exponential\n",
    "\n",
    "Recall that the function $f(x) = e^x$ can be written as $e^x = \\sum_{k=0}^\\infty \\frac{1}{k!}x^k$; therefore, the method described above applies. Use the functional calculus approach to compute $f(A) = e^A$, for the matrix $A$ defined above. "
   ]
  },
  {
   "cell_type": "code",
   "execution_count": null,
   "id": "defensive-tribe",
   "metadata": {},
   "outputs": [],
   "source": []
  },
  {
   "cell_type": "markdown",
   "id": "italic-purchase",
   "metadata": {},
   "source": [
    "### Part B: the matrix logarithm\n",
    "Let $g(x) = \\log(x)$. As long as the eigenvalues of $A$ are strictly positive, we can use the functional calculus to compute $g(A)$. \n",
    "Use the functional calculus to compute $g(A) = \\log(A)$. Then, also using the functional calculus, compute $f(g(A)) = e^{\\log(A)}$. What matrix do you get?"
   ]
  },
  {
   "cell_type": "code",
   "execution_count": null,
   "id": "pacific-density",
   "metadata": {},
   "outputs": [],
   "source": []
  }
 ],
 "metadata": {
  "kernelspec": {
   "display_name": "Python 3",
   "language": "python",
   "name": "python3"
  },
  "language_info": {
   "codemirror_mode": {
    "name": "ipython",
    "version": 3
   },
   "file_extension": ".py",
   "mimetype": "text/x-python",
   "name": "python",
   "nbconvert_exporter": "python",
   "pygments_lexer": "ipython3",
   "version": "3.7.7"
  }
 },
 "nbformat": 4,
 "nbformat_minor": 5
}
