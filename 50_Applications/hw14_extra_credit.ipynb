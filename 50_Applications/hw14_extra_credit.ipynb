{
 "cells": [
  {
   "cell_type": "markdown",
   "id": "aware-alexander",
   "metadata": {},
   "source": [
    "# Homework 14 (Extra Credit)\n",
    "\n",
    "In this assignment, we'll work through a few problems related to regression and least squares."
   ]
  },
  {
   "cell_type": "markdown",
   "id": "monetary-cartoon",
   "metadata": {},
   "source": [
    "## Problem 1: Fitting polynomials and ridge regression\n",
    "\n",
    "In this problem, we will practice fitting poynomials using least squares, and introduce ridge regression as a technique to limit the \"complexity\" of our fitted models.\n",
    "\n",
    "The polynomials we will fit are of the form:\n",
    "\n",
    "$$\n",
    "f(x) = b_0 + b_1x + b_2 x^2 + \\cdots + b_p x^p.\n",
    "$$\n",
    "\n",
    "Given $n$ training samples $(x_1,y_1),\\dots,(x_n,y_n)$, where $x_i \\in \\mathbb{R}$ and $y_i \\in \\mathbb{R}$, we define the matrix\n",
    "\n",
    "$$\n",
    "X_p = \\begin{pmatrix} 1 & x_1 & x_1^2 & \\cdots & x_1^p\\\\ 1 & x_2 & x_2^2 & \\cdots & x_2^p\\\\ \\vdots & \\vdots & \\vdots & \\vdots &\\vdots \\\\ 1 & x_n & x_n^2 & \\cdots & x_n^p\\end{pmatrix}\n",
    "$$\n",
    "\n",
    "which is an $n\\times (p+1)$ matrix. The given $y = (y_1,\\dots, y_n)$ and $b= (b_0,\\dots,b_p)$, we can fit the polynomials using the least squares criteria:\n",
    "\n",
    "$$\n",
    "\\hat{b}_p = \\text{arg}\\min_b \\|X_pb - y\\|_2^2 \\implies \\hat{b} = (X_p^\\top X_p)^{-1}X_p^\\top y.\n",
    "$$\n",
    "\n",
    "For this problem, we will use the training and testing data sets defined below.\n"
   ]
  },
  {
   "cell_type": "code",
   "execution_count": 186,
   "id": "normal-blend",
   "metadata": {},
   "outputs": [
    {
     "data": {
      "image/png": "[encoded data removed]",
      "text/plain": [
       "<Figure size 864x432 with 1 Axes>"
      ]
     },
     "metadata": {
      "needs_background": "light"
     },
     "output_type": "display_data"
    }
   ],
   "source": [
    "import numpy as np\n",
    "import matplotlib.pyplot as plt\n",
    "\n",
    "def get_data(n):\n",
    "    x = np.random.uniform(low=-1, high=1, size=n)\n",
    "    y = .01 * x + 10 * x**3 - 5*x**5 + np.random.standard_normal(n)\n",
    "    return x, y\n",
    "\n",
    "np.random.seed(10)\n",
    "x_train, y_train = get_data(100)\n",
    "x_test, y_test = get_data(500)\n",
    "\n",
    "fig = plt.figure(figsize=(12,6))\n",
    "plt.scatter(x_train, y_train)\n",
    "plt.title('training data')\n",
    "plt.show()"
   ]
  },
  {
   "cell_type": "markdown",
   "id": "growing-torture",
   "metadata": {},
   "source": [
    "### Part A\n",
    "\n",
    "Define a function `polynomial_features(x,p)` which takes in a vector of input data $x\\in \\mathbb{R}^n$ and returns the matrix $X_p$ of polynomial features of degree $p$. Then, define a function `fit_ls(Xp,y)` which takes in a matrix $X_p$ and a vector of responses $y$ and returns the least squares solution $\\hat{b}_p = (X_p^\\top X_p)^{-1}X_p^\\top y$. (You should be able to use some code from the least squares notebook for this part.)"
   ]
  },
  {
   "cell_type": "code",
   "execution_count": null,
   "id": "alpha-airplane",
   "metadata": {},
   "outputs": [],
   "source": []
  },
  {
   "cell_type": "markdown",
   "id": "prerequisite-craft",
   "metadata": {},
   "source": [
    "### Part B\n",
    "\n",
    "For each $p\\in \\{1,2,3,\\dots,20\\}$, perform the following:\n",
    "\n",
    "- compute $\\hat{b}_p$.\n",
    "- create a matrix $X_{p,\\text{test}}$ (obtained from `polynomial_features(x_test,p)`), and compute and store the test error $E_p = \\|X_{p,\\text{test}}\\hat{b}_p - y_\\text{test}\\|_2^2$.\n",
    "- plot the errors $E_p$ as a function of $p$. Which value of $p$ has the lowest test error? What happens as $p$ gets very large?"
   ]
  },
  {
   "cell_type": "code",
   "execution_count": null,
   "id": "similar-lotus",
   "metadata": {},
   "outputs": [],
   "source": []
  },
  {
   "cell_type": "markdown",
   "id": "listed-april",
   "metadata": {},
   "source": [
    "### Part C\n",
    "As we (hopefully) saw in Part B, as we fit a higher degree polynomial, we start to \"overfit\" the data, resulting in high test error. In this part, we show that one way to avoid this is by using _ridge regression_. In ridge regression, rather that using the using least squares objective, we pick coefficients $\\hat{b}_\\lambda$ which minimize the following objective:\n",
    "\n",
    "$$\n",
    "\\begin{aligned}\n",
    "\\hat{b}_\\lambda = \\text{arg}\\min_b \\|Xb - y\\|_2^2 + \\lambda \\|b\\|_2^2 && (1)\n",
    "\\end{aligned}\n",
    "$$\n",
    "\n",
    "The additional term $\\lambda \\|b\\|_2^2$ is a \"penalty\" term, which penalizes our model for having too large of coefficients. In practice, this penalty can help prevent us from overfitting the data like we did in Part B. Using some matrix calculus, it can be shown that the solution to (1) is given by\n",
    "\n",
    "$$\n",
    "\\hat{b}_\\lambda = (X^\\top X + \\lambda I)^{-1}X^\\top y.\n",
    "$$\n",
    "\n",
    "where $I$ is the $(p+1)\\times (p+1)$ identity matrix. For this problem, we will use the same training and testing data as before, and fix $p=20$. Perform the following:\n",
    "\n",
    "- for each $\\lambda$ in `np.arange(0,5,.1)`, compute $\\hat{b}_\\lambda = (X_{p}^\\top X_{p} + \\lambda I)^{-1}X_{p}^\\top y$\n",
    "- compute and store the test error $E_\\lambda = \\|X_{p,\\text{test}}\\hat{b}_\\lambda - y_{\\text{test}}\\|_2^2$\n",
    "- plot the test error $E_\\lambda$ as a function of $\\lambda$\n",
    "\n",
    "What value of $\\lambda$ gives the smallest test error? How does this error compare to the $p=20$ error from Part B? How does this error compare to the best model fit in Part B?"
   ]
  },
  {
   "cell_type": "code",
   "execution_count": null,
   "id": "vital-combining",
   "metadata": {},
   "outputs": [],
   "source": []
  },
  {
   "cell_type": "markdown",
   "id": "rural-crowd",
   "metadata": {},
   "source": [
    "## Problem 2: gradient descent for least squares\n",
    "\n",
    "In this problem, we investigate the _gradient algorithm_ for solving the least squares problem. Gradient descent algorithms are generic algorithms which can be used to minimize functions $f(x)$. Generically, the algorithm takes the form\n",
    "\n",
    "$$\n",
    "x^{(t+1)} = x^{(t)} - \\alpha\\cdot \\nabla f(x^{(t)})\n",
    "$$\n",
    "\n",
    "where $\\nabla f(x^{(t)})$ is the _gradient_ of $f$ (i.e. the vector whose $j$th entry is $\\partial f(x)/\\partial x_j$.)\n",
    "\n",
    "In the case of least squares, our objective function is $f(b) = \\|Xb - y\\|_2^2$, for which the gradient is\n",
    "\n",
    "$$\n",
    "\\nabla_b f(b) = 2(X^\\top X b - X^\\top y)\n",
    "$$\n",
    "\n",
    "which gives the gradient descent updates:\n",
    "\n",
    "$$\n",
    "b^{(t+1)} = b^{(t)} - 2\\alpha\\cdot  (X^\\top X b^{(t)} - X^\\top y).\n",
    "$$\n",
    "\n",
    "We can initialize $b^{(0)}$ to be, for example, a random vector. There are two more missing pieces that we need to run the gradient descent algorithm: 1) we need to choose the step size $\\alpha$ and 2) we need to have a criteria for when to stop the iterations. In the case of linear regression, it turns out that the gradient descent algorithm will work for any $0 < \\alpha < \\frac{1}{2\\lambda_{max}(X^\\top X)}$, where $\\lambda_{max}(X^\\top X)$ is the largest eigenvalue of $X^\\top X$. To decide how many iterations $T$ we need to run, a simple rule of thumb is to continue until $\\|\\nabla_b f(b^{(t)})\\|_2$ is sufficiently small, say below some threshold $\\epsilon$ (this means that $\\nabla_b f(b^{(t)}) \\approx 0$, so that we are approximately at the minimum).\n",
    "\n",
    "**Remark:** Iterative algorithms like gradient descent and Newton's method are rarely used in practice with linear least squares problems, since we have closed-form solutions that are usually used in practice. However, these algorithms are much more general, and can be applied to a wide variety of minimization problems that don't admit closed-form solutions. For example, gradient descent (and variants of it) are the standard method for training deep neural networks.\n",
    "\n",
    "For this problem, we'll use the following synthetic data."
   ]
  },
  {
   "cell_type": "code",
   "execution_count": 203,
   "id": "reserved-blend",
   "metadata": {},
   "outputs": [],
   "source": [
    "n = 100\n",
    "p = 10\n",
    "\n",
    "X = np.random.normal(size=(n,p))\n",
    "y = np.dot(X, np.random.randn(p)) + .1*np.random.randn(n)"
   ]
  },
  {
   "cell_type": "markdown",
   "id": "retained-payment",
   "metadata": {},
   "source": [
    "### Part A\n",
    "\n",
    "Implement a function `gradient_descent_ls(X,y,alpha,eps)` which runs gradient descent with a step size $\\alpha$, until $\\|\\nabla_b f(b)\\|_2 \\leq \\epsilon$. At each iteration $t$, compute and store the MSE $\\|Xb^{(t)} - y\\|_2^2$. Your function should return the final solution $\\hat{b}$ and a list of error from each iteration."
   ]
  },
  {
   "cell_type": "code",
   "execution_count": null,
   "id": "critical-immune",
   "metadata": {},
   "outputs": [],
   "source": []
  },
  {
   "cell_type": "markdown",
   "id": "incident-necklace",
   "metadata": {},
   "source": [
    "### Part B\n",
    "Using the synethetic data above and your `gradient_descent_ls` function, run gradient descent for a variety of values $\\alpha \\in \\left(0,\\frac{1}{2\\lambda_{max}(X^\\top X)}\\right)$ (say, 5 different values). You can use a reasonable threshold for the termination condition, for example $\\epsilon = 0.1$. For each run, plot the errors as a function of the number of iterations. For which step size does the algorithm converge the fastest?"
   ]
  },
  {
   "cell_type": "code",
   "execution_count": null,
   "id": "prostate-debut",
   "metadata": {},
   "outputs": [],
   "source": []
  },
  {
   "cell_type": "code",
   "execution_count": null,
   "id": "composed-metropolitan",
   "metadata": {},
   "outputs": [],
   "source": []
  }
 ],
 "metadata": {
  "kernelspec": {
   "display_name": "Python 3",
   "language": "python",
   "name": "python3"
  },
  "language_info": {
   "codemirror_mode": {
    "name": "ipython",
    "version": 3
   },
   "file_extension": ".py",
   "mimetype": "text/x-python",
   "name": "python",
   "nbconvert_exporter": "python",
   "pygments_lexer": "ipython3",
   "version": "3.7.7"
  }
 },
 "nbformat": 4,
 "nbformat_minor": 5
}
