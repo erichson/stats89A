{
 "cells": [
  {
   "cell_type": "markdown",
   "id": "beneficial-insured",
   "metadata": {},
   "source": [
    "# Homework 10"
   ]
  },
  {
   "cell_type": "markdown",
   "id": "answering-cream",
   "metadata": {},
   "source": [
    "## Problem 1: concentration of angles in high dimensions\n",
    "\n",
    "In the workbook, we saw that for a random vector $x \\in \\mathbb{R}^d$ sampled uniformly at random from the unit ball $B_2 = \\{x\\in \\mathbb{R}^d : \\|x\\|_2 \\leq 1\\}$, the distance from $x$ to the origin begins to _concentrate_ around 1 as $d$ grows. That is, the \"mass\" of the unit ball concentrates at the edge of the ball. We also saw that the _pairwise distance_ between two points $x_i$ and $x_j$ concentrates as $d$ gets large.\n",
    "\n",
    "In this problem, we will see that a similar concentration phenomenon happens between angles in high dimensions. Since we will again be working with samples from the unit ball in this problem, we include the following function to sample uniformly from $B_2$."
   ]
  },
  {
   "cell_type": "code",
   "execution_count": 1,
   "id": "muslim-tomorrow",
   "metadata": {},
   "outputs": [],
   "source": [
    "import numpy as np\n",
    "\n",
    "def sample_from_ball(n, d):\n",
    "    ## sample n points from the d dimensional ball\n",
    "    random_vec = np.random.randn(d, n)\n",
    "    random_vec /= np.linalg.norm(random_vec, axis=0)\n",
    "    random_magnitude = np.random.rand(n) ** (1/d)\n",
    "    return (random_vec * random_magnitude).T"
   ]
  },
  {
   "cell_type": "markdown",
   "id": "resident-studio",
   "metadata": {},
   "source": [
    "### Part A\n",
    "\n",
    "Recall that the angle between two vectors $x$ and $y$ in $\\mathbb{R}^d$ can be calculated as follows:\n",
    "\n",
    "$$\n",
    "\\theta = \\arccos\\left(\\frac{x^\\top y}{\\|x\\|_2 \\|y\\|_2}\\right)\n",
    "$$\n",
    "\n",
    "Write a function `angle_between_vectors(x,y)` which computes the angle between two vectors $x$ and $y$."
   ]
  },
  {
   "cell_type": "code",
   "execution_count": null,
   "id": "native-enhancement",
   "metadata": {},
   "outputs": [],
   "source": []
  },
  {
   "cell_type": "markdown",
   "id": "republican-mailman",
   "metadata": {},
   "source": [
    "### Part B\n",
    "For $d = 3, 5, 10, 100, 1000$, sample $n=200$ points from the unit ball. For each pair of points $x_i, x_j$ with $i\\neq j$, compute the angle between $x_i$ and $x_j$ using your function from Part A. Make a histogram of these angles for each value of $d$ (you can either have 5 different plots, or plot all the histograms together). Note: you should set $[0,\\pi]$ as your $x$-axis (if you're using matplotlib, you can do this with `plt.xlim(0,np.pi)`)."
   ]
  },
  {
   "cell_type": "code",
   "execution_count": null,
   "id": "amino-basics",
   "metadata": {},
   "outputs": [],
   "source": []
  },
  {
   "cell_type": "markdown",
   "id": "conventional-invalid",
   "metadata": {},
   "source": [
    "### Part C\n",
    "You should notice that the angles are concentrating around a particular value as $d$ gets large. What value is this? What does this mean about two random vectors in $d$ dimensions?"
   ]
  },
  {
   "cell_type": "code",
   "execution_count": null,
   "id": "meaningful-milwaukee",
   "metadata": {},
   "outputs": [],
   "source": []
  },
  {
   "cell_type": "markdown",
   "id": "intended-headquarters",
   "metadata": {},
   "source": [
    "## Problem 2: sampling from a high dimensional box\n",
    "\n",
    "In this problem, we will investigate sampling from the $d$-dimensional \"box\" $[-1,1]^d$ (note that this is the same as the $L_\\infty$ unit ball: $B_\\infty = \\{x\\in \\mathbb{R}^d : \\|x\\|_\\infty \\leq 1\\}$). We will see that some of the properties of the $L_2$ ball $B_2$ translate to the box, while others do not."
   ]
  },
  {
   "cell_type": "markdown",
   "id": "logical-royal",
   "metadata": {},
   "source": [
    "### Part A\n",
    "Define a function `sample_from_box(n,d)` which draws $n$ samples from the $d$-dimensional box $[-1,1]^d$. (Hint: you can use the numpy function `np.random.uniform`. Your function should return an $n\\times d$ array.)"
   ]
  },
  {
   "cell_type": "code",
   "execution_count": null,
   "id": "funky-credit",
   "metadata": {},
   "outputs": [],
   "source": []
  },
  {
   "cell_type": "markdown",
   "id": "applicable-dealing",
   "metadata": {},
   "source": [
    "### Part B\n",
    "For each $d=3,5,10,100,1000$, generate $n=1000$ samples from the $d$-dimensional box, and for each $d$, make a histogram of the distances of the points from the origin. Also, compute the mean and variance of the distances for each $d$. What happens as $d$ gets larger? Do the distances to the origin concentrate?"
   ]
  },
  {
   "cell_type": "code",
   "execution_count": null,
   "id": "academic-terminal",
   "metadata": {},
   "outputs": [],
   "source": []
  },
  {
   "cell_type": "markdown",
   "id": "recent-separate",
   "metadata": {},
   "source": [
    "### Part C\n",
    "Next, let's see what happens when we rescale the samples from Part B. Repeat the same steps from Part B, but this time divide each of your samples by $\\sqrt{d}$. Now what happens as $d$ gets larger? Do the distances to the origin concentrate now?"
   ]
  },
  {
   "cell_type": "code",
   "execution_count": null,
   "id": "automotive-creation",
   "metadata": {},
   "outputs": [],
   "source": []
  }
 ],
 "metadata": {
  "kernelspec": {
   "display_name": "Python 3",
   "language": "python",
   "name": "python3"
  },
  "language_info": {
   "codemirror_mode": {
    "name": "ipython",
    "version": 3
   },
   "file_extension": ".py",
   "mimetype": "text/x-python",
   "name": "python",
   "nbconvert_exporter": "python",
   "pygments_lexer": "ipython3",
   "version": "3.7.7"
  }
 },
 "nbformat": 4,
 "nbformat_minor": 5
}
