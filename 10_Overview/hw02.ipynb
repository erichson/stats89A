{
 "cells": [
  {
   "cell_type": "markdown",
   "metadata": {},
   "source": [
    "# Homework 2\n",
    "In this assignment, we will use the table operations that we saw in sections 2.2 and 2.4 of the workbook to investigate the `cities` dataset, which contains 251 cities in the western United States and their populations. Throughout this assignment, as in section 2.4 of the workbook, when we refer to a \"function\", we mean a data frame with two columns, representing the domain and the range.\n",
    "\n",
    "We will use this table to demonstrate several properties of functions.\n",
    "\n",
    "**NOTE: Throughout this assignment, when we ask you to \"define\" or \"find\" a function, we mean output a table with two columns representing the domain and the range of the function, as in section 2.4.**"
   ]
  },
  {
   "cell_type": "code",
   "execution_count": 6,
   "metadata": {},
   "outputs": [
    {
     "data": {
      "text/html": [
       "<div>\n",
       "<style scoped>\n",
       "    .dataframe tbody tr th:only-of-type {\n",
       "        vertical-align: middle;\n",
       "    }\n",
       "\n",
       "    .dataframe tbody tr th {\n",
       "        vertical-align: top;\n",
       "    }\n",
       "\n",
       "    .dataframe thead th {\n",
       "        text-align: right;\n",
       "    }\n",
       "</style>\n",
       "<table border=\"1\" class=\"dataframe\">\n",
       "  <thead>\n",
       "    <tr style=\"text-align: right;\">\n",
       "      <th></th>\n",
       "      <th>City</th>\n",
       "      <th>Population</th>\n",
       "      <th>State</th>\n",
       "    </tr>\n",
       "  </thead>\n",
       "  <tbody>\n",
       "    <tr>\n",
       "      <th>0</th>\n",
       "      <td>Corona</td>\n",
       "      <td>152374</td>\n",
       "      <td>California</td>\n",
       "    </tr>\n",
       "    <tr>\n",
       "      <th>1</th>\n",
       "      <td>Longmont</td>\n",
       "      <td>86270</td>\n",
       "      <td>Colorado</td>\n",
       "    </tr>\n",
       "    <tr>\n",
       "      <th>2</th>\n",
       "      <td>Palmdale</td>\n",
       "      <td>152750</td>\n",
       "      <td>California</td>\n",
       "    </tr>\n",
       "    <tr>\n",
       "      <th>3</th>\n",
       "      <td>Star Valley Ranch</td>\n",
       "      <td>1503</td>\n",
       "      <td>Wyoming</td>\n",
       "    </tr>\n",
       "    <tr>\n",
       "      <th>4</th>\n",
       "      <td>Pomona</td>\n",
       "      <td>149058</td>\n",
       "      <td>California</td>\n",
       "    </tr>\n",
       "  </tbody>\n",
       "</table>\n",
       "</div>"
      ],
      "text/plain": [
       "                City  Population       State\n",
       "0             Corona      152374  California\n",
       "1           Longmont       86270    Colorado\n",
       "2           Palmdale      152750  California\n",
       "3  Star Valley Ranch        1503     Wyoming\n",
       "4             Pomona      149058  California"
      ]
     },
     "execution_count": 6,
     "metadata": {},
     "output_type": "execute_result"
    }
   ],
   "source": [
    "from datasets import western_cities as cities\n",
    "cities.columns = ['City', 'Population', 'State']\n",
    "cities.head()"
   ]
  },
  {
   "cell_type": "markdown",
   "metadata": {},
   "source": [
    "## Problem 1: Binary relations versus functions\n",
    "\n",
    "### Part A \n",
    "Let $A =$ `State`, $B =$ `City`. Output a table representing the relation $R\\subseteq A\\times B$ where $\\langle a, b \\rangle \\in R$ if $b$ is in state $a$."
   ]
  },
  {
   "cell_type": "code",
   "execution_count": null,
   "metadata": {},
   "outputs": [],
   "source": []
  },
  {
   "cell_type": "markdown",
   "metadata": {},
   "source": [
    "Notice that this relation does not define a function from $A$ to $B$, since there are multiple cities within each state. \n",
    "\n",
    "### Part B \n",
    "Using group by operations, define two _different_ functions from $A =$ `State`, $B =$ `City`. Note that there will be multiple ways to do this."
   ]
  },
  {
   "cell_type": "code",
   "execution_count": null,
   "metadata": {},
   "outputs": [],
   "source": []
  },
  {
   "cell_type": "markdown",
   "metadata": {},
   "source": [
    "## Problem 2: Images, preimages and restrictions\n",
    "\n",
    "### Part A \n",
    "Define a function mapping each city to its population, and call this table `city_to_population`. Then compute the preimage of the set $\\{x\\in \\mathbb{N} : x\\leq 50,000\\}$ under this function. What does this set represent?"
   ]
  },
  {
   "cell_type": "code",
   "execution_count": null,
   "metadata": {},
   "outputs": [],
   "source": []
  },
  {
   "cell_type": "markdown",
   "metadata": {},
   "source": [
    "### Part B\n",
    "Let $S$ be the set of cities in California. Find the image of this set under the function `city_to_population`."
   ]
  },
  {
   "cell_type": "code",
   "execution_count": null,
   "metadata": {},
   "outputs": [],
   "source": []
  },
  {
   "cell_type": "markdown",
   "metadata": {},
   "source": [
    "### Part C\n",
    "Find the restriction of the function `city_to_population` to the set $S$ of cities in California."
   ]
  },
  {
   "cell_type": "code",
   "execution_count": null,
   "metadata": {},
   "outputs": [],
   "source": []
  },
  {
   "cell_type": "markdown",
   "metadata": {},
   "source": [
    "## Problem 3: Compositions of functions\n",
    "### Part A\n",
    "Define function `state_to_most_pop_city` which maps each state to its most populous city. Then, compose this function with the function `city_to_population` to get the function `state_to_most_pop_city` $\\circ$ `city_to_population`. What does the function you obtain represent?"
   ]
  },
  {
   "cell_type": "code",
   "execution_count": null,
   "metadata": {},
   "outputs": [],
   "source": []
  },
  {
   "cell_type": "markdown",
   "metadata": {},
   "source": [
    "### Part B\n",
    "Define a _different_ function from `State` to `City` (this could be one of your functions defined in problem 1) and find its composition with the function `city_to_population`."
   ]
  },
  {
   "cell_type": "code",
   "execution_count": null,
   "metadata": {},
   "outputs": [],
   "source": []
  },
  {
   "cell_type": "markdown",
   "metadata": {},
   "source": [
    "### Part C\n",
    "Find a function `f` such that `city_to_population` $\\circ$ `f` is the identity function on the set `Population`.  "
   ]
  },
  {
   "cell_type": "code",
   "execution_count": null,
   "metadata": {},
   "outputs": [],
   "source": []
  },
  {
   "cell_type": "markdown",
   "metadata": {},
   "source": [
    "### Part D\n",
    "Find a subset $S$ of the set `City` such that when we restrict `city_to_population` to this subset (call this function `city_to_population_S`), `f` $\\circ$ `city_to_population_S` is the identity function on the set $S$."
   ]
  },
  {
   "cell_type": "code",
   "execution_count": null,
   "metadata": {},
   "outputs": [],
   "source": []
  },
  {
   "cell_type": "markdown",
   "metadata": {},
   "source": [
    "## Problem 4: Idempotent functions\n",
    "### Part A\n",
    "Find an idempotent function `g` on the set `City` which is _not_ the identity function on the set `City`. Show that this function is indeed idempotent by computing `g(City)` and `g(g(City))`."
   ]
  },
  {
   "cell_type": "code",
   "execution_count": null,
   "metadata": {},
   "outputs": [],
   "source": []
  },
  {
   "cell_type": "markdown",
   "metadata": {},
   "source": [
    "### Part B\n",
    "By restricting the function, show that your function `g` from part A is the identity function on its image."
   ]
  },
  {
   "cell_type": "code",
   "execution_count": null,
   "metadata": {},
   "outputs": [],
   "source": []
  }
 ],
 "metadata": {
  "kernelspec": {
   "display_name": "Python 3",
   "language": "python",
   "name": "python3"
  },
  "language_info": {
   "codemirror_mode": {
    "name": "ipython",
    "version": 3
   },
   "file_extension": ".py",
   "mimetype": "text/x-python",
   "name": "python",
   "nbconvert_exporter": "python",
   "pygments_lexer": "ipython3",
   "version": "3.7.3"
  }
 },
 "nbformat": 4,
 "nbformat_minor": 2
}
