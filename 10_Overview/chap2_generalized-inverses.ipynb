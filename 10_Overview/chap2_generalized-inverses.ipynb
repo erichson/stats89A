{
 "cells": [
  {
   "cell_type": "markdown",
   "metadata": {},
   "source": [
    "# Generalized inverses \n",
    "\n",
    "We have seen examples of left inverses for injective functions and right inverses for surjective functions. \n",
    "These left/right inverses are not inverses in full sense of the word, but they are functions that have the effect of \"undoing\" the action of a function (for left inverses) or doing something that the function \"undoes\" (for right inverses).\n",
    "\n",
    "We have also seen that left/right inverses have an interesting property when they are applied on the \"other side,\" i.e., on the right/left, respectively: they are idempotent.\n",
    "Thus, they act as an identity when restricted to the image (of the function or right inverse, respectively).\n",
    "\n",
    "If a function $f:A\\to B$ is neither injective nor surjective, then neither a left nor a right inverse exists.\n",
    "However, we can still have a type of inverse called a _generalized inverse_.\n",
    "A generalized inverse of a function $f:A\\to B$ is a function $g:B\\to A$ such that $g \\circ f \\circ g = g$ and $f\\circ g\\circ f = f$.\n",
    "- The property $g \\circ f \\circ g = g$ is a generalization of the left inverse condition that $g \\circ f = I_A$.\n",
    "- The property $f\\circ g\\circ f = f$ is a generalization of the right inverse condition that $f \\circ g = I_B$.\n",
    "\n",
    "Interestingly, generalized inverses are easier to work with than left/right inverses.\n",
    "- Any left inverse of a function $f$ satisfies both generalized inverse conditions.\n",
    "- Any right inverse of a function $f$ satisfies both generalized inverse conditions.\n",
    "- If a function $f$ and a generalized inverse $g$ of that function are _not_ restricted to their images, then their product (in either order, i.e., both $f \\circ g$ and $g \\circ f$) is idempotent. \n",
    "- If a function $f$ and a generalized inverse $g$ of that function are restricted to their images, then their product (in either order, i.e., both $f \\circ g$ and $g \\circ f$) is an Identity.\n",
    "\n",
    "Generalized inverses can be illustrated using the table operations we've seen before.\n",
    "However, these examples tend to get messy when dealing with domains and ranges. \n",
    "(The problem is not conceptual.  It's just that dataframes were not designed to do this.)\n",
    "For that reason, we will stick to simple numerical examples in this section.\n",
    "However, you should keep in mind that the concepts do apply to the data frame perspective that we've worked with.\n",
    "\n",
    "\n",
    "### Left inverses are generalized inverses\n",
    "\n",
    "The first fact which we will study is that if $f$ has a left inverse $g$, then this left inverse is also a generalized inverse. \n",
    "We can see this algebraically, since $g\\circ f$ is the identity function on $A$.\n",
    "Thus, we have that\n",
    "\\begin{equation*}\n",
    "f\\circ g \\circ f = f\\circ \\text{Id}_A = f\n",
    "\\quad\n",
    "\\mbox{and}\n",
    "\\quad\n",
    "g\\circ f \\circ g = \\text{Id}_B g = g .\n",
    "\\end{equation*}\n",
    "Let's look at an example of a left inverse from one of the previous workbooks.\n",
    "\n",
    "Recall the function $f:\\mathbb{Z}\\to\\mathbb{R}$, where $\\mathbb{Z} = \\{\\dots, -2,-1,0,1,2,\\dots\\}$ is the set of integers, and $\\mathbb{R}$ is the set of real numbers. \n",
    "We define the function $f$ as follows: for any integer $z\\in \\mathbb{Z}$, let $f(z)$ be a random number in the interval $(z-1/2, z+1/2)$. \n",
    "Here is a python function which does this."
   ]
  },
  {
   "cell_type": "code",
   "execution_count": null,
   "metadata": {},
   "outputs": [],
   "source": [
    "import numpy as np\n",
    "np.random.seed(0) # set random seed for reproducibility\n",
    "r = np.random.uniform(low=-.5, high=.5)\n",
    "\n",
    "def f(z):\n",
    "    return z + r"
   ]
  },
  {
   "cell_type": "markdown",
   "metadata": {},
   "source": [
    "As we saw, a natural left inverse for this function is the function $g:\\mathbb{R}\\to\\mathbb{Z}$ which rounds a real number $x$ to the nearest integer. \n",
    "Here is a python function which does this."
   ]
  },
  {
   "cell_type": "code",
   "execution_count": null,
   "metadata": {},
   "outputs": [],
   "source": [
    "def g(y):\n",
    "    return np.rint(y)"
   ]
  },
  {
   "cell_type": "markdown",
   "metadata": {},
   "source": [
    "Our claim is that, since $g$ is a left inverse for $f$, it must also be a generalized inverse. To check this numerically, we want to check that $(f\\circ g \\circ f)(z) = f(z)$ for any integer $z$. Let's see a few examples."
   ]
  },
  {
   "cell_type": "code",
   "execution_count": null,
   "metadata": {},
   "outputs": [],
   "source": [
    "print('f(-5) = %f' % f(-5))\n",
    "print('(f o g o f)(-5) = %f' % f(g(f(-5))))\n",
    "print('')\n",
    "print('f(2) = %f' % f(2))\n",
    "print('(f o g o f)(2) = %f' % f(g(f(2))))\n",
    "print('')\n",
    "print('f(14) = %f' % f(14))\n",
    "print('(f o g o f)(14) = %f' % f(g(f(14))))"
   ]
  },
  {
   "cell_type": "markdown",
   "metadata": {},
   "source": [
    "Indeed, as expected, we have that $(f \\circ g \\circ f)(z) = f(z)$.\n",
    "\n",
    "It is also easy to show that $(g \\circ f \\circ g)(z) = g(z)$.\n",
    "\n",
    "\n",
    "### Right inverses are generalized inverses\n",
    "\n",
    "Similar to left inverses, if a function $f:A\\to B$ has a right inverse $g$, then this function must also be a generalized inverse. \n",
    "In this case, $f\\circ g$ is the identity function on $B$.\n",
    "Thus, we have that\n",
    "\\begin{equation*}\n",
    "f\\circ g \\circ f = f\\circ \\text{Id}_A = f\n",
    "\\quad\n",
    "\\mbox{and}\n",
    "\\quad\n",
    "g\\circ f \\circ g = \\text{Id}_B g = g .\n",
    "\\end{equation*}\n",
    "Let's now use one of our examples from the workbook on surjective functions and right inverses to verify this.\n",
    "\n",
    "Consider again the surjective function $f:\\mathbb{R}\\to\\mathbb{Z}$, which maps any real number $x$ to an integer $f(x)$ by rounding $x$ to the nearest integer. \n",
    "In python,"
   ]
  },
  {
   "cell_type": "code",
   "execution_count": null,
   "metadata": {},
   "outputs": [],
   "source": [
    "import numpy as np\n",
    "\n",
    "def f(x):\n",
    "    return np.rint(x)"
   ]
  },
  {
   "cell_type": "markdown",
   "metadata": {},
   "source": [
    "We showed that there are many possible right inverses for this function, but one is the function $g(z)$ which takes an integer $z$, and returns the real number $z-.1$:"
   ]
  },
  {
   "cell_type": "code",
   "execution_count": null,
   "metadata": {},
   "outputs": [],
   "source": [
    "def g(z):\n",
    "    return z-.1"
   ]
  },
  {
   "cell_type": "markdown",
   "metadata": {},
   "source": [
    "Let's verify that this function satisfies the first generalized inverse condition $(f\\circ g \\circ f) = f$ on a few test points."
   ]
  },
  {
   "cell_type": "code",
   "execution_count": null,
   "metadata": {},
   "outputs": [],
   "source": [
    "print('f(-5.314) = %i' % f(-5.314))\n",
    "print('(f o g o f)(-5.314) = %i' % f(g(f(-5.314))))\n",
    "print('')\n",
    "print('f(2.67) = %i' % f(2.67))\n",
    "print('(f o g o f)(2.67) = %i' % f(g(f(2.67))))\n",
    "print('')\n",
    "print('f(18.45) = %i' % f(18.45))\n",
    "print('(f o g o f)(18.45) = %i' % f(g(f(18.45))))"
   ]
  },
  {
   "cell_type": "markdown",
   "metadata": {},
   "source": [
    "It is also easy to show that $g \\circ f \\circ g = g$.\n",
    "\n",
    "Thus, the function $g$ is indeed a generalized inverse for $f$. \n",
    "\n",
    "\n",
    "### A function with a generalized inverse, but no left or right inverse\n",
    "\n",
    "In the last two examples, we saw that left and right inverses are automatically also generalized inverses. \n",
    "However, a function need not be injective or surjective in order to have a generalized inverse. \n",
    "For example, \n",
    "let's consider the sets\n",
    "$ A = \\{1,2,3,4,5\\} $ \n",
    "and \n",
    "$ B = \\{a,b,c\\} $; and\n",
    "let's consider the function $f$ given in the following table.\n",
    "\n",
    "| $x$  | $f(x)$ |\n",
    "| ---- | ------ |\n",
    "| $1$  | $a$    |\n",
    "| $2$  | $b$    |\n",
    "| $3$  | $a$    |\n",
    "| $4$  | $b$    |\n",
    "| $5$  | $b$    |\n",
    "\n",
    "This function is neither injective (for example, $1$ and 3 map to the same output) nor surjective (no element maps to $c$). \n",
    "However, we can still construct a function $g:B\\to A$ which is a generalized inverse for $f$. \n",
    "First, let's implement the function $f$ in python. \n",
    "A natural way to do this is with a dictionary."
   ]
  },
  {
   "cell_type": "code",
   "execution_count": null,
   "metadata": {},
   "outputs": [],
   "source": [
    "f = {1:'a', 2:'b', 3:'a', 4:'b', 5:'b'}"
   ]
  },
  {
   "cell_type": "markdown",
   "metadata": {},
   "source": [
    "We can access the value of, say, $f(1)$ with the following"
   ]
  },
  {
   "cell_type": "code",
   "execution_count": null,
   "metadata": {},
   "outputs": [],
   "source": [
    "f[1]"
   ]
  },
  {
   "cell_type": "markdown",
   "metadata": {},
   "source": [
    " Consider the function $g$ defined in the following table\n",
    "\n",
    "| $y$  | $g(y)$ |\n",
    "| ---- | ------ |\n",
    "| $a$  | $1$    |\n",
    "| $b$  | $2$    |\n",
    "| $c$  | $2$    |\n",
    "\n",
    "This is indeed a valid function on the set $B$. \n",
    "Let's implement it in python in another dictionary:"
   ]
  },
  {
   "cell_type": "code",
   "execution_count": null,
   "metadata": {},
   "outputs": [],
   "source": [
    "g = {'a':1, 'b':2, 'c':2}"
   ]
  },
  {
   "cell_type": "markdown",
   "metadata": {},
   "source": [
    "Now let's check whether this function satisfies\n",
    "$$\n",
    "f\\circ g\\circ f = f\n",
    "$$\n",
    "for all inputs $x\\in A$. \n",
    "We can do this with the following code:"
   ]
  },
  {
   "cell_type": "code",
   "execution_count": null,
   "metadata": {},
   "outputs": [],
   "source": [
    "for x in range(1,6):\n",
    "    print('f(%i) = %s' % (x, f[x]))\n",
    "    print('(f o g o f)(%i) = %s' % (x, f[g[f[x]]]))\n",
    "    print('')"
   ]
  },
  {
   "cell_type": "markdown",
   "metadata": {},
   "source": [
    "As we can see from the output, we do indeed have that $(f\\circ g \\circ f)(x) = f(x)$ for all $x\\in A$.\n",
    "Similarly, we can also confirm that $g \\circ f \\circ g = g$.\n",
    "So, $g$ is a generalized inverse for $f$, even though $f$ is neither injective nor surjective.\n",
    "\n",
    "\n",
    "### Another example of a generalized inverse\n",
    "\n",
    "Here we give a more realistic example of a function with a generalized inverse. \n",
    "\n",
    "Consider the function $f:\\mathbb{R}\\to \\mathbb{R}$ defined as follows:\n",
    "$$\n",
    "f(x) = \\begin{cases}-1 & \\text{if } x<-1\\\\ x^3 &\\text{if }-1\\leq x\\leq 1\\\\ 1&\\text{if }x>1 \\end{cases}\n",
    "$$\n",
    "\n",
    "Here is this function written in python."
   ]
  },
  {
   "cell_type": "code",
   "execution_count": null,
   "metadata": {},
   "outputs": [],
   "source": [
    "import matplotlib.pyplot as plt\n",
    "\n",
    "def f(x):\n",
    "    if x<-1:\n",
    "        return -1\n",
    "    elif x > 1:\n",
    "        return 1\n",
    "    else:\n",
    "        return x**3\n",
    "\n",
    "xx = np.arange(-2,2.01,.01)\n",
    "fx = [f(x) for x in xx]\n",
    "\n",
    "plt.plot(xx, fx, label='f(x)')\n",
    "plt.legend()\n",
    "plt.ylim(-2,2)\n",
    "plt.show()"
   ]
  },
  {
   "cell_type": "markdown",
   "metadata": {},
   "source": [
    "This function is neither injective nor surjective. \n",
    "Indeed, note that for the points $x=-1.5, x'=-2$, $f(x) = f(x')$, even though $x\\neq x'$. \n",
    "Therefore $f$ cannot be injective. \n",
    "Moreover, there is no $x\\in \\mathbb{R}$ such that $f(x)=-2$. \n",
    "Therefore $f$ also cannot be surjective. \n",
    "As a consequence, $f$ does not have any left or right inverses. \n",
    "However, it does have a generalized inverse. \n",
    "For example, consider the function $g(x) = x^{1/3}$ (i.e., the cube-root of $x$). \n",
    "Let's see what happens when we compute $f\\circ g\\circ f$. \n",
    "We have for $x<-1$, we get \n",
    "\\begin{equation*}\n",
    "f(g(f(x))) = f(g(-1)) = f(-1) = -1 = f(x)\n",
    "\\end{equation*}\n",
    "Similarly, for $x>1$, we get \n",
    "\\begin{equation*}\n",
    "f(g(f(x))) = f(g(1)) = f(1) = 1 = f(x)\n",
    "\\end{equation*}\n",
    "Finally, if $-1\\leq x\\leq 1$, we get \n",
    "\\begin{equation*}\n",
    "f(g(f(x))) = f(g(x^3)) = f((x^3)^{1/3}) = f(x)\n",
    "\\end{equation*}\n",
    "Thus, we have that $f\\circ g\\circ f = f$, and so $g$ is a generalized inverse for $f$. \n",
    "Let's plot $f\\circ g \\circ f$ and see why this is the case."
   ]
  },
  {
   "cell_type": "code",
   "execution_count": null,
   "metadata": {},
   "outputs": [],
   "source": [
    "def g(x):\n",
    "    # use this trick to compute the cube root in python: x^(1/3) = sign(x)*|x|^(1/3)\n",
    "    return np.sign(x)*np.abs(x)**(1./3.)\n",
    "\n",
    "fgfx = [f(g(f(x))) for x in xx]\n",
    "\n",
    "plt.plot(xx, fgfx, label='(f o g o f)(x)')\n",
    "plt.legend()\n",
    "plt.ylim(-2,2)\n",
    "plt.show()"
   ]
  },
  {
   "cell_type": "markdown",
   "metadata": {},
   "source": [
    "Indeed, we see visually that the plot of $f\\circ g\\circ f$ is the same as the plot of $f$, again verifying that these two functions are the same.\n",
    "If we plotted $g \\circ f \\circ g$, we would see that it equals $g$.\n",
    "Therefore, $g$ is a generalized inverse for $f$. \n",
    "\n",
    "Is this the only generalized inverse for $f$? \n",
    "No! \n",
    "If we look back at our argument above, we realize that it didn't matter what $g$ did on points outside of the interval $[-1,1]$; indeed, another valid generalized inverse for $f$ would be\n",
    "\\begin{equation*}\n",
    "g_2(x) = \\begin{cases}x^{1/3} & \\text{if } x\\leq 1\\\\ 500 &\\text{if } x>1\\end{cases}\n",
    "\\end{equation*}\n",
    "Let's implement this and verify again visually that $f\\circ g_2 \\circ f = f$."
   ]
  },
  {
   "cell_type": "code",
   "execution_count": null,
   "metadata": {},
   "outputs": [],
   "source": [
    "def g2(x):\n",
    "    if x <= 1:\n",
    "        # use this trick to compute the cube root in python: x^(1/3) = sign(x)*|x|^(1/3)\n",
    "        return np.sign(x)*np.abs(x)**(1./3.)\n",
    "    else:\n",
    "        return 500\n",
    "\n",
    "fg2fx = [f(g2(f(x))) for x in xx]\n",
    "\n",
    "plt.plot(xx, fg2fx, label='(f o g2 o f)(x)')\n",
    "plt.legend()\n",
    "plt.ylim(-2,2)\n",
    "plt.show()"
   ]
  },
  {
   "cell_type": "markdown",
   "metadata": {},
   "source": [
    "As expected, the plot of $f\\circ g_2 \\circ f$ is identical to the plot of $f$.\n",
    "\n",
    "If we plotted $g_2 \\circ f \\circ g_2$, we would see that it equals $g_2$."
   ]
  }
 ],
 "metadata": {
  "kernelspec": {
   "display_name": "Python 3",
   "language": "python",
   "name": "python3"
  }
 },
 "nbformat": 4,
 "nbformat_minor": 4
}
