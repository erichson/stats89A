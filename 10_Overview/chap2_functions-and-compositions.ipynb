{
 "cells": [
  {
   "cell_type": "markdown",
   "metadata": {},
   "source": [
    "# Functions and Compositions\n",
    "\n",
    "In this section, we will continue with data frames, and we will use them to discuss functions and the composition of functions.  \n",
    "Topics to be covered include the following.\n",
    "\n",
    "- Binary relations, functions, and defining functions in terms of basic data frame operations.\n",
    "- Image/preimage of functions and restrictions of functions.\n",
    "- Composition of functions, and how to use data frame operations to compose two functions together.\n",
    "- Associativity of function composition.\n",
    "- Identity versus idempotence.\n",
    "\n",
    "We will again work with the `students` dataset, which we import below."
   ]
  },
  {
   "cell_type": "code",
   "execution_count": null,
   "metadata": {},
   "outputs": [],
   "source": [
    "import pandas as pd\n",
    "from datasets import students\n",
    "students.head()"
   ]
  },
  {
   "cell_type": "markdown",
   "metadata": {},
   "source": [
    "## Functions via binary relations\n",
    "\n",
    "Functions seem simple enough.\n",
    "You probably know that a function is (something like) a rule that assigns to each input one output.\n",
    "That's not incorrect, but it is not the full story.\n",
    "When we use functions in data science, we typically want to combine and compose them in various ways.\n",
    "In that case, it is better to think of them as black box subroutines, and it is more important to be careful about the domain and range of the function.\n",
    "To do that, let's start with a slightly more general notion, and then let's get more specific to different types of functions.\n",
    "\n",
    "A binary relation is defined in the following way.\n",
    "Given two sets, $A$ and $B$, a binary relation between $A$ and $B$ is a triple $\\langle A, R, B \\rangle$, where $ R \\subset A \\times B$ is any set of ordered paris from $A \\times B$.\n",
    "For example, we could have $A = $`StudentID` and $B = $`grade` and have $\\langle a,b \\rangle \\in R$ iff student $a$ has the grade $b$.\n",
    "\n",
    "We can view this relation using the students data frame by simply selecting the columns StudentID and Grade:"
   ]
  },
  {
   "cell_type": "code",
   "execution_count": null,
   "metadata": {},
   "outputs": [],
   "source": [
    "students[['StudentID', 'Grade']]"
   ]
  },
  {
   "cell_type": "markdown",
   "metadata": {},
   "source": [
    "Note that this is _not_ a function, since a student is in general in multiple classes, but it is a binary relation.\n",
    "For example, for `StudentID == 101`, we see the following."
   ]
  },
  {
   "cell_type": "code",
   "execution_count": null,
   "metadata": {},
   "outputs": [],
   "source": [
    "tmp = students[['StudentID', 'Grade']]\n",
    "student101 = tmp[tmp['StudentID'] == 101]\n",
    "student101"
   ]
  },
  {
   "cell_type": "markdown",
   "metadata": {},
   "source": [
    "Note also that we could have a student enrolled in no classes, and we could have a class with no students in it. \n",
    "Sometimes that could be encoded in the data frame, and sometimes it would not be, e.g., if the data frame only has students who are enrolled in at least one class. \n",
    "However, that is worth keeping in mind.\n",
    "\n",
    "On the other hand, we could construct a function from `StudentID` to `Grade`. \n",
    "To do this, we need to find a way to choose a grade value to assign for students in multiple classes. \n",
    "Below, we do this by taking $f(StudentID)$ to be the maximum grade that student with ID ```StudentID``` has in any class. \n",
    "To do this, we again need the group by operation introduced in the previous workbooks. \n",
    "(Note: we need to use the option `as_index=False` to make sure Pandas doesn't try to use StudentID as the index -- this just makes the tables look nice.)"
   ]
  },
  {
   "cell_type": "code",
   "execution_count": null,
   "metadata": {},
   "outputs": [],
   "source": [
    "students_to_grades = students.groupby('StudentID', as_index=False)[['StudentID', 'Grade']].max('Grade')\n",
    "students_to_grades"
   ]
  },
  {
   "cell_type": "markdown",
   "metadata": {},
   "source": [
    "This is a function.\n",
    "For example, for `StudentID == 101` we see the following."
   ]
  },
  {
   "cell_type": "code",
   "execution_count": null,
   "metadata": {},
   "outputs": [],
   "source": [
    "tmp = students_to_grades[['StudentID', 'Grade']]\n",
    "student101 = tmp[tmp['StudentID'] == 101]\n",
    "student101"
   ]
  },
  {
   "cell_type": "markdown",
   "metadata": {},
   "source": [
    "To verify that this a function in code, we can check to make sure every student ID appears only once:"
   ]
  },
  {
   "cell_type": "code",
   "execution_count": null,
   "metadata": {},
   "outputs": [],
   "source": [
    "students_to_grades[['StudentID']].value_counts()"
   ]
  },
  {
   "cell_type": "markdown",
   "metadata": {},
   "source": [
    "However, this was not the only way we could have constructed this function. \n",
    "For example, we also could have constructed a function from `StudentID` to `Grade` by selecting the minimum grade, or the average grade.\n",
    "\n",
    "\n",
    "## Image/preimage and restriction\n",
    "\n",
    "If a function is a rule that maps points from a set $A$ to set $B$, then the _image_ of $f$ is the subset of $B$ that gets mapped to by some element $a \\in A$, and the preimage of $f$ is the subset of $f$ is the subset of $A$ that maps to something. \n",
    "Think, _range_ and _domain_. \n",
    "\n",
    "We can also have the image of a subset of $A$. \n",
    "For example, consider the function $f:$`StudentID` $\\to$ `Grade`  that we defined above and the subset `sophomore` $\\subseteq$  `StudentID` of sophomore students. We can compute the image of the subset `sophomore` under the function `students_to_grades `, denoted $f(\\text{sophomore})$ which we obtain with the following code:"
   ]
  },
  {
   "cell_type": "code",
   "execution_count": null,
   "metadata": {},
   "outputs": [],
   "source": [
    "sophomore = students[students['Year'] == 'Sophomore']['StudentID']\n",
    "students_to_grades[students_to_grades['StudentID'].isin(sophomore)][['Grade']]"
   ]
  },
  {
   "cell_type": "markdown",
   "metadata": {},
   "source": [
    "Note that the resulting set is a subset of the set `Grade`. \n",
    "Likewise, we could consider the pre-image of some subset of grades under this function. \n",
    "For example, let's consider the subset of grades `[84, 76, 81, 95]`. \n",
    "We can obtain the pre-image of this set under the function $f$, denoted $f^{-1}(\\{84,76,81,95\\})$, which is just the set of students who have one of these grades as their maximum grade:"
   ]
  },
  {
   "cell_type": "code",
   "execution_count": null,
   "metadata": {},
   "outputs": [],
   "source": [
    "students_to_grades[students_to_grades['Grade'].isin([84, 76, 81, 95])][['StudentID']]"
   ]
  },
  {
   "cell_type": "markdown",
   "metadata": {},
   "source": [
    "Alternatively, we can obtain the set of all students whose highest grade is in the 80s as a pre-image under the function `students_to_grades`"
   ]
  },
  {
   "cell_type": "code",
   "execution_count": null,
   "metadata": {},
   "outputs": [],
   "source": [
    "grades_in_80s = list(range(80,90)) #[80, 81, 82, ... , 88, 89]\n",
    "students_to_grades[students_to_grades['Grade'].isin(grades_in_80s)][['StudentID']]"
   ]
  },
  {
   "cell_type": "markdown",
   "metadata": {},
   "source": [
    "Given that, a useful notion is the _restriction_ of a function. \n",
    "Informally, this is the same function, except it is defined on a subset of $A$ and/or $B$. \n",
    "Let's look the function `students_to_grades` restricted to the set of sophomores, which we denote by $f|_{\\text{sophomore}}$."
   ]
  },
  {
   "cell_type": "code",
   "execution_count": null,
   "metadata": {},
   "outputs": [],
   "source": [
    "sophomore_students_to_grades = students_to_grades[students_to_grades['StudentID'].isin(sophomore)]\n",
    "sophomore_students_to_grades"
   ]
  },
  {
   "cell_type": "markdown",
   "metadata": {},
   "source": [
    "Notice that when we have a _partial function_ -- i.e. a function which is not defined on the entire domain -- we can construct a total function simply by restricting it to the elements of its domain which it is defined on.\n",
    "\n",
    "\n",
    "## Composition of functions\n",
    "\n",
    "Something that one often wants to do is to compose two functions. \n",
    "Informally, this means that we apply a second function on the output of the first function. \n",
    "In symbols, if $f:A\\to B$ and $g:B\\to C$, then the composition of these function is a new function $g\\circ f : A\\to C$ defined by $(g\\circ f)(a) = g(f(a))$. \n",
    "\n",
    "When working with function composition, we want to think of the functions as balck boxes, and we are interested in how those black boxes compose, i.e., we are not interested in the particular inputs/outputs of the functions. \n",
    "Thus, the main gotcha when working with function composition has to do with when the function isn't defined for all elements of the input domain and/or doesn't map to all elements of the output domain. \n",
    "Let's see this with an example.\n",
    "\n",
    "First, let's consider the function from `StudentID` to `Year` :"
   ]
  },
  {
   "cell_type": "code",
   "execution_count": null,
   "metadata": {},
   "outputs": [],
   "source": [
    "students_to_year = students.groupby('StudentID', as_index=False)[['StudentID','Year']].first()\n",
    "students_to_year"
   ]
  },
  {
   "cell_type": "markdown",
   "metadata": {},
   "source": [
    "This is a well-defined function, because each student only has a single year. \n",
    "On the other hand, what happens if we try to map back from `Year` to `StudentID`? \n",
    "Since there is more than one student in each year, there is not a unique way to define such a function. \n",
    "\n",
    "For example, for each year, we could select the student with the smallest student ID:"
   ]
  },
  {
   "cell_type": "code",
   "execution_count": null,
   "metadata": {},
   "outputs": [],
   "source": [
    "year_to_students1 = students.groupby('Year',  as_index=False)[['Year', 'StudentID']].min('StudentID')\n",
    "year_to_students1"
   ]
  },
  {
   "cell_type": "markdown",
   "metadata": {},
   "source": [
    "However, it would also be perfectly valid to select the student in each year with the largest student ID number:"
   ]
  },
  {
   "cell_type": "code",
   "execution_count": null,
   "metadata": {},
   "outputs": [],
   "source": [
    "year_to_students2 = students.groupby('Year',  as_index=False)[['Year','StudentID']].max('StudentID')\n",
    "year_to_students2"
   ]
  },
  {
   "cell_type": "markdown",
   "metadata": {},
   "source": [
    "Let's see what happens when we compose these functions with our function `students_to_year`. \n",
    "It turns out that we can do this again using _joins_, similar to how we used them to perform set intersections. In particular, we can perform a left join, which is essentially just an inner join between the domain of `year_to_students1` and the co-domain of `students_to_year`. \n",
    "Since both of these sets are subsets of the set `year`, such a join makes sense. \n",
    "Below we see how to do this in Python:"
   ]
  },
  {
   "cell_type": "code",
   "execution_count": null,
   "metadata": {},
   "outputs": [],
   "source": [
    "students_to_students1 = students_to_year.merge(year_to_students1, how=\"left\", on=\"Year\").drop(\"Year\", axis=1)\n",
    "students_to_students1"
   ]
  },
  {
   "cell_type": "markdown",
   "metadata": {},
   "source": [
    "We can do the same composition with `year_to_students2`:"
   ]
  },
  {
   "cell_type": "code",
   "execution_count": null,
   "metadata": {},
   "outputs": [],
   "source": [
    "students_to_students2 = students_to_year.merge(year_to_students2, how=\"left\", on=\"Year\").drop(\"Year\", axis=1)\n",
    "students_to_students2"
   ]
  },
  {
   "cell_type": "markdown",
   "metadata": {},
   "source": [
    "Above we perform the join on the column \"Year\", and then drop the column \"Year\" (so that we are just left with the mapping taking `students` to `students`). We'll see several more examples of function composition in the following sections.\n",
    "\n",
    "\n",
    "## Associativity of function composition\n",
    "\n",
    "An important property of function composition is that it is _associative_, meaning that if we have functions $f,g,h$, we have that\n",
    "$\n",
    "h\\circ(g\\circ f) = (h\\circ g)\\circ f\n",
    "$.\n",
    "In words, this means that when we want to compose three functions together, we can either compute the composition of $g$ and $f$ first, and then compose $h$ on the left, or compute the composition of $h$ and $g$ first, and then compose $f$ on the right. \n",
    "Let's see how this works with our students dataset. \n",
    "\n",
    "To do this, let's make another function mapping `StudentID` to `Major`."
   ]
  },
  {
   "cell_type": "code",
   "execution_count": null,
   "metadata": {},
   "outputs": [],
   "source": [
    "students_to_major = students.groupby('StudentID', as_index=False)[['StudentID','Major']].first()\n",
    "students_to_major"
   ]
  },
  {
   "cell_type": "markdown",
   "metadata": {},
   "source": [
    "Next, we'll make a function which maps from `Major` to `Year`. We can do this in many ways, since there are students of many different years in each major. For this example, we'll just pick the first `Year` after performing a group by within each major."
   ]
  },
  {
   "cell_type": "code",
   "execution_count": null,
   "metadata": {},
   "outputs": [],
   "source": [
    "major_to_year = students.groupby('Major', as_index=False)[['Major', 'Year']].first()\n",
    "major_to_year"
   ]
  },
  {
   "cell_type": "markdown",
   "metadata": {},
   "source": [
    "For our last function, we'll use the function `year_to_students1` defined in the previous section."
   ]
  },
  {
   "cell_type": "code",
   "execution_count": null,
   "metadata": {},
   "outputs": [],
   "source": [
    "year_to_students1"
   ]
  },
  {
   "cell_type": "markdown",
   "metadata": {},
   "source": [
    " We're going to compute the composition `year_to_students1` $\\circ$(`major_to_year` $\\circ$ `students_to_major`) -- which is a function mapping `StudentID` to `StudentID` -- and show that it is equal to  (`year_to_students1` $\\circ$`major_to_year`) $\\circ$ `students_to_major`.\n",
    "\n",
    "Let's start off by computing (`major_to_year` $\\circ$ `students_to_major`), which we can do with a left join:"
   ]
  },
  {
   "cell_type": "code",
   "execution_count": null,
   "metadata": {},
   "outputs": [],
   "source": [
    "mty_comp_stm = major_to_year.merge(students_to_major, how=\"left\", on=\"Major\").drop(\"Major\", axis=1)[['StudentID', 'Year']]\n",
    "mty_comp_stm"
   ]
  },
  {
   "cell_type": "markdown",
   "metadata": {},
   "source": [
    "Notice that this gives us a function from `StudentID` to `Year`, but it is of course a different function than the function `students_to_year` we defined before. Next, we compose with `year_to_students1` on the left, to get the composition `year_to_students1` $\\circ$(`major_to_year` $\\circ$ `students_to_major`):"
   ]
  },
  {
   "cell_type": "code",
   "execution_count": null,
   "metadata": {},
   "outputs": [],
   "source": [
    "composition1 =  mty_comp_stm.merge(year_to_students1, how=\"left\", on=\"Year\").drop(\"Year\", axis=1)\n",
    "print('year_to_students1 o (major_to_year o students_to_major) is given by')\n",
    "composition1"
   ]
  },
  {
   "cell_type": "markdown",
   "metadata": {},
   "source": [
    "Next, let compute the composition the other way; namely, let's compute (`year_to_students1` $\\circ$`major_to_year`) $\\circ$ `students_to_major`. We'll start by computing  (`year_to_students1` $\\circ$`major_to_year`), which is a function from `Major` to `StudentID` :"
   ]
  },
  {
   "cell_type": "code",
   "execution_count": null,
   "metadata": {},
   "outputs": [],
   "source": [
    "yts_comp_mty = year_to_students1.merge(major_to_year, how=\"left\", on=\"Year\").drop(\"Year\", axis=1)[['Major', 'StudentID']]\n",
    "yts_comp_mty"
   ]
  },
  {
   "cell_type": "markdown",
   "metadata": {},
   "source": [
    "Next, we'll compose this with `students_to_major` on the right."
   ]
  },
  {
   "cell_type": "code",
   "execution_count": null,
   "metadata": {},
   "outputs": [],
   "source": [
    "composition2 = students_to_major.merge(yts_comp_mty, how=\"left\", on=\"Major\").drop(\"Major\", axis=1)\n",
    "print('(year_to_students1 o major_to_year) o students_to_major is given by')\n",
    "composition2"
   ]
  },
  {
   "cell_type": "markdown",
   "metadata": {},
   "source": [
    "As we can see, we do in fact have that  `year_to_students1` $\\circ$ (`major_to_year` $\\circ$ `students_to_major`) =  (`year_to_students1` $\\circ$`major_to_year`) $\\circ$ `students_to_major` -- that is, we've shown the associative property!\n",
    "\n",
    "\n",
    "## Function compositions yield the Identity\n",
    "\n",
    "In the previous two section, we composed functions and obtained new function mapping the set `StudentID` to itself. \n",
    "However, none of these compositions gave us the _identity function_ on the set `StudentID` -- namely, each student ID was not mapped to itself. \n",
    "It is, however, very easy to compose two functions and obtain the identity function. \n",
    "In this section, we give a few examples of such a composition. \n",
    "\n",
    "First, let's consider the function `students_to_major` which we've used in the previous sections. \n",
    "Is there a function that we compose on the right to obtain the identity? \n",
    "Let's try and find one. \n",
    "Below, we define a function`major_to_students`, which assigns to each major the student with the smallest student ID."
   ]
  },
  {
   "cell_type": "code",
   "execution_count": null,
   "metadata": {},
   "outputs": [],
   "source": [
    "major_to_students = students.groupby('Major', as_index=False)[['Major','StudentID']].min('StudentID')\n",
    "major_to_students"
   ]
  },
  {
   "cell_type": "markdown",
   "metadata": {},
   "source": [
    "Now, what happens if we compose these to get a function `students_to_major` $\\circ$ `major_to_students`, from `Major` to `Major`? \n",
    "Let's see:"
   ]
  },
  {
   "cell_type": "code",
   "execution_count": null,
   "metadata": {},
   "outputs": [],
   "source": [
    "major_to_major = major_to_students.merge(students_to_major, how=\"left\", on=\"StudentID\").drop(\"StudentID\", axis=1)\n",
    "major_to_major"
   ]
  },
  {
   "cell_type": "markdown",
   "metadata": {},
   "source": [
    "This time we do indeed get the identity function on the set `Major`! \n",
    "\n",
    "What happens if we try to \"reverse\" the operation, and instead compute the composition `major_to_students` $\\circ$ `students_to_major`, which this time is a function between `StudentID` and `StudentID`?"
   ]
  },
  {
   "cell_type": "code",
   "execution_count": null,
   "metadata": {},
   "outputs": [],
   "source": [
    "students_to_students2 = students_to_major.merge(major_to_students, how=\"left\", on=\"Major\").drop(\"Major\", axis=1)\n",
    "students_to_students2"
   ]
  },
  {
   "cell_type": "markdown",
   "metadata": {},
   "source": [
    "This is distinctly _not_ the identity function. \n",
    "So, we can compose in one direction and get the identity, but not the other. \n",
    "As we will see later, this is related to the fact that the set `Major` is \"smaller\" than the set `StudentID`. \n",
    "\n",
    "Here is another example, where we _can_ get the identity function on students. \n",
    "Let's consider the function `students_to_grades` that we defined above, which maps students to their highest grade. \n",
    "Next, let's define a function `grades_to_students` which maps grades to students. \n",
    "This is not necessarily a well-defined function in all cases, since multiple students could have the same grade. However, we can do this in this case by simply flipping the columns of the `students_to_grades` table:"
   ]
  },
  {
   "cell_type": "code",
   "execution_count": null,
   "metadata": {},
   "outputs": [],
   "source": [
    "grades_to_students = students_to_grades[['Grade', 'StudentID']]\n",
    "grades_to_students"
   ]
  },
  {
   "cell_type": "markdown",
   "metadata": {},
   "source": [
    "Now, let's compose these function to get `grades_to_students` $\\circ$ `students_to_grades`, and see if it gives us the identity function on `StudentID`:"
   ]
  },
  {
   "cell_type": "code",
   "execution_count": null,
   "metadata": {},
   "outputs": [],
   "source": [
    "students_to_students3 = students_to_grades.merge(grades_to_students, how=\"left\", on=\"Grade\").drop(\"Grade\", axis=1)\n",
    "students_to_students3"
   ]
  },
  {
   "cell_type": "markdown",
   "metadata": {},
   "source": [
    "Finally, this gave us an identity function on `StudentID`! \n",
    "However, we should be entirely surprised by this: indeed, this worked because each student happened to have a _unique_ highest grade, which meant this grade could be uniquely assigned to each student, and thus we can translate between grades and students without losing any information. \n",
    "We can see this is true by flipping the composition in the other direction, and looking at the function `students_to_grades` $\\circ$ `grades_to_students`:"
   ]
  },
  {
   "cell_type": "code",
   "execution_count": null,
   "metadata": {},
   "outputs": [],
   "source": [
    "grades_to_grades = students_to_grades.merge(grades_to_students, how=\"left\", on=\"StudentID\").drop(\"StudentID\", axis=1)\n",
    "grades_to_grades"
   ]
  },
  {
   "cell_type": "markdown",
   "metadata": {},
   "source": [
    "Indeed, this gives us the identity on (a subset of) the set `Grade`. \n",
    "Which subset in particular is this? \n",
    "It is simply _range_ of our function `students_to_grades`. \n",
    "\n",
    "\n",
    "## Idempotent/projection functions\n",
    "\n",
    "An idempotent function, also known as a projection function, is a function that yields the same answer when it is applied twice as when it is applied once. \n",
    "In other words, a function $f:A\\to A$ is _idempotent_ if for all $a\\in A$, $f(a) = f(f(a))$. \n",
    "\n",
    "We can illustrate it with basic set operations (as last time, with set union and intersection), and we can illustrate it with more general functions with a data frame.\n",
    "\n",
    "Let's see a simple example. \n",
    "Consider the function $f$ mapping `StudentID` to `StudentID`, defined in the following way. \n",
    "For each student, the function $f$ returns the student in his/her major with the highest average grade. \n",
    "Let's compute this function using python. \n",
    "First, we define a new data frame with each student's average grades:"
   ]
  },
  {
   "cell_type": "code",
   "execution_count": null,
   "metadata": {},
   "outputs": [],
   "source": [
    "students_avg_grades = students.groupby(\"StudentID\", as_index=False).mean('Grade')\n",
    "majors = students.groupby(\"StudentID\", as_index=False)[['StudentID', 'Major']].first()\n",
    "students_avg_grades['Major'] = majors['Major']\n",
    "students_avg_grades"
   ]
  },
  {
   "cell_type": "markdown",
   "metadata": {},
   "source": [
    "Next, we can compute the function $f$ from  `StudentID` to `StudentID` defined above."
   ]
  },
  {
   "cell_type": "code",
   "execution_count": null,
   "metadata": {},
   "outputs": [],
   "source": [
    "max_grade_by_major = students_avg_grades.groupby(\"Major\", as_index=False)[[\"Major\", \"StudentID\"]].max(\"Grade\")\n",
    "stdnt_to_stdnt_highest_grade = students_avg_grades.merge(max_grade_by_major, how=\"left\", on=\"Major\")[['StudentID_x', 'StudentID_y', 'Major']]\n",
    "stdnt_to_stdnt_highest_grade.columns = ['StudentID', 'f(StudentID)', 'Major']\n",
    "stdnt_to_stdnt_highest_grade[['StudentID', 'f(StudentID)']]"
   ]
  },
  {
   "cell_type": "markdown",
   "metadata": {},
   "source": [
    "Note that we did a bit of clean up in the cell above to make sure that the column names were interpretable (Pandas will automatically assign new column names when we join two tables with the same column name). \n",
    "\n",
    "Now, let's use another join to compute $f(f(\\text{StudentID}))$."
   ]
  },
  {
   "cell_type": "code",
   "execution_count": null,
   "metadata": {},
   "outputs": [],
   "source": [
    "stdnt_to_stdnt_highest_grade2 = stdnt_to_stdnt_highest_grade.merge(max_grade_by_major, how=\"left\", on=\"Major\")[['StudentID_x', 'f(StudentID)', 'StudentID_y']]\n",
    "stdnt_to_stdnt_highest_grade2.columns = ['StudentID', 'f(StudentID)', 'f(f(StudentID))']\n",
    "stdnt_to_stdnt_highest_grade2"
   ]
  },
  {
   "cell_type": "markdown",
   "metadata": {},
   "source": [
    "Indeed, we see that the columns `f(StudentID)` and `f(f(StudentID))` are equal, and so the function $f$ is in fact idempotent.\n",
    "\n",
    "An interesting property of idempotent function is that they are always equal to the identity function on their image. \n",
    "This make sense:  if $b \\in \\text{Image}(f)$, then $b = f(a)$ for some $a\\in A$, and thus $b = f(a) = f(f(a)) = f(b)$. \n",
    "Let's verify this with code, by restricting the function $f$ to its image."
   ]
  },
  {
   "cell_type": "code",
   "execution_count": null,
   "metadata": {},
   "outputs": [],
   "source": [
    "stdnt_to_stdnt_highest_grade[stdnt_to_stdnt_highest_grade['StudentID'].isin(stdnt_to_stdnt_highest_grade['f(StudentID)'])][['StudentID', 'f(StudentID)']]"
   ]
  },
  {
   "cell_type": "markdown",
   "metadata": {},
   "source": [
    "As expected, when we restrict $f$ to $\\text{Image}(f)$ we do indeed get the identity function back."
   ]
  }
 ],
 "metadata": {
  "kernelspec": {
   "display_name": "Python 3",
   "language": "python",
   "name": "python3"
  }
 },
 "nbformat": 4,
 "nbformat_minor": 4
}
