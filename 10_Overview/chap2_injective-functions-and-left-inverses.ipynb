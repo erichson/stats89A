{
 "cells": [
  {
   "cell_type": "markdown",
   "metadata": {},
   "source": [
    "# Injective Functions and Left Inverses\n",
    "\n",
    "An _injective_ function is a mapping from a set $A$ to a set $B$ such that: if $a'\\neq a$ then $f(a)\\neq f(a')$. \n",
    "That is, $f$ is injective if and only if it maps distinct elements of the domain $A$ to distinct elements of the co-domain $B$. \n",
    "\n",
    "Informally, if $f : A \\rightarrow B$ is injective, then this means that $A$ must be ``smaller'' (not larger than) than $B$, since if $A$ were larger than $B$, then at least two elements of $A$ would have to map to the same element of $B$.\n",
    "This intuition of larger/smaller is formally true for discrete sets and functions on discrete sets.\n",
    "Although it is not precisely true for infinite sets (such as the set of integers or the set of real numbers or the set of points on the Euclidean plane), it is not a bad intuition.\n",
    "\n",
    "In this section, we will investigate injective functions.\n",
    "We will use the table operations we've seen before, as well as simple numerical examples.\n",
    "In both cases, we will see that injective functions always have special complementary functions called _left inverses_.\n",
    "\n",
    "In the next few sections of the workbook, we will work with datasets containing information about several western cities, which we will introduce now.\n",
    "\n",
    "The `western_cities` dataset contains information about 251 cities located in the western United States."
   ]
  },
  {
   "cell_type": "code",
   "execution_count": null,
   "metadata": {},
   "outputs": [],
   "source": [
    "from datasets import western_cities\n",
    "western_cities.columns = ['City', 'Population', 'State']\n",
    "western_cities.head()"
   ]
  },
  {
   "cell_type": "markdown",
   "metadata": {},
   "source": [
    "We will also want a bit more information about these western states. Importantly, we will use information about the capitals of each of these states. This information is stored in the `state_capitals` dataset."
   ]
  },
  {
   "cell_type": "code",
   "execution_count": null,
   "metadata": {},
   "outputs": [],
   "source": [
    "from datasets import states as state_capitals\n",
    "state_capitals = state_capitals[[\"State\", \"Capital\"]]\n",
    "state_capitals"
   ]
  },
  {
   "cell_type": "markdown",
   "metadata": {},
   "source": [
    "### An example of an injective function\n",
    "\n",
    "Recall our intuition that injective functions map \"smaller\" sets to \"larger\" ones. In the case of the `western_cities` dataset, we have three potential sets which we could work with: `City`, `Population` and `State`. Let's see how many unique values are in each."
   ]
  },
  {
   "cell_type": "code",
   "execution_count": null,
   "metadata": {},
   "outputs": [],
   "source": [
    "print('City has %i unique values' % western_cities[\"City\"].nunique())\n",
    "print('Population has %i unique values' % western_cities[\"Population\"].nunique())\n",
    "print('State has %i unique values' % western_cities[\"State\"].nunique())"
   ]
  },
  {
   "cell_type": "markdown",
   "metadata": {},
   "source": [
    "We see that clearly `State` is the smallest set, while `City` and `Population` are much larger. \n",
    "Of course, this is because there are many cities within each state. \n",
    "Thus, to construct an injective function, let's choose `State` to be our domain, and either `Population` or `City` to be our co-domain. \n",
    "For this section, we will consider the function $f$ from `State` to `City` which maps each state to its capital. \n",
    "This function is already given to us in the `state_capitals` dataframe:"
   ]
  },
  {
   "cell_type": "code",
   "execution_count": null,
   "metadata": {},
   "outputs": [],
   "source": [
    "state_capitals"
   ]
  },
  {
   "cell_type": "markdown",
   "metadata": {},
   "source": [
    "Clearly, this function is injective, since each distinct state is mapped to a distinct city. \n",
    "However, that this function is not _surjective_, since the set `Capital` is a strict subset of the set of all western cities `City`.\n",
    "That is, there are some cities that are not the capital of a state. \n",
    "\n",
    "Since the function $f$ is injective, we've seen in class that it must have at least one complementary function called a _left inverse_. \n",
    "In our case, a left inverse is a function $g:$ `City` $\\to$ `State`, such that $g\\circ f$ is the identity function on the set `State`. \n",
    "In fact, since `City` is _strictly_ larger than `State` there must be more than one left inverse. \n",
    "In what follows, we will see a few examples of left inverses.\n",
    "\n",
    "### Constructing left inverses\n",
    "\n",
    "Let's think about what properties a function $g:$ `City` $\\to$ `State` must have in order to be a left inverse for our function $f$ mapping each state to its capital. Since we need $g\\circ f$ to be the identity function on `State`, we need that for any state $s$, $g(f(s)) = s$. In particular, we need that for each state capital, $g$ maps this capital back to the state that it is the capital of. Importantly, _it does not matter what $g$ does to cities which are not in the set `Capital`_. As we will see, it is for this reason that there will be several left inverses for $f$.\n",
    "\n",
    "Let's use this characterization to give one example of a left inverse. Consider the function $g_1$: `City` $\\to$ `State` mapping each city to the state that it is in. We can obtain this function straightforwardly from the `western_cities` data frame:"
   ]
  },
  {
   "cell_type": "code",
   "execution_count": null,
   "metadata": {},
   "outputs": [],
   "source": [
    "g1 = western_cities[[\"City\", \"State\"]]\n",
    "g1.head()"
   ]
  },
  {
   "cell_type": "markdown",
   "metadata": {},
   "source": [
    "Of course, every state capital is in the state of which it is the capital, and so intuitively $g_1$ should be a valid left inverse for $f$. Let's verify this with code by computing $g_1\\circ f$ using a left join. (Note: here we need to specify a value of `left_on` and `right_on` when we do the join, because the column names are different for the two tables.)"
   ]
  },
  {
   "cell_type": "code",
   "execution_count": null,
   "metadata": {},
   "outputs": [],
   "source": [
    "state_to_state1 = state_capitals.merge(g1, left_on=\"Capital\",right_on=\"City\", how=\"left\")[[\"State_x\", \"State_y\"]]\n",
    "state_to_state1.columns = [\"State\", \"(g1 o f)(State)\"]\n",
    "state_to_state1"
   ]
  },
  {
   "cell_type": "markdown",
   "metadata": {},
   "source": [
    "Indeed, we see that $g_1\\circ f$ is indeed the identity function on `State`, and so $g_1$ is a left inverse for $f$. As we said above, however, this is not the only left inverse we could have constructed: we only care about what the left inverse does on the elements of the _range_ of $f$, which in this case is the set `Capital`. \n",
    "\n",
    "To come up with another example, let's alter $g_1$ by changing some of the states that cities get mapped to. It doesn't matter which cities we change, as long as it isn't one of the 6 cities in the subset `Capital`."
   ]
  },
  {
   "cell_type": "code",
   "execution_count": null,
   "metadata": {},
   "outputs": [],
   "source": [
    "g2 = western_cities[[\"City\", \"State\"]]\n",
    "g2.loc[g2[\"City\"] == \"Tacoma\", \"State\"] = \"Colorado\" # map Tacoma to Colorado\n",
    "g2.loc[g2[\"City\"] == \"Pomona\", \"State\"] = \"Hawaii\" # map Pomona to Hawaii\n",
    "g2"
   ]
  },
  {
   "cell_type": "markdown",
   "metadata": {},
   "source": [
    "Here we decided to map the city Tacoma (which is in Washington) to Colorado, and Pomona (which is in California) to Hawaii. We can verify that `g1` and `g2` are indeed different:"
   ]
  },
  {
   "cell_type": "code",
   "execution_count": null,
   "metadata": {},
   "outputs": [],
   "source": [
    "g1.equals(g2)"
   ]
  },
  {
   "cell_type": "markdown",
   "metadata": {},
   "source": [
    "However, if we compute the composition $g_2\\circ f$, we see that it still gives us the identity function on `State`, and therefore that $g_2$ is another valid left inverse for $f$:"
   ]
  },
  {
   "cell_type": "code",
   "execution_count": null,
   "metadata": {},
   "outputs": [],
   "source": [
    "state_to_state2 = state_capitals.merge(g2, left_on=\"Capital\",right_on=\"City\", how=\"left\")[[\"State_x\", \"State_y\"]]\n",
    "state_to_state2.columns = [\"State\", \"(g2 o f)(State)\"]\n",
    "state_to_state2"
   ]
  },
  {
   "cell_type": "markdown",
   "metadata": {},
   "source": [
    "### A numerical example\n",
    "\n",
    "To finish this section, we will give a simple numerical example of an injective function, which will complement the examples given with the data frame above.\n",
    "\n",
    "Here, we consider a function $f:\\mathbb{Z}\\to\\mathbb{R}$, where $\\mathbb{Z} = \\{\\dots, -2,-1,0,1,2,\\dots\\}$ is the set of integers, and $\\mathbb{R}$ is the set of real numbers. While $\\mathbb{Z}$ and $\\mathbb{R}$ are both infinite sets, we can intuitively see that $\\mathbb{R}$ is 'larger', in the sense that there are many elements of $\\mathbb{R}$ which are not in $\\mathbb{Z}$ (this intuition of $\\mathbb{R}$ being larger can in fact be formalized by proving that there is no surjective function from $\\mathbb{Z}$ to $\\mathbb{R}$). \n",
    "\n",
    "We define the function $f$ as follows: for any integer $z\\in \\mathbb{Z}$, let $f(z)$ be a random number in the interval $(z-1/2, z+1/2)$. Let's define a python function which does this."
   ]
  },
  {
   "cell_type": "code",
   "execution_count": null,
   "metadata": {},
   "outputs": [],
   "source": [
    "import numpy as np\n",
    "np.random.seed(0) # set random seed for reproducibility\n",
    "r = np.random.uniform(low=-.5, high=.5)\n",
    "\n",
    "def f(z):\n",
    "    return z + r"
   ]
  },
  {
   "cell_type": "markdown",
   "metadata": {},
   "source": [
    "Let's see a few examples of this function's output"
   ]
  },
  {
   "cell_type": "code",
   "execution_count": null,
   "metadata": {},
   "outputs": [],
   "source": [
    "print('f(-5) = %f' % f(-5))\n",
    "print('f(2) = %f' % f(2))\n",
    "print('f(14) = %f' % f(14))"
   ]
  },
  {
   "cell_type": "markdown",
   "metadata": {},
   "source": [
    "This function is indeed injective: if $z\\neq z'$, then the intersection of the sets $(z-1/2, z+1/2)$ and $(z'-1/2, z'+1/2)$ must be empty. Since $f$ is injective, it must have a left inverse, i.e. a function $g$ such that $g\\circ f$ is equal to the identity function on the integers. How can we construct such a left inverse? We need a function $g$ such that for any integer $z$ and any value $f(z) \\in (z-1/2, z+1/2)$, we have $g(f(z)) = z$. A natural way to construct such a function $g$ is simply by rounding to the nearest integer. To do this in python, we can use the `numpy` function `rint`. Let's define this function below:"
   ]
  },
  {
   "cell_type": "code",
   "execution_count": null,
   "metadata": {},
   "outputs": [],
   "source": [
    "def g(y):\n",
    "    return np.rint(y)"
   ]
  },
  {
   "cell_type": "markdown",
   "metadata": {},
   "source": [
    "Now we can verify on our examples that this does indeed give us a valid left inverse:"
   ]
  },
  {
   "cell_type": "code",
   "execution_count": null,
   "metadata": {},
   "outputs": [],
   "source": [
    "print('g(f(-5)) = %i' % g(f(-5)))\n",
    "print('g(f(2)) = %i' % g(f(2)))\n",
    "print('g(f(14)) = %i' % g(f(14)))"
   ]
  },
  {
   "cell_type": "markdown",
   "metadata": {},
   "source": [
    "As expected, this gives us the identity function on the integers!\n",
    "\n",
    "As we've seen, injective functions must always have left inverses, and in many cases have more than one of them. Intuitively, we can think about injective functions as being functions whose domain is \"smaller\" than their co-domain -- and it is this property that allows us to construct a variety of left inverses. As we will see in the next section, there is an analogous concept for functions whose domain is \"larger\" than their co-domain, and that this is related to the idea of surjective functions and right inverses.\n",
    "\n",
    "### Idempotence and left inverses\n",
    "\n",
    "One might be tempted to think that if we flipped the order of composition, we would also obtain an identity: namely that $f\\circ g$ might be the identity function on $\\mathbb{R}$. \n",
    "However, this cannot be the case: for a real number $x$, $g(x)$ gives the nearest integer, which $f$ is not guaranteed to map back to the same input $x$. \n",
    "On the other hand, $f\\circ g$ does have another special property: it is always _idempotent_, meaning $(f\\circ g)^2 = f\\circ g$. \n",
    "This is easy to see this algebraically, using the fact that $g\\circ f$ is the identity on the integers:\n",
    "\\begin{equation*}\n",
    "(f\\circ g)^2 = (f\\circ g)\\circ (f\\circ g) = f\\circ (g\\circ f)\\circ g = f\\circ \\text{Id}_{\\mathbb{Z}}\\circ g = f\\circ g\n",
    "\\end{equation*}\n",
    "We can also verify this property numerically for our example."
   ]
  },
  {
   "cell_type": "code",
   "execution_count": null,
   "metadata": {},
   "outputs": [],
   "source": [
    "print('(f o g)(-5.21) = %f' % f(g(-5.21)))\n",
    "print('(f o g)^2(-5.21) = %f' % f(g(f(g(-5.21)))))\n",
    "print('')\n",
    "print('(f o g)(4.68) = %f' % f(g(4.68)))\n",
    "print('(f o g)^2(4.68) = %f' % f(g(f(g(4.68)))))\n",
    "print('')\n",
    "print('(f o g)(13.74) = %f' % f(g(13.74)))\n",
    "print('(f o g)^2(13.74) = %f' % f(g(f(g(13.74)))))"
   ]
  }
 ],
 "metadata": {
  "kernelspec": {
   "display_name": "Python 3",
   "language": "python",
   "name": "python3"
  }
 },
 "nbformat": 4,
 "nbformat_minor": 4
}
