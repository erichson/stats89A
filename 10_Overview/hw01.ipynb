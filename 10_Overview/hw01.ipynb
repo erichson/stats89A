{
 "cells": [
  {
   "cell_type": "markdown",
   "metadata": {},
   "source": [
    "# Homework 1\n",
    "\n",
    "In this assignment, we will practice using python to perform basic set operations. Problem 1 asks you to use python's set objects (covered in Section 2.1 of the workbook); problems 2, 3 and 4 ask you to use inner and outer join operations on a dataframe (covered in Section 2.2 of the workbook). We will use sets we construct as well as the ```students``` dataframe introduced in Section 2.2.\n",
    "\n",
    "## Problem 1: Sets and Set Algebra in Python\n",
    "\n",
    "### Part A\n",
    "Create the following 4 sets.\n",
    "\n",
    "* Set $A$ contains all even natural numbers (without zero) that are smaller or equal to 200.\n",
    "* Set $B$ contains all odd natural numbers (without zero) that are smaller or equal to 200.\n",
    "* Set $C := \\{5n | n \\in \\mathbb{N}^*, n\\le 40\\}$.\n",
    "* Set $D$ contains all natural numbers (without zero) that are smaller or equal to 200.\n",
    "\n",
    "Note: Printing all even or odd numbers in a given range are typically coding questions during a job interview."
   ]
  },
  {
   "cell_type": "code",
   "execution_count": null,
   "metadata": {},
   "outputs": [],
   "source": [
    "### Your Code Goes Below ###"
   ]
  },
  {
   "cell_type": "code",
   "execution_count": null,
   "metadata": {},
   "outputs": [],
   "source": [
    "### Your Code Goes Below ###"
   ]
  },
  {
   "cell_type": "code",
   "execution_count": null,
   "metadata": {},
   "outputs": [],
   "source": [
    "### Your Code Goes Below ###"
   ]
  },
  {
   "cell_type": "code",
   "execution_count": null,
   "metadata": {},
   "outputs": [],
   "source": [
    "### Your Code Goes Below ###"
   ]
  },
  {
   "cell_type": "markdown",
   "metadata": {},
   "source": [
    "### Part B\n",
    "\n",
    "* i) What is the cardinality of the set $A\\cup B \\cup C$\n",
    "* ii) What is the cardinality of the set $A\\cap B$\n",
    "* iii) What is the cardinality of the set $A\\cap D$\n",
    "* iv)  What is the cardinality of the relative complement $A\\backslash D$ \n",
    "* v)  What is the cardinality of the relative complement $D\\backslash B$"
   ]
  },
  {
   "cell_type": "code",
   "execution_count": null,
   "metadata": {},
   "outputs": [],
   "source": [
    "### Your Code Goes Below ###"
   ]
  },
  {
   "cell_type": "code",
   "execution_count": null,
   "metadata": {},
   "outputs": [],
   "source": [
    "### Your Code Goes Below ###"
   ]
  },
  {
   "cell_type": "code",
   "execution_count": null,
   "metadata": {},
   "outputs": [],
   "source": [
    "### Your Code Goes Below ###"
   ]
  },
  {
   "cell_type": "code",
   "execution_count": null,
   "metadata": {},
   "outputs": [],
   "source": [
    "### Your Code Goes Below ###"
   ]
  },
  {
   "cell_type": "code",
   "execution_count": null,
   "metadata": {},
   "outputs": [],
   "source": [
    "### Your Code Goes Below ###"
   ]
  },
  {
   "cell_type": "markdown",
   "metadata": {},
   "source": [
    "### Part C\n",
    "Varify that De Morgan's law of intersection $(A\\cap B)^c = A^c \\cup B^c$ holds for this example."
   ]
  },
  {
   "cell_type": "code",
   "execution_count": null,
   "metadata": {},
   "outputs": [],
   "source": [
    "### Your Code Goes Below ###"
   ]
  },
  {
   "cell_type": "code",
   "execution_count": null,
   "metadata": {},
   "outputs": [],
   "source": [
    "### Your Code Goes Below ###"
   ]
  },
  {
   "cell_type": "code",
   "execution_count": null,
   "metadata": {},
   "outputs": [],
   "source": [
    "### Your Code Goes Below ###"
   ]
  },
  {
   "cell_type": "code",
   "execution_count": null,
   "metadata": {},
   "outputs": [],
   "source": [
    "import pandas as pd\n",
    "from datasets import students\n",
    "students"
   ]
  },
  {
   "cell_type": "markdown",
   "metadata": {},
   "source": [
    "## Problem 2: Distributive laws\n",
    "In this problem, we will use data frame operations to verify that unions are distributive over intersections; namely, that $A\\cup(B\\cap C) = (A\\cup B)\\cap(A\\cup C)$.\n",
    "\n",
    "### Part A\n",
    "\n",
    "Using select (and possible outer join) operations, construct a table ```math_and_stat``` containing students who are either a mathematics or statistics major, a table```junior``` containing the students that are juniors, and a table ```stat102_103``` containing students that are enrolled in either stat102 or stat103 (or both)."
   ]
  },
  {
   "cell_type": "code",
   "execution_count": null,
   "metadata": {},
   "outputs": [],
   "source": [
    "### Your Code Goes Below ###"
   ]
  },
  {
   "cell_type": "markdown",
   "metadata": {},
   "source": [
    "### Part B\n",
    "Using inner and outer join opertations, verify that ```math_and_stat``` $\\cup$ (```stat102_103``` $\\cap$ ```junior```) $=$ (```math_and_stat```$\\cup$ ```stat102_103```) $\\cap$ (```math_and_stat```$\\cup$ ```junior```)."
   ]
  },
  {
   "cell_type": "code",
   "execution_count": null,
   "metadata": {},
   "outputs": [],
   "source": [
    "### Your Code Goes Below ###"
   ]
  },
  {
   "cell_type": "markdown",
   "metadata": {},
   "source": [
    "## Problem 3: De Morgan's Laws using data frames\n",
    "\n",
    "In this problem we will verify De Morgan's Laws using data frame operations. \n",
    "De Morgan's Laws state that for any two sets $A, B$, we have\n",
    "$$\n",
    "(i) \\;\\;\\;(A\\cup B)^c = A^c\\cap B^c\\\\\n",
    "(ii) \\;\\;\\;(A\\cap B)^c = A^c\\cup B^c\n",
    "$$\n",
    "\n",
    "### Part A\n",
    "\n",
    "Use select operations to define two tables ```soph``` and ```stat102```, which contain students who are sophomores and enrolled in stat102, respectively."
   ]
  },
  {
   "cell_type": "code",
   "execution_count": null,
   "metadata": {},
   "outputs": [],
   "source": [
    "### Your Code Goes Below ###"
   ]
  },
  {
   "cell_type": "markdown",
   "metadata": {},
   "source": [
    "### Part B\n",
    "\n",
    "For the rest of the problem, think of ```soph``` and ```stat102``` as sets indexed by the value of ```StudentID```. Verify that $(i)$ holds; namely, verify that $(\\text{soph}\\cup \\text{stat102})^c = \\text{soph}^c \\cap \\text{stat102}^c$."
   ]
  },
  {
   "cell_type": "code",
   "execution_count": null,
   "metadata": {},
   "outputs": [],
   "source": [
    "### Your Code Goes Below ###"
   ]
  },
  {
   "cell_type": "markdown",
   "metadata": {},
   "source": [
    "### Part C\n",
    "Verify that $(ii)$ holds; namely, verify that $(\\text{soph}\\cap \\text{stat102})^c = \\text{soph}^c \\cup \\text{stat102}^c$."
   ]
  },
  {
   "cell_type": "code",
   "execution_count": null,
   "metadata": {},
   "outputs": [],
   "source": [
    "### Your Code Goes Below ###"
   ]
  },
  {
   "cell_type": "markdown",
   "metadata": {},
   "source": [
    "## Problem 4: Idempotence of set operations\n",
    "\n",
    "In this problem, we will investigate the idea of _idempotence_. Intuitively, an operation is idempotent if applying the operation multiple times yields the same result as applying it just once.\n",
    "\n",
    "Let ```math_and_stat``` be the set of students that are either a mathematics or statistics major (defined in Problem 2), and for any set of students $A$, define the operation $G(A)= A\\cap math\\_and\\_stat$. \n",
    "\n",
    "### Part A\n",
    "Using select operations, define ```fresh```, ```soph```, ```junior```, and ```senior``` be the sets of students that are freshmen, sophomores, juniors, and seniors, respectively."
   ]
  },
  {
   "cell_type": "code",
   "execution_count": null,
   "metadata": {},
   "outputs": [],
   "source": [
    "### Your Code Goes Below ###"
   ]
  },
  {
   "cell_type": "markdown",
   "metadata": {},
   "source": [
    "### Part B \n",
    "Using join operations, verify that $G$ is idempotent; namely verify that $G(G(fresh)) = G(fresh)$, $G(G(soph)) = G(soph)$, $G(G(junior)) = G(junior)$, and $G(G(senior)) = G(senior)$."
   ]
  },
  {
   "cell_type": "code",
   "execution_count": null,
   "metadata": {},
   "outputs": [],
   "source": [
    "### Your Code Goes Below ###"
   ]
  }
 ],
 "metadata": {
  "kernelspec": {
   "display_name": "Python 3",
   "language": "python",
   "name": "python3"
  },
  "language_info": {
   "codemirror_mode": {
    "name": "ipython",
    "version": 3
   },
   "file_extension": ".py",
   "mimetype": "text/x-python",
   "name": "python",
   "nbconvert_exporter": "python",
   "pygments_lexer": "ipython3",
   "version": "3.7.3"
  }
 },
 "nbformat": 4,
 "nbformat_minor": 4
}
