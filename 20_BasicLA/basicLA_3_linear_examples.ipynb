{
 "cells": [
  {
   "cell_type": "markdown",
   "id": "corrected-mistress",
   "metadata": {},
   "source": [
    "# Linear and Nonlinear Functions"
   ]
  },
  {
   "cell_type": "code",
   "execution_count": null,
   "id": "cutting-robinson",
   "metadata": {},
   "outputs": [],
   "source": [
    "import numpy as np\n",
    "import matplotlib.pyplot as plt"
   ]
  },
  {
   "cell_type": "markdown",
   "id": "minimal-taste",
   "metadata": {},
   "source": [
    "## Visualizing Functions\n",
    "\n",
    "\n",
    "A linear function is a function that satisfies or respects or \"preserves\" or \"commutes with\" the two fundamental operations of vector spaces: addition and scalar multiplication.\n",
    "\n",
    "Specifically, if $V$ and $W$ are two vector spaces, then a function $f: V \\to W$ is a _**linear function**_ if and only if:\n",
    "\n",
    "- For any vector $\\mathbf{v} \\in V$ and any (scalar) real number $a \\in \\mathbb{R}$, the function $f$ \"preserves\" i.e., \"commutes with\" scalar multiplication:\n",
    "\n",
    "  $$f (a \\cdot \\mathbf{v}) = a \\cdot f (\\mathbf{v})  \\,.$$\n",
    "\n",
    "- For any two vectors $\\mathbf{v}_1, \\mathbf{v}_2 \\in V$, the function $f$ \"preserves\" i.e., \"commutes with\" addition:\n",
    "\n",
    "  $$ f ( \\mathbf{v}_1 + \\mathbf{v}_2)  = f(\\mathbf{v}_1) + f(\\mathbf{v}_2) \\,.$$\n",
    "\n",
    "Here, we will try to visualize the effects that certain functions $f: \\mathbb{R}^2 \\to \\mathbb{R}^2$ have on vectors; what it looks like when they are linear functions; and what it looks like when they are not linear functions.\n",
    "\n",
    "To visualize the effect of linear functions on $\\mathbb{R}^2$, we will see how these functions 'act' on or transform unit vectors $\\mathbf{v} \\in S = \\{\\mathbf{v} \\mid \\|\\mathbf{v}\\|_2 = 1\\}$.  Below, we produce random points on the unit circle, first by drawing random points, and then normalizing them so that they are all unit vectors."
   ]
  },
  {
   "cell_type": "code",
   "execution_count": null,
   "id": "criminal-energy",
   "metadata": {},
   "outputs": [],
   "source": [
    "np.random.seed(345) #set random seed\n",
    "\n",
    "n_points = 100\n",
    "vv = np.random.normal(size = (2, n_points))\n",
    "vv /= np.linalg.norm(vv, axis=0)\n",
    "plt.scatter(vv[0], vv[1])\n",
    "plt.axis('equal')\n",
    "plt.show()"
   ]
  },
  {
   "cell_type": "markdown",
   "id": "current-machinery",
   "metadata": {},
   "source": [
    "### Functions that preserve neither addition nor scalar multiplication\n",
    "\n",
    "\n",
    "Let's see what happens if we apply the function $\\sin(x)$ to the coordinates of $\\mathbf{v}$ -- i.e., we map $\\mathbf{v} = (v_1,v_2) \\mapsto (\\sin(v_1), \\sin(v_2))$. We can visualize how this mapping transforms points on the unit circle with the following:"
   ]
  },
  {
   "cell_type": "code",
   "execution_count": null,
   "id": "laughing-alliance",
   "metadata": {},
   "outputs": [],
   "source": [
    "plt.scatter(np.sin(vv[0]), np.sin(vv[1]))\n",
    "plt.title('sin(v)')\n",
    "plt.axis('equal')\n",
    "plt.show()"
   ]
  },
  {
   "cell_type": "markdown",
   "id": "arranged-custody",
   "metadata": {},
   "source": [
    "This function transforms the unit disc into a shape which is symmetric about the origin. However, we will see that this function not only fails to preserve addition, it also fails to preserve multiplication too. \n",
    "So transforming the unit disc into a shape which is symmetric about the origin is not enough by itself to guarantee that either of the two operations is preserved.\n",
    "\n",
    "Let's see what happens if we scale the input vectors $\\bf v$ by some value $\\alpha$. We do this by plotting the values $\\sin(\\alpha\\mathbf{v})$ as well as $\\alpha\\cdot\\sin(\\mathbf{v})$. Here we use $\\alpha=2$, but you can try different values as well."
   ]
  },
  {
   "cell_type": "code",
   "execution_count": null,
   "id": "brown-repeat",
   "metadata": {},
   "outputs": [],
   "source": [
    "alpha = 2\n",
    "fig, (ax1, ax2) = plt.subplots(1, 2)\n",
    "ax1.scatter(np.sin(alpha*vv[0]), np.sin(alpha*vv[1]), color='blue')\n",
    "ax2.scatter(alpha*np.sin(vv[0]), alpha*np.sin(vv[1]), color='orange')\n",
    "ax1.axis('equal')\n",
    "ax2.axis('equal')\n",
    "ax1.set_title('sin(alpha*v)')\n",
    "ax2.set_title('alpha*sin(v)')\n",
    "plt.show()"
   ]
  },
  {
   "cell_type": "markdown",
   "id": "enhanced-graduate",
   "metadata": {},
   "source": [
    "As you can see, the condition $f(\\alpha \\mathbf{v}) = \\alpha\\cdot f(\\mathbf{v})$ does _not_ hold for the function $f(\\mathbf{v}) = \\sin(\\mathbf{v})$. Similarly, this function does not preserve addition: namely, for any vectors $\\mathbf{v},\\mathbf{u}$, it is not (in general) the case that $\\sin(\\mathbf{u} + \\mathbf{v}) = \\sin(\\mathbf{u}) + \\sin(\\mathbf{v})$. Let's see this by looking at what we get by adding the vector $\\mathbf{u} = (\\sqrt{2}, -\\sqrt{2})$ to each of the unit vectors $\\mathbf{v}$ from before, and applying the $\\sin$ function to them."
   ]
  },
  {
   "cell_type": "code",
   "execution_count": null,
   "id": "tender-complement",
   "metadata": {},
   "outputs": [],
   "source": [
    "u = np.array([np.sqrt(2), -np.sqrt(2)])\n",
    "\n",
    "fig, (ax1, ax2) = plt.subplots(1, 2)\n",
    "ax1.scatter(np.sin(u[0] + vv[0]), np.sin(u[1] + vv[1]), color='blue')\n",
    "ax2.scatter(np.sin(u[0]) + np.sin(vv[0]), np.sin(u[1]) + np.sin(vv[1]), color='orange')\n",
    "ax1.axis('equal')\n",
    "ax2.axis('equal')\n",
    "ax1.set_title('sin(u+v)')\n",
    "ax2.set_title('sin(u)+ sin(v)')\n",
    "plt.show()"
   ]
  },
  {
   "cell_type": "markdown",
   "id": "qualified-trail",
   "metadata": {},
   "source": [
    "We see clearly that $\\sin(\\mathbf{u} + \\mathbf{v})$ does _not_ give the same value as $\\sin(\\mathbf{u}) + \\sin(\\mathbf{v})$. Therefore, the $\\sin$ function does not satisfy either of the required properties of a linear function.\n",
    "\n",
    "### Functions that preserve scalar multiplication, but not addition\n",
    "\n",
    "There are also functions $f$ which _do_ preserve scalar multplication, but _not_ addition. A function that preserves scalar multiplication but not addition \"acts like a linear function\" on every line through the origin, but it isn't consistent about what it does to different lines. Therefore we need at least a two-dimensional vector space to find a counterexample, since a one-dimensional vector space only has one line through the origin.\n",
    "\n",
    "For the example we give here, it is easiest to work in polar coordinates, wherein we represent a vector $\\mathbf{v}$ as $(r\\cos(\\theta), r\\sin(\\theta))$. Then the function $f$ defined by \n",
    "\n",
    "\n",
    "$$\n",
    "f(r\\cos(\\theta), r\\sin(\\theta)) = \\left(\\frac{r\\cos(\\theta)}{|\\cos(\\theta)|+|\\sin(\\theta)|}, \\frac{r\\sin(\\theta)}{|\\cos(\\theta)|+|\\sin(\\theta)|}\\right)\n",
    "$$\n",
    "\n",
    "\n",
    "satisfies the desired property. As we will see, this function 'bends' the unit circle into a diamond shape. Don't worry about how we came up with this function (in fact, we found it on [stack exchange](https://math.stackexchange.com/questions/2211907/map-not-preserving-vector-addition-but-preserving-scalar-multiplication)); for now, we will just use this as an example to show that such functions do indeed exist. Below we implement the function $f$."
   ]
  },
  {
   "cell_type": "code",
   "execution_count": null,
   "id": "english-fiction",
   "metadata": {},
   "outputs": [],
   "source": [
    "def f(v):\n",
    "    theta = np.arctan2(v[1], v[0])\n",
    "    den = np.abs(np.cos(theta)) + np.abs(np.sin(theta))\n",
    "    fv = v/den\n",
    "    return fv"
   ]
  },
  {
   "cell_type": "markdown",
   "id": "alpine-special",
   "metadata": {},
   "source": [
    "We can plot how this function acts on our vectors $\\mathbf{v}$ with the following:"
   ]
  },
  {
   "cell_type": "code",
   "execution_count": null,
   "id": "bronze-buffer",
   "metadata": {},
   "outputs": [],
   "source": [
    "f_vv = np.array([f(v) for v in vv.T]).T\n",
    "\n",
    "plt.scatter(f_vv[0], f_vv[1])\n",
    "plt.title('f(v)')\n",
    "plt.axis('equal')\n",
    "plt.show()"
   ]
  },
  {
   "cell_type": "markdown",
   "id": "innocent-bennett",
   "metadata": {},
   "source": [
    "As expected, this function transforms the unit circle into a diamond shape. \n",
    "\n",
    "Now, as promised, let's verify that this function preserves scalar multiplication."
   ]
  },
  {
   "cell_type": "code",
   "execution_count": null,
   "id": "tropical-amber",
   "metadata": {},
   "outputs": [],
   "source": [
    "alpha = 2\n",
    "f_alpha_vv = np.array([f(alpha*v) for v in vv.T]).T\n",
    "\n",
    "fig, (ax1, ax2) = plt.subplots(1, 2)\n",
    "ax1.scatter(alpha*f_vv[0], alpha*f_vv[1], color='blue')\n",
    "ax2.scatter(f_alpha_vv[0], f_alpha_vv[1], color='orange')\n",
    "ax1.axis('equal')\n",
    "ax2.axis('equal')\n",
    "ax1.set_title('alpha*f(v)')\n",
    "ax2.set_title('f(alpha*v)')\n",
    "plt.show()"
   ]
  },
  {
   "cell_type": "markdown",
   "id": "rocky-volume",
   "metadata": {},
   "source": [
    "As we can see, the plot of $f(\\alpha \\mathbf{v})$ completely overlaps the plot of $\\alpha\\cdot f(\\mathbf{v})$, since the two are indeed equal. \n",
    "\n",
    "However, the function $f$ is not additive. We can see this visually as well."
   ]
  },
  {
   "cell_type": "code",
   "execution_count": null,
   "id": "relevant-greensboro",
   "metadata": {},
   "outputs": [],
   "source": [
    "u = np.array([np.sqrt(2), -np.sqrt(2)])\n",
    "\n",
    "f_u_plus_vv = np.array([f(u + v) for v in vv.T]).T\n",
    "f_u = f(u)\n",
    "\n",
    "fig, (ax1, ax2) = plt.subplots(1, 2)\n",
    "ax1.scatter(f_u_plus_vv[0], f_u_plus_vv[1], color='blue')\n",
    "ax2.scatter(f_u[0] + f_vv[0], f_u[1] + f_vv[1], color='orange')\n",
    "ax1.axis('equal')\n",
    "ax2.axis('equal')\n",
    "ax1.set_title('f(u+v)')\n",
    "ax2.set_title('f(u) + f(v)')\n",
    "plt.show()"
   ]
  },
  {
   "cell_type": "markdown",
   "id": "broadband-skiing",
   "metadata": {},
   "source": [
    "Indeed, $f(\\mathbf{u} + \\mathbf{v})$ and $f(\\mathbf{u}) + f(\\mathbf{v})$ do not give the same output.\n",
    "\n",
    "### Functions that preserve addition, but not scalar multiplication\n",
    "\n",
    "\n",
    "There are no continuous functions which have this property for real vector spaces (i.e. vector spaces whose scalars are real numbers). This is in fact due to a property of rational numbers, but what is important to note is that we will not encounter any such functions when working with real vector spaces.\n",
    "\n",
    "However, for fun, we give an example of a continuous function which preserves addition, but not scalar multiplication, for the complex plane $\\mathbb{C}$ considered as a complex vector space, i.e., a vector space whose scalars are complex numbers. \n",
    "Specifically, the function:\n",
    "\n",
    "$$ f: a + bi \\mapsto a - bi$$\n",
    "\n",
    "preserves addition, i.e., $f(\\mathbf{z}_1 + \\mathbf{z}_2) = f(\\mathbf{z}_1) + f(\\mathbf{z}_2)$, but it does not preserve scalar multiplication, e.g., if the scalar $c = i$, and the \"vector\" $\\mathbf{z} = 2 + 3i$, then $f(\\mathbf{z}) = 2 - 3i$, $c \\cdot \\mathbf{z} = -3 + 2i$, so that  $f(c \\cdot \\mathbf{z}) = -3 - 2i$, but $c \\cdot f(\\mathbf{z}) = 3 + 2i$. \n",
    "This function is called taking the \"conjugate\" of the complex number.\n",
    "\n",
    "\n",
    "### Functions that preserve addition and scalar multiplication: linear functions\n",
    "\n",
    "\n",
    "Now that we've seen many examples of functions which _are not_ linear, let's move on to functions which are linear. Such functions are at the heart of linear algebra. In what follows, we plot examples of linear functions, and in the homework you will use scatter plots like the ones above to verify that the examples given here do indeed satisfy the two properties of linear functions. \n",
    "\n",
    "\n",
    "#### An example: Rotation\n",
    "\n",
    "Let's first consider the function $f(\\mathbf{v})$ which takes any vector $\\mathbf{v} = (v_1,v_2)$ and rotates it by $\\theta$ degrees. This function is given by the following:\n",
    "\n",
    "$$\n",
    "f(v_1, v_2) = \\left(\\cos(\\theta)v_1 - \\sin(\\theta)v_2, \\sin(\\theta)v_1 + \\cos(\\theta)v_2\\right)\n",
    "$$\n",
    "\n",
    "We implement this function below with $\\theta = 45^\\circ$ as the default."
   ]
  },
  {
   "cell_type": "code",
   "execution_count": null,
   "id": "painted-attachment",
   "metadata": {},
   "outputs": [],
   "source": [
    "def rotate(v, theta=np.pi/4):\n",
    "    return np.array([np.cos(theta)*v[0] - np.sin(theta)*v[1], np.sin(theta)*v[0] + np.cos(theta)*v[1]])"
   ]
  },
  {
   "cell_type": "markdown",
   "id": "increasing-evening",
   "metadata": {},
   "source": [
    "Here, we give points different colors, so that you can verify that the circle on the right is indeed the circle on the left rotated by 45 degrees:"
   ]
  },
  {
   "cell_type": "code",
   "execution_count": null,
   "id": "nominated-briefing",
   "metadata": {},
   "outputs": [],
   "source": [
    "#here we sort the points by their angles from the origin so that the plot coloring looks nice\n",
    "angles = np.arccos(np.dot(vv.T, np.array([1,0])).flatten())\n",
    "angles_ix = np.argsort(angles)\n",
    "vv = vv[:, angles_ix]\n",
    "\n",
    "f_vv = np.array([rotate(v) for v in vv.T]).T\n",
    "\n",
    "fig, (ax1, ax2) = plt.subplots(1, 2)\n",
    "ax1.scatter(vv[0], vv[1], c=np.arange(n_points))\n",
    "ax2.scatter(f_vv[0], f_vv[1], c=np.arange(n_points))\n",
    "ax1.axis('equal')\n",
    "ax2.axis('equal')\n",
    "ax1.set_title('vectors on unit circle')\n",
    "ax2.set_title('vectors rotated by 45 degrees')\n",
    "plt.show()"
   ]
  },
  {
   "cell_type": "markdown",
   "id": "fourth-soccer",
   "metadata": {},
   "source": [
    "Notice how the resulting shape is symmetric about the origin, as it should be for any function that preserves scalar multiplication. You'll verify this, as well as the fact that this function preserves addition, visually on the homework.\n",
    "\n",
    "#### An example: Stretching\n",
    "\n",
    "Next, let's consider the function $f(\\mathbf{v})$ which takes a vector $\\mathbf{v} = (v_1,v_2)$ and 'stretches' it by a factor of $\\alpha$ along the x-axis and  $\\beta$ along the y-axes. \n",
    "The function which performs this operations is given by\n",
    "\n",
    "$$\n",
    "f(v_1,v_2) = (\\alpha v_1, \\beta v_2)\n",
    "$$\n",
    "\n",
    "Let's implement it in a simple Python function, with $\\alpha=2,\\beta=1$ as the default."
   ]
  },
  {
   "cell_type": "code",
   "execution_count": null,
   "id": "useful-handbook",
   "metadata": {},
   "outputs": [],
   "source": [
    "def stretch(v, alpha=2, beta=1):\n",
    "    return np.array([alpha*v[0], beta*v[1]])\n",
    "\n",
    "f_vv = np.array([stretch(v) for v in vv.T]).T\n",
    "fig, (ax1, ax2) = plt.subplots(1, 2)\n",
    "ax1.scatter(vv[0], vv[1], c=np.arange(n_points))\n",
    "ax2.scatter(f_vv[0], f_vv[1], c=np.arange(n_points))\n",
    "ax1.axis('equal')\n",
    "ax2.axis('equal')\n",
    "ax1.set_title('vectors on unit circle')\n",
    "ax2.set_title('vectors stretched by 2 on x-axis')\n",
    "plt.show()"
   ]
  },
  {
   "cell_type": "markdown",
   "id": "sharing-messaging",
   "metadata": {},
   "source": [
    "This function again preserves scalar multiplication and addition, as you will verify visually on the homework.\n",
    "\n",
    "#### An example: Projection\n",
    "\n",
    "The last type of linear function which we will consider are special types of functions called _projections_. We'll talk much more about projections later, but for now let's look at an example. \n",
    "The function\n",
    "\n",
    "\n",
    "$$\n",
    "f(v_1,v_2) = \\left(\\frac{1}{2}(v_1 + v_2), \\frac{1}{2}(v_1 + v_2)\\right)\n",
    "$$\n",
    "\n",
    "\n",
    "takes any vector $\\mathbf{v} = (v_1,v_2)$, and maps it to an element of the set $L = \\{(x,y)\\mid x=y\\}$, which is just the $y=x$ line in the plane. Let's visualize this:"
   ]
  },
  {
   "cell_type": "code",
   "execution_count": null,
   "id": "transparent-stability",
   "metadata": {},
   "outputs": [],
   "source": [
    "def project_to_line(v):\n",
    "    return np.array([0.5*(v[0] + v[1]), 0.5*(v[0] + v[1])])\n",
    "\n",
    "f_vv = np.array([project_to_line(v) for v in vv.T]).T\n",
    "\n",
    "fig, (ax1, ax2) = plt.subplots(1, 2)\n",
    "ax1.scatter(vv[0], vv[1], c=np.arange(n_points))\n",
    "ax2.scatter(f_vv[0], f_vv[1], c=np.arange(n_points))\n",
    "ax1.axis('equal')\n",
    "ax2.axis('equal')\n",
    "ax1.set_title('vectors on unit circle')\n",
    "ax2.set_title('vectors projected onto the line y=x')\n",
    "plt.show()"
   ]
  },
  {
   "cell_type": "markdown",
   "id": "established-martial",
   "metadata": {},
   "source": [
    "Here we again color code the plotted points, so that you can see visually where each point is mapped to by $f$. As you can see, some points with different colors overlap. If we only plot points on one side of the circle, we see more clearly how these points are mapped to the line."
   ]
  },
  {
   "cell_type": "code",
   "execution_count": null,
   "id": "operating-belief",
   "metadata": {},
   "outputs": [],
   "source": [
    "points_to_plot = 25\n",
    "\n",
    "fig, (ax1, ax2) = plt.subplots(1, 2)\n",
    "ax1.scatter(vv[0, :points_to_plot], vv[1, :points_to_plot], c=np.arange(points_to_plot))\n",
    "ax2.scatter(f_vv[0, :points_to_plot], f_vv[1, :points_to_plot], c=np.arange(points_to_plot))\n",
    "ax1.axis('equal')\n",
    "ax2.axis('equal')\n",
    "ax1.set_title('vectors on unit circle')\n",
    "ax2.set_title('vectors projected onto the line y=x')\n",
    "plt.show()"
   ]
  },
  {
   "cell_type": "markdown",
   "id": "static-columbia",
   "metadata": {},
   "source": [
    "You will again verify visually in the homework that this map preserves scalar multiplication and is additive. Projections are an important type of linear function, which will encounter frequently later on in the class.\n",
    "\n",
    "### Composition of linear functions\n",
    "\n",
    "An important property of linear functions is that their composition is also linear. To see this, suppose that $f$ and $g$ are both linear functions, and let $\\alpha$ be a scalar, $\\mathbf{u},\\mathbf{v}$ be vectors. Then\n",
    "\n",
    "\n",
    "$$\n",
    "(g\\circ f)(\\mathbf{u} + \\mathbf{v}) = g(f(\\mathbf{u} + \\mathbf{v})) = g(f(\\mathbf{u}) + f(\\mathbf{v})) = g(f(\\mathbf{u})) + g(f(\\mathbf{v})) = (g\\circ f)(\\mathbf{u}) + (g\\circ f)(\\mathbf{v})\n",
    "$$\n",
    "\n",
    "\n",
    "Indeed, let's try composing two of the functions from the previous section. First, let's try composing `rotate` with `stretch`."
   ]
  },
  {
   "cell_type": "code",
   "execution_count": null,
   "id": "thorough-separate",
   "metadata": {},
   "outputs": [],
   "source": [
    "composed_vv = np.array([rotate(stretch(v)) for v in vv.T]).T\n",
    "fig, (ax1, ax2) = plt.subplots(1, 2)\n",
    "ax1.scatter(vv[0], vv[1], c=np.arange(n_points))\n",
    "ax2.scatter(composed_vv[0], composed_vv[1], c=np.arange(n_points))\n",
    "ax1.axis('equal')\n",
    "ax2.axis('equal')\n",
    "ax1.set_title('vectors on unit circle')\n",
    "ax2.set_title('vectors stretched, then rotated')\n",
    "plt.show()"
   ]
  },
  {
   "cell_type": "markdown",
   "id": "cleared-clark",
   "metadata": {},
   "source": [
    "Similarly, we can also compose the other way: first rotating, and then stretching."
   ]
  },
  {
   "cell_type": "code",
   "execution_count": null,
   "id": "rural-temple",
   "metadata": {},
   "outputs": [],
   "source": [
    "composed_vv2 = np.array([stretch(rotate(v)) for v in vv.T]).T\n",
    "fig, (ax1, ax2) = plt.subplots(1, 2)\n",
    "ax1.scatter(vv[0], vv[1], c=np.arange(n_points))\n",
    "ax2.scatter(composed_vv2[0], composed_vv2[1], c=np.arange(n_points))\n",
    "ax1.axis('equal')\n",
    "ax2.axis('equal')\n",
    "ax1.set_title('vectors on unit circle')\n",
    "ax2.set_title('vectors rotated, then stretched')\n",
    "plt.show()"
   ]
  },
  {
   "cell_type": "markdown",
   "id": "liable-representation",
   "metadata": {},
   "source": [
    "As we can see, these two compositions give us different functions. This is an important example of when function compositions do not _commute_ -- i.e. that $f\\circ g \\neq g\\circ f$. We will see later on that only very special linear functions commute when composed."
   ]
  },
  {
   "cell_type": "code",
   "execution_count": null,
   "id": "ignored-dakota",
   "metadata": {},
   "outputs": [],
   "source": []
  },
  {
   "cell_type": "code",
   "execution_count": null,
   "id": "young-listing",
   "metadata": {},
   "outputs": [],
   "source": []
  },
  {
   "cell_type": "code",
   "execution_count": null,
   "id": "signed-history",
   "metadata": {},
   "outputs": [],
   "source": []
  }
 ],
 "metadata": {
  "kernelspec": {
   "display_name": "Python 3",
   "language": "python",
   "name": "python3"
  }
 },
 "nbformat": 4,
 "nbformat_minor": 5
}
