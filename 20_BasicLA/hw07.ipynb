{
 "cells": [
  {
   "cell_type": "markdown",
   "id": "unable-armstrong",
   "metadata": {},
   "source": [
    "# Homework 7"
   ]
  },
  {
   "cell_type": "markdown",
   "id": "visible-activation",
   "metadata": {},
   "source": [
    "## Problem 1: checking if a linear function is injective\n",
    "\n",
    "As we saw in class, we can check whether a linear transformation $f(x) = Ax$ is injective by checking if the matrix $A^\\top A$ is invertible. \n",
    "\n",
    "For each of the following matrices $A$, use the `np.linalg.inv()` function to check whether $f(x) = Ax$ is injective. If it is, then verify that the function $g(y) = (A^\\top A)^{-1}A^\\top y$ is a left inverse for $f(x)$. (Hint: $g(y) = By$ is a left inverse for $f(x) = Ax$ if and only if $BA = I$)."
   ]
  },
  {
   "cell_type": "markdown",
   "id": "optical-january",
   "metadata": {},
   "source": [
    "### Part A.\n",
    "\n",
    "$$\n",
    "A =  \\begin{bmatrix}\n",
    "1 & 0 & 0 \\\\\n",
    "0 & 1 & 0 \\\\\n",
    "0 & 0 & 1 \\\\\n",
    "0 & 0 & 0 \n",
    "\\end{bmatrix}\n",
    "$$"
   ]
  },
  {
   "cell_type": "code",
   "execution_count": 16,
   "id": "lucky-valve",
   "metadata": {},
   "outputs": [],
   "source": []
  },
  {
   "cell_type": "markdown",
   "id": "acceptable-phrase",
   "metadata": {},
   "source": [
    "### Part B.\n",
    "$$\n",
    "A =  \\begin{bmatrix}\n",
    "1 & 0 & 1 \\\\\n",
    "1 & 1 & 0 \\\\\n",
    "0 & 0 & 0 \\\\\n",
    "2 & 1 & 1 \n",
    "\\end{bmatrix}\n",
    "$$"
   ]
  },
  {
   "cell_type": "code",
   "execution_count": null,
   "id": "worth-delicious",
   "metadata": {},
   "outputs": [],
   "source": []
  },
  {
   "cell_type": "markdown",
   "id": "trying-designer",
   "metadata": {},
   "source": [
    "### Part C.\n",
    "$$\n",
    "A =  \\begin{bmatrix}\n",
    "1 & 0 & -1 & 3 & 0\\\\\n",
    "0 & 1 & 2 & 0 & 1\\\\\n",
    "-1 & 0 &-2 & -2 & 0\n",
    "\\end{bmatrix}\n",
    "$$"
   ]
  },
  {
   "cell_type": "code",
   "execution_count": null,
   "id": "divided-dance",
   "metadata": {},
   "outputs": [],
   "source": []
  },
  {
   "cell_type": "markdown",
   "id": "joined-fault",
   "metadata": {},
   "source": [
    "## Problem 2: checking if a linear function is surjective\n",
    "\n",
    "As we saw in class, we can check whether a linear transformation $f(x) = Ax$ is surjective by checking if the matrix $AA^\\top$ is invertible. \n",
    "\n",
    "For each of the following matrices $A$, use the `np.linalg.inv()` function to check whether $f(x) = Ax$ is surjective. If it is, then verify that the function $g(y) = A^\\top(A A^\\top)^{-1} y$ is a right inverse for $f(x)$. (Hint: $g(y) = By$ is a right inverse for $f(x) = Ax$ if and only if $AB = I$)."
   ]
  },
  {
   "cell_type": "markdown",
   "id": "cross-banking",
   "metadata": {},
   "source": [
    "### Part A.\n",
    "$$\n",
    "A =  \\begin{bmatrix}\n",
    "2 & 0 & 6 & 0 & 1\\\\\n",
    "0 & 1 & -1 & 2 & 3\\\\\n",
    "-1 & 2 & 0 & 1 & 0\n",
    "\\end{bmatrix}\n",
    "$$"
   ]
  },
  {
   "cell_type": "code",
   "execution_count": null,
   "id": "likely-casino",
   "metadata": {},
   "outputs": [],
   "source": []
  },
  {
   "cell_type": "markdown",
   "id": "statistical-unemployment",
   "metadata": {},
   "source": [
    "### Part B.\n",
    "$$\n",
    "A =  \\begin{bmatrix}\n",
    "1 & -1 & 7 \\\\\n",
    "2 & 1 & 3 \\\\\n",
    "-4 & 0 & 1 \\\\\n",
    "2 & 6 & -2 \n",
    "\\end{bmatrix}\n",
    "$$"
   ]
  },
  {
   "cell_type": "code",
   "execution_count": null,
   "id": "boring-rover",
   "metadata": {},
   "outputs": [],
   "source": []
  },
  {
   "cell_type": "markdown",
   "id": "descending-shame",
   "metadata": {},
   "source": [
    "### Part C.\n",
    "$$\n",
    "A =  \\begin{bmatrix}\n",
    "1 & 0 & -1 & 1 \\\\\n",
    "0 & 1 & 1 & 0 \\\\\n",
    "-1 & 1 &2 & -1 \n",
    "\\end{bmatrix}\n",
    "$$"
   ]
  },
  {
   "cell_type": "code",
   "execution_count": null,
   "id": "automatic-fortune",
   "metadata": {},
   "outputs": [],
   "source": []
  },
  {
   "cell_type": "markdown",
   "id": "comparative-fundamental",
   "metadata": {},
   "source": [
    "## Problem 3: changing between bases\n",
    "\n",
    "Consider the bases $B_1 = \\{v_1,v_2,v_3\\}$ and $B_2 = \\{u_1, u_2, u_3\\}$ where\n",
    "\n",
    "$$\n",
    "v_1 = \\begin{pmatrix}1\\\\ 0 \\\\ 0 \\end{pmatrix}, v_2 = \\begin{pmatrix}1\\\\ 1 \\\\ 0 \\end{pmatrix}, v_3 = \\begin{pmatrix}1\\\\ 1 \\\\ 1 \\end{pmatrix}\n",
    "$$\n",
    "\n",
    "and\n",
    "\n",
    "$$\n",
    "u_1 = \\begin{pmatrix}-1\\\\ 0 \\\\ 1 \\end{pmatrix}, u_2 = \\begin{pmatrix}1\\\\ 2 \\\\ 0 \\end{pmatrix}, u_3 = \\begin{pmatrix}2\\\\ -3 \\\\ 4 \\end{pmatrix}\n",
    "$$\n",
    "\n",
    "and let $x= \\begin{pmatrix}1\\\\ 2\\\\ 3 \\end{pmatrix}$ be a vector with respect to the standard basis. Also, denote $E = \\{e_1,e_2,e_3\\}$ the standard basis for $\\mathbb{R}^3$.\n",
    "\n",
    "### Part A.\n",
    "Compute the change of basis matrix $T_{E \\to B_1}$, and use it to find the coordinates $\\alpha = (\\alpha_1, \\alpha_2,\\alpha_3)$ of $x$ with respect to $B_1$. Verify that $x = \\alpha_1 v_1 + \\alpha_2 v_2 + \\alpha_3 v_3$."
   ]
  },
  {
   "cell_type": "code",
   "execution_count": null,
   "id": "final-munich",
   "metadata": {},
   "outputs": [],
   "source": []
  },
  {
   "cell_type": "markdown",
   "id": "final-little",
   "metadata": {},
   "source": [
    "### Part B.\n",
    "Compute the change of basis matrix $T_{E \\to B_2}$, and use it to find the coordinates $\\beta = (\\beta_1, \\beta_2,\\beta_3)$ of $x$ with respect to $B_2$. Verify that $x = \\beta_1 u_1 + \\beta_2 u_2 + \\beta_3 u_3$."
   ]
  },
  {
   "cell_type": "code",
   "execution_count": null,
   "id": "assisted-wagner",
   "metadata": {},
   "outputs": [],
   "source": []
  },
  {
   "cell_type": "markdown",
   "id": "prompt-discount",
   "metadata": {},
   "source": [
    "### Part C. \n",
    "Compute the change of basis matrix $T_{B_1 \\to B_2}$, and apply it to your vector $\\alpha$ from Part A. Verify that your answer matches that from Part B."
   ]
  },
  {
   "cell_type": "code",
   "execution_count": null,
   "id": "alive-petite",
   "metadata": {},
   "outputs": [],
   "source": []
  },
  {
   "cell_type": "markdown",
   "id": "historic-physiology",
   "metadata": {},
   "source": [
    "### Part D.\n",
    "Find the matrices $A_{B_1}$ and $A_{B_2}$ representing the matrix $A = \\begin{bmatrix} 1 & 2& 3\\\\ -1 & 4& 0\\\\ 0 &1 &2\\end{bmatrix}$ with respect to the bases $B_1$ and $B_2$."
   ]
  },
  {
   "cell_type": "code",
   "execution_count": null,
   "id": "basic-supply",
   "metadata": {},
   "outputs": [],
   "source": []
  },
  {
   "cell_type": "markdown",
   "id": "ceramic-edgar",
   "metadata": {},
   "source": [
    "## Problem 4: associativity and efficiency of inner and outer products\n",
    "\n",
    "In last week's written homework, you saw that while for any vectors $a,b,c$, we always have that $(a^\\top b)c = (ca^\\top)b$, these two approaches to computing this same vector have different storage costs. In this problem, we will verify this fact numerically.\n",
    "\n",
    "### Part A.\n",
    "For each value of $d = 50, 100, 150, \\dots, 1000$, define three random vectors $a,b,c \\in \\mathbb{R}^d$ and verify that $(a^\\top b)c = (ca^\\top)b$. (Hint: you can use the numpy function `np.outer(c,a)` to compute $ca^\\top$.)"
   ]
  },
  {
   "cell_type": "code",
   "execution_count": null,
   "id": "perceived-chosen",
   "metadata": {},
   "outputs": [],
   "source": []
  },
  {
   "cell_type": "markdown",
   "id": "knowing-europe",
   "metadata": {},
   "source": [
    "## Part B.\n",
    "In numpy, we can check the number of bytes of memory needed to store an array `A` using `A.nbytes`. We give an example below."
   ]
  },
  {
   "cell_type": "code",
   "execution_count": 1,
   "id": "polar-zealand",
   "metadata": {},
   "outputs": [
    {
     "data": {
      "text/plain": [
       "24"
      ]
     },
     "execution_count": 1,
     "metadata": {},
     "output_type": "execute_result"
    }
   ],
   "source": [
    "import numpy as np\n",
    "\n",
    "A = np.array([1.6,-2.2,3.1])\n",
    "A.nbytes"
   ]
  },
  {
   "cell_type": "markdown",
   "id": "removed-threshold",
   "metadata": {},
   "source": [
    "Here we see that the array `[1.6,-2.2,3.1]` requires 24 bytes of memory to store.\n",
    "\n",
    "Repeat the steps in Part A, and for each value of $d$, compute the total memory needed to compute $(a^\\top b)c$ and $(ca^\\top)b$. That is, for $(a^\\top b)c$ compute the number of bytes needed to store $(a^\\top b)$ plus the number of bytes needed to store $c$, and for $(ca^\\top)b$ compute the number of bytes neeeded to store $ca^\\top$ plus the number bytes needed to store $b$. Which method ($(a^\\top b)c$ or $(ca^\\top)b$) requires less storage?"
   ]
  },
  {
   "cell_type": "code",
   "execution_count": null,
   "id": "unlikely-sample",
   "metadata": {},
   "outputs": [],
   "source": []
  }
 ],
 "metadata": {
  "kernelspec": {
   "display_name": "Python 3",
   "language": "python",
   "name": "python3"
  },
  "language_info": {
   "codemirror_mode": {
    "name": "ipython",
    "version": 3
   },
   "file_extension": ".py",
   "mimetype": "text/x-python",
   "name": "python",
   "nbconvert_exporter": "python",
   "pygments_lexer": "ipython3",
   "version": "3.7.7"
  }
 },
 "nbformat": 4,
 "nbformat_minor": 5
}
