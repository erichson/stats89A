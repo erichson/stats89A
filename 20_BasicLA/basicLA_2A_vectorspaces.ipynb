{
 "cells": [
  {
   "cell_type": "markdown",
   "id": "marine-essex",
   "metadata": {},
   "source": [
    "# Vectors and vector spaces"
   ]
  },
  {
   "cell_type": "code",
   "execution_count": null,
   "id": "printable-elite",
   "metadata": {},
   "outputs": [],
   "source": [
    "import numpy as np\n",
    "import matplotlib.pyplot as plt\n",
    "%matplotlib inline"
   ]
  },
  {
   "cell_type": "markdown",
   "id": "spectacular-particle",
   "metadata": {},
   "source": [
    "## Real Vector Spaces\n",
    "\n",
    "In data science, we often want to view vectors as a one-dimensional data array (like a list of numbers) that represents a point in a higher-dimensional analogue of the two-dimensional Euclidean plane. \n",
    "To be able to manipulate vectors, it is important to understand that such a vector is an element of a vector space, where a vector space is an abstract thing whose elements satisfy certain mathematical rules.\n",
    "These rules are essentially vector addition and scalar multiplication. \n",
    "Anything that satisfies these rules is a vector. \n",
    "Here we limit out discussion to real vector spaces, meaning vector spaces involving real numbers, since in data science we typically deal with real vectors and real scalars. \n",
    "\n",
    "Here is a definition for real vector spaces. \n",
    "A vector space is a set $\\mathbf{V}$ equipped with two operations:\n",
    "* (i) Addition: adding any pair of vectors $\\mathbf{v},\\mathbf{w} \\in \\mathbf{V}$ yields another vector $\\mathbf{z}=\\mathbf{v}+\\mathbf{w}$ that is also in the same vector space, i.e., $\\mathbf{z}=\\mathbf{v}+\\mathbf{w} \\in \\mathbf{V}$\n",
    "* (ii) Scalar Multiplication: multiplying a vector $\\mathbf{v} \\in \\mathbf{V}$ by a scalar $c \\in \\mathbb{R}$ yields another vector $\\mathbf{z}=c \\mathbf{v}$ that is also in the same vector space, i.e., $\\mathbf{z} = c \\mathbf{v} \\in \\mathbf{V}$.\n",
    "\n",
    "The  operations  of  adding  two  vectors  and  multiplying  a  vector  by  a  scalar  are  simple,  but  they  are very powerful.  \n",
    "Indeed, these two operations form the foundation for all of linear algebra.  \n",
    "One reason the two operations of adding two vectors and multiplying a vector by a scalar are so powerful is that the output of each of these two operations is itself a vector, upon which these operations can be performed again. \n",
    "Further, these two operations obey the following axioms, that are valid for all $\\bf u, v,w \\in \\bf V$ and all scalars $c,d \\in \\mathbb{R}$:\n",
    "\n",
    "* Commutativity of addition: $\\bf v + w = w + v$.\n",
    "* Associativity of addition: $\\bf u + (v+w) = (u+v) + w$.\n",
    "* Additive identity: There is a element $\\bf 0 \\in V$ that satisfy $\\bf v + 0 = v$ and $\\bf 0+v=v$.\n",
    "* Additive inverse: For each $\\bf v \\in V$ there is an element $\\bf -v \\in V$ such that $\\bf v+(-v) = 0$ and $-v+v = 0$.\n",
    "* Distributivity of scalar multiplication: $(c+d) \\mathbf{v} = (c\\mathbf{v} ) + (d\\mathbf{v})$, and $c (\\mathbf{v}+\\mathbf{w)} = (c\\mathbf{v} ) + (c\\mathbf{w})$.\n",
    "* Associativity of scalar multiplication: $c(d\\mathbf{v}) = (cd)\\mathbf{v}$.\n",
    "* Unit for scalar multiplication: the scalar $1\\in \\mathbb{R}$ satisfies $1\\mathbf{v}=\\mathbf{v}$.\n",
    "\n",
    "To better understand the two operations and the axioms, it is best to start by looking at vectors in $2$ dimensions. \n",
    "In the following, we will use the two vectors $\\bf v$ and $\\bf w$ that are vectors in $\\bf v,w \\in \\mathbb{R}^2$."
   ]
  },
  {
   "cell_type": "code",
   "execution_count": null,
   "id": "north-links",
   "metadata": {},
   "outputs": [],
   "source": [
    "v = np.array([3,1])\n",
    "w = np.array([2,4])"
   ]
  },
  {
   "cell_type": "markdown",
   "id": "swedish-renaissance",
   "metadata": {},
   "source": [
    "You know already how add two vectors,\n",
    "\n",
    "\n",
    "\n",
    "$$ \\mathbf{v} + \\mathbf{w} =\n",
    "\\begin{bmatrix} \n",
    "v_{1}+w_{1}   \\\\\n",
    "v_{2}+w_{2}   \\\\\n",
    "\\end{bmatrix},$$\n",
    "\n",
    "\n",
    "\n",
    "and we see indeed that addition produces another vector in $\\mathbb{R}^2$. Let's use NumPy to do the computations."
   ]
  },
  {
   "cell_type": "code",
   "execution_count": null,
   "id": "indoor-force",
   "metadata": {},
   "outputs": [],
   "source": [
    "v+w"
   ]
  },
  {
   "cell_type": "markdown",
   "id": "varying-monte",
   "metadata": {},
   "source": [
    "You can also simply check whether the axioms that we formulated above hold for this example, for instance, we can start by checking commutativity of addition."
   ]
  },
  {
   "cell_type": "code",
   "execution_count": null,
   "id": "turkish-surface",
   "metadata": {},
   "outputs": [],
   "source": [
    "v+w == w+v"
   ]
  },
  {
   "cell_type": "markdown",
   "id": "impossible-render",
   "metadata": {},
   "source": [
    "It is also easy to verify that the additive inverse holds for this example."
   ]
  },
  {
   "cell_type": "code",
   "execution_count": null,
   "id": "grave-jefferson",
   "metadata": {},
   "outputs": [],
   "source": [
    "-v + v"
   ]
  },
  {
   "cell_type": "markdown",
   "id": "humanitarian-journalist",
   "metadata": {},
   "source": [
    "You can try and check all the other axioms yourself. In any case, it is often a good idea to visualize vectors in the the two-dimensional plane to build some intuition. Here we think about vectors in a geometric sense."
   ]
  },
  {
   "cell_type": "code",
   "execution_count": null,
   "id": "automated-render",
   "metadata": {},
   "outputs": [],
   "source": [
    "origin = np.zeros(2) # we need to define the origin of the coordinate system\n",
    "plt.figure(figsize=(5,5))\n",
    "plt.quiver(*origin, *v, color=['r'], scale=1, units='xy') # plot the vector v\n",
    "plt.quiver(*origin, *w, color=['b'], scale=1, units='xy') # plot the vector w\n",
    "plt.quiver(*origin, *v+w, color=['g'], scale=1, units='xy') # plot the vector v+w\n",
    "plt.grid()\n",
    "\n",
    "plt.xlim(-1,5)\n",
    "plt.ylim(-1,5)\n",
    "plt.gca().set_aspect('equal')\n",
    "plt.show()"
   ]
  },
  {
   "cell_type": "markdown",
   "id": "serious-drilling",
   "metadata": {},
   "source": [
    "In the above, we use the `quiver` function from `matplotlib`, allows us to visualize vectors. \n",
    "\n",
    "The law of parallelogram of vector addition states that if two adjacent sides of a parallelogram represents two given vectors in magnitude and direction, then the diagonal starting from the intersection of two vectors represent their sum."
   ]
  },
  {
   "cell_type": "code",
   "execution_count": null,
   "id": "average-romantic",
   "metadata": {},
   "outputs": [],
   "source": [
    "plt.figure(figsize=(5,5))\n",
    "plt.quiver(*origin, *v, color=['r'], scale=1, units='xy') # plot the vector v\n",
    "plt.quiver(*v, *w, color=['b'], scale=1, units='xy') # plot the vector w\n",
    "\n",
    "plt.quiver(*origin, *w, color=['b'], scale=1, units='xy') # plot the vector v\n",
    "plt.quiver(*w, *v, color=['r'], scale=1, units='xy') # plot the vector w\n",
    "\n",
    "plt.quiver(*origin, *v+w, color=['g'], scale=1, units='xy') # plot the vector v+w\n",
    "plt.grid()\n",
    "plt.xlim(-1,5)\n",
    "plt.ylim(-1,5)\n",
    "plt.gca().set_aspect('equal')\n",
    "plt.show()"
   ]
  },
  {
   "cell_type": "markdown",
   "id": "micro-halifax",
   "metadata": {},
   "source": [
    "These concepts generalize to higher dimensional spaces, of course. While it becomes difficult to visualize for high-dimensional spaces, we can still visualize vectors in a 3 dimensional space. Let's consider the following 3 vectors."
   ]
  },
  {
   "cell_type": "code",
   "execution_count": null,
   "id": "hidden-beginning",
   "metadata": {},
   "outputs": [],
   "source": [
    "x = np.array([3,1,2])\n",
    "y = np.array([2,2,2])\n",
    "z = np.array([1,2,3])"
   ]
  },
  {
   "cell_type": "markdown",
   "id": "daily-frost",
   "metadata": {},
   "source": [
    "We can also add the three vectors."
   ]
  },
  {
   "cell_type": "code",
   "execution_count": null,
   "id": "confident-success",
   "metadata": {},
   "outputs": [],
   "source": [
    "xyz = x + y + z\n",
    "print(xyz)"
   ]
  },
  {
   "cell_type": "markdown",
   "id": "generous-danger",
   "metadata": {},
   "source": [
    "Now, let's plot the three vectors and the new vector that is produced by vector addition in 3d."
   ]
  },
  {
   "cell_type": "code",
   "execution_count": null,
   "id": "stunning-flavor",
   "metadata": {},
   "outputs": [],
   "source": [
    "origin = np.zeros(3) # we need to define the origin of the coordinate system\n",
    "\n",
    "fig = plt.figure(figsize=(7,7))\n",
    "ax = fig.gca(projection='3d')\n",
    "\n",
    "ax.quiver(*origin,*x, length=1, arrow_length_ratio=0.1, colors='b') # blue\n",
    "ax.quiver(*origin,*y, length=1, arrow_length_ratio=0.1, colors='g') # green\n",
    "ax.quiver(*origin,*z, length=1, arrow_length_ratio=0.1, colors='y') # yellow\n",
    "\n",
    "ax.quiver(*origin,*xyz, arrow_length_ratio=0.05, colors='r') # red\n",
    "\n",
    "plt.grid()\n",
    "ax.set_xlim(-1,6)\n",
    "ax.set_ylim(-1,6)\n",
    "ax.set_zlim(-1,6)\n",
    "\n",
    "plt.show()"
   ]
  },
  {
   "cell_type": "markdown",
   "id": "convinced-sapphire",
   "metadata": {},
   "source": [
    "### Linear Combinations\n",
    "\n",
    "So far we have seen how vector addition produces a new vector. \n",
    "However, we can also compute a weighted sum that takes the form:\n",
    "\n",
    "\n",
    "$$\n",
    "c_1 \\mathbf{v}_1 + c_2 \\mathbf{v}_2 + \\dots + c_n \\mathbf{v}_n\n",
    "$$\n",
    "\n",
    "\n",
    "\n",
    "where $c_1,\\dots,c_n \\in \\mathbb{R}$ are scalar values and $\\mathbf{v}_1, \\dots, \\mathbf{v}_n \\in \\mathbb{R}^n$ are vectors. \n",
    "This expression is called a _linear combination_. \n",
    "Linear combinations are a central concept in linear algebra. \n",
    "\n",
    "We will spend a lot of time on linear combinations.\n",
    "Let's start by looking at them in $\\mathbb{R}^2$ and $\\mathbb{R}^3$.\n",
    "\n",
    "### Linear Combinations in $\\mathbb{R}^2$\n",
    "\n",
    "Given the vectors $\\mathbf{v} = [3,1]^T$ and $\\mathbf{w}= [2,4]^T$, we can express any vector in $\\mathbb{R}^2$ as a linear combination of these two vectors:\n",
    "\n",
    "$$ c_1 \\mathbf{v} + c_2 \\mathbf{w} =\n",
    "c_1\\begin{bmatrix} \n",
    "{3}   \\\\\n",
    "{1}   \\\\\n",
    "\\end{bmatrix}\n",
    "+\n",
    "c_2\\begin{bmatrix} \n",
    "{2}   \\\\\n",
    "{4}   \\\\\n",
    "\\end{bmatrix}.$$\n",
    "\n",
    "For instance, we obtain the vector $[1.5,5.5]^T$ as the following linear combination:"
   ]
  },
  {
   "cell_type": "code",
   "execution_count": null,
   "id": "sought-peoples",
   "metadata": {},
   "outputs": [],
   "source": [
    "-0.5*v + 1.5*w"
   ]
  },
  {
   "cell_type": "markdown",
   "id": "promising-biology",
   "metadata": {},
   "source": [
    "So how do we know that the coefficients are $c_1=-0.5$ and $c_2=1.5$? Well, you obtain the coefficients by solving the following system of linear equations:\n",
    "\n",
    "\n",
    "$$\n",
    "\\begin{cases} 3 c_1 + 2 c_2 = 1.5 \\\\ c_1 + 4 c_2 = 5.5\\end{cases}\n",
    "$$\n",
    "\n",
    "\n",
    "You know how to solve simple systems of liner equations. Note, that you can express the system of linear equations also by using vector notation\n",
    "\n",
    "\n",
    "$$\n",
    "c_1\\begin{bmatrix} \n",
    "{3}   \\\\\n",
    "{1}   \\\\\n",
    "\\end{bmatrix}\n",
    "+\n",
    "c_2\\begin{bmatrix} \n",
    "{2}   \\\\\n",
    "{4}   \\\\\n",
    "\\end{bmatrix}\n",
    "= \\begin{bmatrix} \n",
    "{1.5}   \\\\\n",
    "{5.5}   \\\\\n",
    "\\end{bmatrix}\n",
    ".\n",
    "$$\n",
    "\n",
    "\n",
    "### Linear Combinations in $\\mathbb{R}^3$\n",
    "\n",
    "Here is an example in $\\mathbb{R}^3$. Given the vectors $\\mathbf{x} = [3,1,2]^T$, $\\mathbf{y}= [2,2,2]^T$ and $\\mathbf{z}= [1,2,3]^T$, we can express any vector in $\\mathbb{R}^3$ as a linear combination of these three vectors:\n",
    "\n",
    "\n",
    "$$\n",
    "c_1 \\mathbf{x} + c_2 \\mathbf{y} + c_3 \\mathbf{z}=c_1\\begin{bmatrix} {3}   \\\\{1}   \\\\{2}   \\\\\\end{bmatrix}+c_2\\begin{bmatrix} {2}   \\\\{2}   \\\\{2}   \\\\\\end{bmatrix}+c_3\\begin{bmatrix} {1}   \\\\{2}   \\\\{3}   \\\\\\end{bmatrix}.\n",
    "$$\n",
    "\n",
    "\n",
    "For instance, we obtain the vector $[3.5,3.5,5]^T$ as the following linear combination:"
   ]
  },
  {
   "cell_type": "code",
   "execution_count": null,
   "id": "chicken-payroll",
   "metadata": {},
   "outputs": [],
   "source": [
    "0.5*x + 0.5*y + 1*z"
   ]
  },
  {
   "cell_type": "markdown",
   "id": "substantial-conjunction",
   "metadata": {},
   "source": [
    "Again, you obtain the coefficients $c_1=0.5$, $c_2=0.5$, and $c_3=1$ by solving the following system of linear equations:\n",
    "\n",
    "\n",
    "$$\n",
    "\\begin{cases} 3 c_1 + 2 c_2 + c_3 = 1 \\\\ c_1 + 2 c_2 + 2 c_3 = 2 \\\\ 2 c_1 + 2 c_2 + 3 c_3 = 3\\end{cases}\n",
    "$$\n",
    "\n",
    "\n",
    "In a later chapter we will express this system more concisely by using matrix notation, and you will learn about methods that help you to efficiently solve such systems of linear equations. For instance, using NumPy (without explaining the details here) you can readily obtain the solution to this system as follows."
   ]
  },
  {
   "cell_type": "code",
   "execution_count": null,
   "id": "logical-highlight",
   "metadata": {},
   "outputs": [],
   "source": [
    "A = np.array((x,y,z)).T\n",
    "b = np.array((3.5,3.5,5))\n",
    "out = np.linalg.solve(A,b)\n",
    "print(out)"
   ]
  },
  {
   "cell_type": "markdown",
   "id": "senior-phase",
   "metadata": {},
   "source": [
    "## Span and Linear Independence\n",
    "\n",
    "We have seen that we can express any vector in $\\mathbb{R}^2$ using the vectors $\\bf v$ and $\\bf w$, and any vector in $\\mathbb{R}^3$ using the vectors $\\bf x$, $\\bf z$ and $\\bf z$. A natural question that arises is whether there is something special about the vectors that we picked. The answer is yes, they are special because $\\bf v$ and $\\bf w$ span the entire plane in $\\mathbb{R}^2$ and $\\bf x$, $\\bf z$ and $\\bf z$ span the entire space in $\\mathbb{R}^3$. That is, because for any $a,b \\in \\mathbb{R}$ we an always find a solution:\n",
    "\n",
    "\n",
    "$$\n",
    "c_1\\begin{bmatrix} \n",
    "{3}   \\\\\n",
    "{1}   \\\\\n",
    "\\end{bmatrix}\n",
    "+\n",
    "c_2\\begin{bmatrix} \n",
    "{2}   \\\\\n",
    "{4}   \\\\\n",
    "\\end{bmatrix}\n",
    "= \\begin{bmatrix} \n",
    "{a}   \\\\\n",
    "{b}   \\\\\n",
    "\\end{bmatrix}\n",
    "$$\n",
    "\n",
    "\n",
    "Similar for any $a,b,c \\in \\mathbb{R}$ we an always find a solution:\n",
    "\n",
    "\n",
    "$$\n",
    "c_1\\begin{bmatrix} \n",
    "{3}   \\\\\n",
    "{1}   \\\\\n",
    "{2}   \\\\\n",
    "\\end{bmatrix}\n",
    "+\n",
    "c_2\\begin{bmatrix} \n",
    "{2}   \\\\\n",
    "{2}   \\\\\n",
    "{2}   \\\\\n",
    "\\end{bmatrix}\n",
    "+\n",
    "c_3\\begin{bmatrix} \n",
    "{1}   \\\\\n",
    "{2}   \\\\\n",
    "{3}   \\\\\n",
    "\\end{bmatrix}= \\begin{bmatrix} \n",
    "{a}   \\\\\n",
    "{b}   \\\\\n",
    "{c}   \\\\\n",
    "\\end{bmatrix}.\n",
    "$$\n",
    "\n",
    "\n",
    "To be more precise, $\\bf v$ and $\\bf w$ span the entire space in $\\mathbb{R}^2$ and $\\bf x$, $\\bf y$ and $\\bf z$ span the entire space in $\\mathbb{R}^3$. In order to span the entire space in $\\mathbb{R}^2$ we require that we have two independent vectors and to span the entire space $\\mathbb{R}^3$ we require that we have three independent vectors, and to span the entire space $\\mathbb{R}^n$ we require that we have $n$ independent vectors. \n",
    "\n",
    "We call the vector space elements $v_1,\\dots,v_k \\in V$ linearly dependent if there exists scalars $c_1,\\dots,c_k$, not all zero, such that\n",
    "\n",
    "\n",
    "$$\n",
    "c_1 v_1 + \\dots + c_k v_k = \\bf 0\n",
    "$$\n",
    "\n",
    "\n",
    "Elements that are not linearly dependent are called linearly independent.\n",
    "\n",
    "\n",
    "Here is an example of linear dependent vectors: $x=(1,2,3)^T$, $y=(0,3,2)^T$ and $z=(-1,7,3)^T$. That is, because $x-3y+z = \\bf 0$."
   ]
  },
  {
   "cell_type": "code",
   "execution_count": null,
   "id": "timely-litigation",
   "metadata": {},
   "outputs": [],
   "source": [
    "x = np.array([1,2,3])\n",
    "y = np.array([0,3,2])\n",
    "z = np.array([-1,7,3])"
   ]
  },
  {
   "cell_type": "code",
   "execution_count": null,
   "id": "decimal-minnesota",
   "metadata": {},
   "outputs": [],
   "source": [
    "x -3*y + z"
   ]
  },
  {
   "cell_type": "markdown",
   "id": "crucial-valve",
   "metadata": {},
   "source": [
    "But, note that $\\bf x$ and $\\bf y$ are linearly independent. To see this, suppose that that\n",
    "\n",
    "\n",
    "$$\n",
    "c_1 x + c_2 y = \n",
    "\\begin{bmatrix} \n",
    "{c_1}   \\\\\n",
    "{2 c_1 + 3 c_2}   \\\\\n",
    "{3 c_1 + 2 c_2}   \\\\\n",
    "\\end{bmatrix}\n",
    "= \\begin{bmatrix} \n",
    "{0}   \\\\\n",
    "{0}   \\\\\n",
    "{0}   \\\\\n",
    "\\end{bmatrix}.\n",
    "$$\n",
    "\n",
    "\n",
    "For this to happen $c_1$ and $c_2$ must satisfy the linear system\n",
    "\n",
    "\n",
    "$$\n",
    "\\begin{cases} c_1 = 0 \\\\ 2 c_1 + 3 c_2  = 0 \\\\ 3 c_1 + 2 c_2 = 0\\end{cases}\n",
    "$$\n",
    "\n",
    "\n",
    "But this system has only the trivial solution $c_1 = c_2 = 0$. Hence, $\\bf x$ and $\\bf y$ are linearly independent.\n",
    "\n",
    "Another way to illustrate this, is by visualizing that $z$ lies in the plane that is spanned by $\\bf x$ and $\\bf y$ .\n",
    "Recall, if $\\bf x$  and $\\bf y$ are parallel to given plane $P$, then the plane $P$ is said to be spanned by $\\bf x$ and $\\bf y$."
   ]
  },
  {
   "cell_type": "code",
   "execution_count": null,
   "id": "marked-peoples",
   "metadata": {},
   "outputs": [],
   "source": [
    "# the cross product is a vector normal to the plane\n",
    "cp = np.cross(x, y)\n",
    "a, b, c = cp\n",
    "\n",
    "# This evaluates a * x3 + b * y3 + c * z3 which equals d\n",
    "d = np.dot(cp, origin)\n",
    "\n",
    "origin = np.zeros(3) # we need to define the origin of the coordinate system\n",
    "\n",
    "fig = plt.figure(figsize=(16,7))\n",
    "ax = fig.gca(projection='3d')\n",
    "\n",
    "ax.quiver(*origin,*x, length=1, arrow_length_ratio=0.1, colors='b') # blue\n",
    "ax.quiver(*origin,*y, length=1, arrow_length_ratio=0.1, colors='g') # green\n",
    "ax.quiver(*origin,*z, length=1, arrow_length_ratio=0.1, colors='y') # yellow\n",
    "\n",
    "xx, yy = np.meshgrid(np.arange(-2,8), np.arange(-2,8))\n",
    "q = (d - a * xx - b * yy) / c\n",
    "# plot the plane\n",
    "ax.plot_surface(xx, yy, q, alpha=0.5)\n",
    "ax.view_init(15, 120)\n",
    "\n",
    "plt.grid()\n",
    "ax.set_xlim(-1,6)\n",
    "ax.set_ylim(-1,6)\n",
    "ax.set_zlim(-1,6)\n",
    "\n",
    "plt.show()"
   ]
  },
  {
   "cell_type": "markdown",
   "id": "eastern-mitchell",
   "metadata": {},
   "source": [
    "Clearly, we can see that $\\bf z$ lies within the plane that is spanned by $\\bf x$ and $\\bf z$. We can also create a few random linear combinations of $\\bf x$, $\\bf y$ and $\\bf z$ and observe that they all these vectors will lie within the plane."
   ]
  },
  {
   "cell_type": "code",
   "execution_count": null,
   "id": "fatal-tuning",
   "metadata": {},
   "outputs": [],
   "source": [
    "np.random.seed(1)\n",
    "fig = plt.figure(figsize=(16,7))\n",
    "ax = fig.gca(projection='3d')\n",
    "\n",
    "for i in range(30):\n",
    "    random_linear_combination = np.random.uniform(-1,1,1) * x + np.random.uniform(-1,1,1) * y + np.random.uniform(-1,1,1) * z\n",
    "    ax.quiver(*origin,*random_linear_combination, length=1, arrow_length_ratio=0.1, colors='r') # blue\n",
    "\n",
    "xx, yy = np.meshgrid(np.arange(-9,10), np.arange(-9,10))\n",
    "q = (d - a * xx - b * yy) / c\n",
    "# plot the plane\n",
    "ax.plot_surface(xx, yy, q, alpha=0.5)\n",
    "ax.view_init(15, 120)\n",
    "\n",
    "plt.grid()\n",
    "ax.set_xlim(-1,6)\n",
    "ax.set_ylim(-1,6)\n",
    "ax.set_zlim(-1,6)\n",
    "\n",
    "plt.show()"
   ]
  },
  {
   "cell_type": "markdown",
   "id": "previous-migration",
   "metadata": {},
   "source": [
    "Now, let's change the vector z so that $\\bf x$, $\\bf y$ and $\\bf z$ are linearly independent. For instance, let's pick $\\mathbf{z} = (-2,3,9)^T$"
   ]
  },
  {
   "cell_type": "code",
   "execution_count": null,
   "id": "genetic-clinton",
   "metadata": {},
   "outputs": [],
   "source": [
    "z = np.array([-2,3,9])"
   ]
  },
  {
   "cell_type": "markdown",
   "id": "tracked-meaning",
   "metadata": {},
   "source": [
    "Because $\\bf x$, $\\bf y$ and $\\bf z$ are linearly independent, we will observe that vectors start to stick out of the plane."
   ]
  },
  {
   "cell_type": "code",
   "execution_count": null,
   "id": "representative-strength",
   "metadata": {},
   "outputs": [],
   "source": [
    "np.random.seed(1)\n",
    "fig = plt.figure(figsize=(16,7))\n",
    "ax = fig.gca(projection='3d')\n",
    "\n",
    "for i in range(30):\n",
    "    random_linear_combination = np.random.uniform(-1,1,1) * x + np.random.uniform(-1,1,1) * y + np.random.uniform(-1,1,1) * z\n",
    "    ax.quiver(*origin,*random_linear_combination, length=1, arrow_length_ratio=0.1, colors='r') # blue\n",
    "\n",
    "xx, yy = np.meshgrid(np.arange(-4,10), np.arange(-4,10))\n",
    "q = (d - a * xx - b * yy) / c\n",
    "# plot the plane\n",
    "ax.plot_surface(xx, yy, q, alpha=0.5)\n",
    "ax.view_init(15, 120)\n",
    "\n",
    "plt.grid()\n",
    "ax.set_xlim(-1,6)\n",
    "ax.set_ylim(-1,6)\n",
    "ax.set_zlim(-1,6)\n",
    "\n",
    "plt.show()"
   ]
  },
  {
   "cell_type": "markdown",
   "id": "surface-traveler",
   "metadata": {},
   "source": [
    "## Basis vectors\n",
    "\n",
    "We have seen that we require a sufficient number of distinct vectors in order to span a vector space. But, if we have too many vectors in the spanning set, then we will have that some of these vectors are linear dependent. Hence, an optimal spanning set is a set of linearly independent vectors for a given space. This optimal spanning set is called a basis. A basis of a vector space $V$ is a set of vectors $v_1,\\dots,v_n \\in V$ that (i) spans $V$ and (ii) is linearly independent.\n",
    "\n",
    "In summary:\n",
    "\n",
    "* Basis vectors must be linearly independent, i.e., if you multiply $\\bf v_1$ by any scalar $c$ you will never be able to produce $\\bf v_2$. \n",
    "\n",
    "* Basis vectors must span the whole space, i.e., any vector in the space can be written as a linear combination of the basis vectors for a given space. \n",
    "\n",
    "\n",
    "We have seen above already some examples for basis vectors for $\\mathbb{R}^2$ and $\\mathbb{R}^3$. The basis vectors that we considered allowed us to represent all the vectors in a given space as a linear combination of them. But, note that basis vectors are not unique. There are many sets of basis vectors that satisfy the two properties above and there are ``better`` basis vectors for $\\mathbb{R}^2$ and $\\mathbb{R}^3$ than those that we considered above.\n",
    "\n",
    "\n",
    "### Standard basis\n",
    "\n",
    "The standard basis of $\\mathbb{R}^n$ consists of $n$ vectors\n",
    "\n",
    "\n",
    "$$\n",
    "\\mathbf{e_1}=\n",
    "\\begin{bmatrix} \n",
    "1  \\\\\n",
    "0   \\\\\n",
    "\\vdots \\\\\n",
    "0\n",
    "\\end{bmatrix}, \\quad\n",
    "%\n",
    "\\mathbf{e_2}=\n",
    "\\begin{bmatrix} \n",
    "0  \\\\\n",
    "1   \\\\\n",
    "\\vdots \\\\\n",
    "0\n",
    "\\end{bmatrix}, \\quad \\dots \\quad\n",
    "%\n",
    "\\mathbf{e_n}=\n",
    "\\begin{bmatrix} \n",
    "0  \\\\\n",
    "0   \\\\\n",
    "\\vdots \\\\\n",
    "1\n",
    "\\end{bmatrix}\n",
    "$$\n",
    "\n",
    "\n",
    "For instance, the standard basis vectors for $\\mathbb{R}^2$ are\n",
    "\n",
    "\n",
    "$$\n",
    "\\mathbf{e_1}=\n",
    "\\begin{bmatrix} \n",
    "1  \\\\\n",
    "0   \\\\\n",
    "\\end{bmatrix}, \\quad \\text{and} \\quad\n",
    "%\n",
    "\\mathbf{e_2}=\n",
    "\\begin{bmatrix} \n",
    "0  \\\\\n",
    "1   \\\\\n",
    "\\end{bmatrix}.\n",
    "$$\n",
    "\n",
    "\n",
    "We require two basis vectors, because the vector space has dimension 2. In order to represent all vectors in $\\mathbb{R}^3$ we need three basis vectors, and the standard basis vectors for $\\mathbb{R}^3$ are\n",
    "\n",
    "\n",
    "$$\n",
    "\\mathbf{e_1}=\n",
    "\\begin{bmatrix} \n",
    "1  \\\\\n",
    "0   \\\\\n",
    "0 \\\\\n",
    "\\end{bmatrix}, \\quad\n",
    "%\n",
    "\\mathbf{e_2}=\n",
    "\\begin{bmatrix} \n",
    "0  \\\\\n",
    "1   \\\\\n",
    "0 \\\\\n",
    "\\end{bmatrix},\\quad\n",
    "%\n",
    "\\mathbf{e_3}=\n",
    "\\begin{bmatrix} \n",
    "0  \\\\\n",
    "0   \\\\\n",
    "1 \\\\\n",
    "\\end{bmatrix}.\n",
    "$$\n",
    "\n",
    "\n",
    "Let's visualize the standard basis vectors $\\bf e_1$ and $\\bf e_2$ for $\\mathbb{R}^2$."
   ]
  },
  {
   "cell_type": "code",
   "execution_count": null,
   "id": "efficient-tennessee",
   "metadata": {},
   "outputs": [],
   "source": [
    "e1 = np.array([1,0])\n",
    "e2 = np.array([0,1])"
   ]
  },
  {
   "cell_type": "code",
   "execution_count": null,
   "id": "atlantic-natural",
   "metadata": {},
   "outputs": [],
   "source": [
    "origin = np.array((0,0))\n",
    "plt.figure(figsize=(5,5))\n",
    "plt.quiver(*origin, *e1, color=['g'], scale=1, units='xy') # green\n",
    "plt.quiver(*origin, *e2, color=['r'], scale=1, units='xy') # red\n",
    "plt.grid()\n",
    "plt.xlim(-1,5)\n",
    "plt.ylim(-1,5)\n",
    "plt.gca().set_aspect('equal')\n",
    "plt.show()"
   ]
  },
  {
   "cell_type": "markdown",
   "id": "amateur-calculation",
   "metadata": {},
   "source": [
    "Recall, our vector $\\mathbf{v}=(3,1)^T$ was defined as follows."
   ]
  },
  {
   "cell_type": "code",
   "execution_count": null,
   "id": "czech-milwaukee",
   "metadata": {},
   "outputs": [],
   "source": [
    "v"
   ]
  },
  {
   "cell_type": "markdown",
   "id": "suspected-controversy",
   "metadata": {},
   "source": [
    "We can express this vector also as a linear combination using the standard basis vectors $\\bf e_1$ and $\\bf e_2$ as\n",
    "\n",
    "\n",
    "$$\n",
    "3 \\begin{bmatrix} \n",
    "1  \\\\\n",
    "0   \\\\\n",
    "\\end{bmatrix} + \n",
    "%\n",
    "1 \\begin{bmatrix} \n",
    "0  \\\\\n",
    "1   \\\\\n",
    "\\end{bmatrix}\n",
    "=\\begin{bmatrix} \n",
    "3  \\\\\n",
    "1   \\\\\n",
    "\\end{bmatrix}.\n",
    "$$"
   ]
  },
  {
   "cell_type": "code",
   "execution_count": null,
   "id": "naval-diabetes",
   "metadata": {},
   "outputs": [],
   "source": [
    "3*e1 + 1*e2"
   ]
  },
  {
   "cell_type": "markdown",
   "id": "gross-tribune",
   "metadata": {},
   "source": [
    "Here, the coefficients are $c_1=3$ and $c_2=1$. \n",
    "\n",
    "### Other (non-standard) bases and changing between bases\n",
    "\n",
    "We can also consider other bases for $\\mathbb{R}^2$. For example, the following vectors constitute a basis for $\\mathbb{R}^2$.\n",
    "\n",
    "$$\n",
    "\\mathbf{e'_1}=\n",
    "\\begin{bmatrix} \n",
    "3  \\\\\n",
    "0   \\\\\n",
    "\\end{bmatrix}, \\quad \\text{and} \\quad\n",
    "%\n",
    "\\mathbf{e'_2}=\n",
    "\\begin{bmatrix} \n",
    "0  \\\\\n",
    "0.5   \\\\\n",
    "\\end{bmatrix}.\n",
    "$$\n",
    "\n",
    "\n",
    "This is a valid basis, since the two vectors $\\bf e'_1$ and $\\bf e'_2$ span the the space in $\\mathbb{R}^2$ and they are linearly independent.  \n",
    "\n",
    "Again, we can express the vector $\\bf v$ also as a linear combination using the new basis vectors $\\bf e'_1$ and $\\bf e'_2$ as\n",
    "\n",
    "\n",
    "$$\n",
    "1 \\begin{bmatrix} \n",
    "3  \\\\\n",
    "0   \\\\\n",
    "\\end{bmatrix} + \n",
    "%\n",
    "2 \\begin{bmatrix} \n",
    "0  \\\\\n",
    "0.5   \\\\\n",
    "\\end{bmatrix}\n",
    "=\\begin{bmatrix} \n",
    "3  \\\\\n",
    "1   \\\\\n",
    "\\end{bmatrix}.\n",
    "$$"
   ]
  },
  {
   "cell_type": "code",
   "execution_count": null,
   "id": "accessible-instrumentation",
   "metadata": {},
   "outputs": [],
   "source": [
    "e1_new = np.array([3,0])\n",
    "e2_new = np.array([0,0.5])"
   ]
  },
  {
   "cell_type": "code",
   "execution_count": null,
   "id": "chemical-mortgage",
   "metadata": {},
   "outputs": [],
   "source": [
    "1*e1_new + 2*e2_new"
   ]
  },
  {
   "cell_type": "markdown",
   "id": "balanced-reality",
   "metadata": {},
   "source": [
    "The coefficients $(1,2)$ here are called the coordinates of $\\mathbf{v}$ with respect to the basis $\\mathbf{ e'_1},\\mathbf{e'_2}$. Thus the same vector $\\mathbf{v}$ can be represented by different numbers, depending on the basis we choose to work with. Generally when we write $\\mathbf{v}=(3,1)^T$, we are implicitly assuming that we are working with the standard basis, however it is equally valid to define $\\mathbf{v} = (1,2)^T$ if we make clear that we are working with the basis $\\mathbf{ e'_1},\\mathbf{e'_2}$. \n",
    "\n",
    "Note, that we obtain the standard normal basis if we normalize $\\bf e'_1$ and $\\bf e'_2$, i.e., $\\bf e_1 = \\frac{\\bf e'_1}{\\|\\bf e'_1 \\|_2}$ and $\\bf e_2 = \\frac{\\bf e'_2}{\\|\\bf e'_2 \\|_2}$."
   ]
  },
  {
   "cell_type": "code",
   "execution_count": null,
   "id": "frozen-snake",
   "metadata": {},
   "outputs": [],
   "source": [
    "e1_new / np.linalg.norm(e1_new)"
   ]
  },
  {
   "cell_type": "code",
   "execution_count": null,
   "id": "rapid-invite",
   "metadata": {},
   "outputs": [],
   "source": [
    "e2_new / np.linalg.norm(e2_new)"
   ]
  },
  {
   "cell_type": "markdown",
   "id": "derived-council",
   "metadata": {},
   "source": [
    "Here is another basis."
   ]
  },
  {
   "cell_type": "code",
   "execution_count": null,
   "id": "nuclear-recording",
   "metadata": {},
   "outputs": [],
   "source": [
    "e1_new = np.array([0.70710678, 0.70710678])\n",
    "e2_new = np.array([-0.70710678,  0.70710678])"
   ]
  },
  {
   "cell_type": "markdown",
   "id": "conditional-spectacular",
   "metadata": {},
   "source": [
    "If we visualize this basis, we can see that this basis is rotated by 45 degrees counterclockwise"
   ]
  },
  {
   "cell_type": "code",
   "execution_count": null,
   "id": "representative-thriller",
   "metadata": {},
   "outputs": [],
   "source": [
    "origin = np.array((0,0))\n",
    "plt.figure(figsize=(5,5))\n",
    "plt.quiver(*origin, *e1_new, color=['g'], scale=1, units='xy') # green\n",
    "plt.quiver(*origin, *e2_new, color=['r'], scale=1, units='xy') # red\n",
    "plt.grid()\n",
    "plt.xlim(-1,5)\n",
    "plt.ylim(-1,5)\n",
    "plt.gca().set_aspect('equal')\n",
    "plt.show()"
   ]
  },
  {
   "cell_type": "markdown",
   "id": "unlimited-charity",
   "metadata": {},
   "source": [
    "Again, we can express the vector $\\bf v$ in terms of this new basis as follows."
   ]
  },
  {
   "cell_type": "code",
   "execution_count": null,
   "id": "european-penguin",
   "metadata": {},
   "outputs": [],
   "source": [
    "2.82842713 * e1_new -1.41421356 * e2_new"
   ]
  },
  {
   "cell_type": "markdown",
   "id": "increasing-yacht",
   "metadata": {},
   "source": [
    "So how did we obtain the new coefficients $c_1=2.82842713$ and $c_2=-1.41421356$? For the example $\\mathbf{e'_1}, \\mathbf{e'_2}$ we could more or less guess the coefficients $(1,2)$, here it is less obvious. Since we can see that the basis vectors are rotated 45 degrees counterclockwise, we can assume that the new basis was formed by the following functions:\n",
    "\n",
    "\n",
    "$$\n",
    "e'_1 = f(\\mathbf{e_1}, \\mathbf{e_2}) = \\cos(\\theta) \\mathbf{e_1} + \\sin(\\theta) \\mathbf{e_2}\n",
    "$$\n",
    "\n",
    "\n",
    "\n",
    "and\n",
    "\n",
    "\n",
    "$$\n",
    "e'_2 = f(\\mathbf{e_1}, \\mathbf{e_2}) = -\\sin(\\theta) \\mathbf{e_1} + \\cos(\\theta) \\mathbf{e_2}\n",
    "$$\n",
    "\n",
    "\n",
    "\n",
    "Let's verify this."
   ]
  },
  {
   "cell_type": "code",
   "execution_count": null,
   "id": "hidden-snowboard",
   "metadata": {},
   "outputs": [],
   "source": [
    "np.cos(np.radians(45)) * e1 + np.sin(np.radians(45)) * e2"
   ]
  },
  {
   "cell_type": "code",
   "execution_count": null,
   "id": "formed-candidate",
   "metadata": {},
   "outputs": [],
   "source": [
    "-np.sin(np.radians(45)) * e1 + np.cos(np.radians(45)) * e2"
   ]
  },
  {
   "cell_type": "markdown",
   "id": "helpful-journalism",
   "metadata": {},
   "source": [
    "Indeed, we see that we yield the new basis vectors. We can also use the same function to rotate the coefficients form the old basis into the space of the basis as follows."
   ]
  },
  {
   "cell_type": "code",
   "execution_count": null,
   "id": "supported-assembly",
   "metadata": {},
   "outputs": [],
   "source": [
    "3 * np.cos(np.radians(45)) + 1 * np.sin(np.radians(45))"
   ]
  },
  {
   "cell_type": "code",
   "execution_count": null,
   "id": "blocked-stationery",
   "metadata": {},
   "outputs": [],
   "source": [
    "3 * - np.sin(np.radians(45)) + 1 * np.cos(np.radians(45))"
   ]
  },
  {
   "cell_type": "markdown",
   "id": "horizontal-blues",
   "metadata": {},
   "source": [
    "This method is somewhat specialized to the current choice of basis, since we guessed that it was a rotation. Later, when we discuss matrices, will see how to change between any arbitrary bases."
   ]
  }
 ],
 "metadata": {
  "kernelspec": {
   "display_name": "Python 3",
   "language": "python",
   "name": "python3"
  }
 },
 "nbformat": 4,
 "nbformat_minor": 5
}
