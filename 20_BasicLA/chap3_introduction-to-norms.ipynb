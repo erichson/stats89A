{
 "cells": [
  {
   "cell_type": "markdown",
   "metadata": {},
   "source": [
    "# Introduction to Norms \n",
    "\n",
    "A _norm_ is a function that measures the \"size\" of something. \n",
    "One example of a norm is the familiar Euclidean norm, which uses the expression $(x_1^2+x_2^2)^{1/2}$ to compute the \"size\" or \"magnitude\" of a point $(x_1,x_2)$ in the two-dimensional Euclidean plane.\n",
    "If we view that point as a vector, then that is the Euclidean norm of the vector.\n",
    "\n",
    "So, let's start with vectors and norms of vectors.\n",
    "(We can have norms for other things, like matrices, functions, etc., but let's start with vectors and norms of vectors.)\n",
    "In linear algebra, _vectors_ are objects that are used to model data that we will work with frequently; and it is common to consider the norm of a vector. \n",
    "\n",
    "The Euclidean norm, and its generalization to vectors in $\\mathbb{R}^{n}$, is particulalry important for linear algebra and data science.\n",
    "However, there are other norms, and many of these other norms are also useful.\n",
    "So, it is important to be familiar with them and their basic properties.\n",
    "Here, we will introduce and work with different types of norms.\n",
    "\n",
    "We will talk more later about exactly what vectors are mathematically, but for now and for the sake of computation it is common to think of a vector simply as a array of numbers upon which certain operations can be performed. \n",
    "In Python, the most convenient way to store a vector is in a numpy array, such as the following:"
   ]
  },
  {
   "cell_type": "code",
   "execution_count": null,
   "metadata": {},
   "outputs": [],
   "source": [
    "import numpy as np\n",
    "\n",
    "x = np.array([1,2,3])\n",
    "x"
   ]
  },
  {
   "cell_type": "markdown",
   "metadata": {},
   "source": [
    "Observe that we had to `import numpy`.\n",
    "This imports the `numpy` package, which is a package that supports multi-dimensional arrays and matrices, including high-level mathematical functions to operate on these arrays.\n",
    "Arrays are superficially similar to lists in base Python, but they come equipped with many additional features which will be useful when performing linear algebraic operations. \n",
    "\n",
    "\n",
    "### Euclidean norms\n",
    "\n",
    "When applied to vectors, a _norm_ function that takes as input a vector and that returns a single non-negative number. \n",
    "The most common norm is the so-called _Euclidean norm_.\n",
    "For for a general $n$-dimensional vector $x = (x_1,\\dots,x_n)$, the Euclidean is given by\n",
    "\n",
    "$$\n",
    "\\|x\\|_2 = \\sqrt{\\sum_{i=1}^n x_i^2}  .\n",
    "$$\n",
    "\n",
    "Here, we use the subscript $2$ since the Euclidean norm is sometimes also called the _two-norm_ or the _$2$-norm_; the reasons for this will become clear shortly. \n",
    "This formula may seem unfamiliar now, but it is the \"obvious\" extension of the familiar Euclidean norm to vectors with $n$ components.\n",
    "\n",
    "If $n=2$, then this is simply the $2$-dimensional example in the plane:\n",
    "for a point $(x_1,x_2)\\in \\mathbb{R}^2$, the (Euclidean) length of this vector is just \n",
    "\n",
    "$$\n",
    "\\|x\\|_2 = \\sqrt{\\sum_{i=1}^2 x_i^2} = \\sqrt{x_1^2 + x_2^2} . \n",
    "$$\n",
    "\n",
    "This can also be seen as a special case of the Pythagorean Theorem: given a right triangle with side lengths $x_1$ and $x_2$, the length of the hypotenuse is given by $\\|x\\|_2$.\n",
    "\n",
    "If $n=3$, then this is simply the Euclidean norm of a $3$-dimensional point in three-dimensional Euclidean space, i.e., \n",
    "\n",
    "$$\n",
    "\\|x\\|_2 = \\sqrt{\\sum_{i=1}^3 x_i^2}\n",
    "$$\n",
    "\n",
    "for a vector $x$ in three-dimensional Euclidean space.\n",
    "Here, too, there is a similar interpretation in terms of the Pythagorean Theorem.\n",
    "\n",
    "If $n \\ge 4$, then clearly we can sum up the squares of more than three numbers.\n",
    "The point of writing the Euclidean norm in this suggestive way is not just that the same expression holds for any $n$, even if $n \\ge 4$, when it is less easy to visualize these quantities, but also that this expression still gives a norm in those cases.\n",
    "Also, less obvious but still true, many of the interpretations in terms of angles, perpendicularity, etc., also hold true.\n",
    "\n",
    "Let's write a Python function using numpy functions to compute the Euclidean $2$-norm by explicitly summing over each of the entries and squaring them.\n",
    "There are many such functions we could write.\n",
    "Let's start with the following one."
   ]
  },
  {
   "cell_type": "code",
   "execution_count": null,
   "metadata": {},
   "outputs": [],
   "source": [
    "def norm_2(x):\n",
    "    result = 0 # initialize the result to zero\n",
    "    for xi in x:\n",
    "        result = result + xi**2 # add up all of the squares of entries of the vector\n",
    "    result = result**(1./2) # take the square root\n",
    "    return result"
   ]
  },
  {
   "cell_type": "markdown",
   "metadata": {},
   "source": [
    "We can check that this gives us the correct results on the vector $x = (1,2,3)$ that we defined earlier:"
   ]
  },
  {
   "cell_type": "code",
   "execution_count": null,
   "metadata": {},
   "outputs": [],
   "source": [
    "norm_2(x)"
   ]
  },
  {
   "cell_type": "markdown",
   "metadata": {},
   "source": [
    "As expected, the result is $\\sqrt{1^2 + 2^2 + 3^2} = \\sqrt{14} \\approx 3.74$.\n",
    "\n",
    "Before going on, let's parse what the function `norm_2` does.\n",
    "First, with `result = 0`, this function sets a dummy variable to zero;\n",
    "then, with `for xi in x`, it loops over elements of the input, incrementally updating the dummy variable with the corresponding entry of the input, with `result = result + xi**2`; \n",
    "then, with `result = result**(1./2)` it takes the square root of the incrementally updated sum; and \n",
    "finally, it returns that quantity as output.\n",
    "(Note: in this function, we use `1./2` instead of `1/2` since this makes sure that Python interprets this as the floating point number `0.5`.  Not doing this properly is a common gotcha.) \n",
    "\n",
    "Since we are working in python with numpy arrays, we can define a much simpler function that does the same thing."
   ]
  },
  {
   "cell_type": "code",
   "execution_count": null,
   "metadata": {},
   "outputs": [],
   "source": [
    "def norm_2_v2(x):\n",
    "    result = np.sum(x**2)**(1./2)\n",
    "    return result"
   ]
  },
  {
   "cell_type": "markdown",
   "metadata": {},
   "source": [
    "Let's parse what the function `norm_2_v2` does.\n",
    "First, this function computes the element-wise square of each entry in the vector $x$, with `x**2`; then it sums over each of these entries, with `np.sum()`; and then it takes the square root of the result by raising the sum to the power $1/2$. \n",
    "(Note: here, too, we use `1./2` instead of `1/2`.)\n",
    "\n",
    "As expected, we get the same result:"
   ]
  },
  {
   "cell_type": "code",
   "execution_count": null,
   "metadata": {},
   "outputs": [],
   "source": [
    "norm_2_v2(x)"
   ]
  },
  {
   "cell_type": "markdown",
   "metadata": {},
   "source": [
    "Both of these functions are correct.\n",
    "Which one should you prefer?\n",
    "\n",
    "In general, languages (including python) support a range of operations and many ways to do the same thing.\n",
    "However, in any given language, some operations are easier to code and/or more efficient when implemented.\n",
    "It is usually better to implement a procedure in a way that is \"natural\" or \"convenient\" in the language, i.e., that uses the language in the way the language was intended to be used.\n",
    "(In python, this is sometimes referred to as _pythonic_ code.)\n",
    "Even aside from running time, which often does not matter for small problems like this one, it is good practice to do this since the code is simpler, easier to debug, etc.\n",
    "\n",
    "In this case, we prefer `norm_2_v2` since the operations it uses are generally faster and more concise than doing a `for` loop over the entries. \n",
    "\n",
    "There is also a special function in numpy which we can use to compute the Euclidean norm."
   ]
  },
  {
   "cell_type": "code",
   "execution_count": null,
   "metadata": {},
   "outputs": [],
   "source": [
    "from numpy.linalg import norm\n",
    "\n",
    "norm(x)"
   ]
  },
  {
   "cell_type": "markdown",
   "metadata": {},
   "source": [
    "Below, we will see that the `norm` function takes optional arguments, but with no arguments it computes the Euclidean norm of the input vector.\n",
    "As expected, this function gives us the same result as our `norm_2` and `norm_2_v2` functions above.\n",
    "\n",
    "\n",
    "### $1$-norms\n",
    "\n",
    "While the Euclidean norm is probably the most common ways to measure the size of a vector, it is not the only way to do so. \n",
    "Consider the following, which is known as the _$1$-norm_:\n",
    "for any vector $x=(x_1,\\dots,x_n)$, let\n",
    "\n",
    "$$\n",
    "\\|x\\|_{1} = \\sum_{i=1}^n |x_i|\n",
    "$$\n",
    "\n",
    "We could write a function to compute the $1$-norm of a vector (and you will be asked to do this as a problem).\n",
    "\n",
    "For now, let's use the numpy `norm` function, which allows us to compute the $1$-norms of vectors if we provide the correct argument. \n",
    "For example,"
   ]
  },
  {
   "cell_type": "code",
   "execution_count": null,
   "metadata": {},
   "outputs": [],
   "source": [
    "print('The 1-norm of x is %f' % norm(x, ord=1))\n",
    "print('The 2-norm of x is %f' % norm(x, ord=2))"
   ]
  },
  {
   "cell_type": "markdown",
   "metadata": {},
   "source": [
    "Here, we used `ord=p` to specify whether we wanted to comptue the $1$-norm or the $2$-norm.\n",
    "\n",
    "The two different norms give us two different numbers, i.e., two different different measures of the size of a vector.\n",
    "\n",
    "Due to the absolute value, if we change the sign of any of the entries in a vector, the value of its norm does not change. \n",
    "(This absolute value was not needed for the Euclidean norm, since the square of any real number is non-negative.)\n",
    "For example, if $x'=(-1,-2,-3)$, then $x'$ always has the same norm as $x$."
   ]
  },
  {
   "cell_type": "code",
   "execution_count": null,
   "metadata": {},
   "outputs": [],
   "source": [
    "x_prime = np.array([-1,-2,-3])\n",
    "\n",
    "print('The 1-norm of x_prime is %f' % norm(x_prime, ord=1))\n",
    "print('The 2-norm of x_prime is %f' % norm(x_prime, ord=2))"
   ]
  },
  {
   "cell_type": "markdown",
   "metadata": {},
   "source": [
    "Before moving onto more general properties of norms, let's introduce one more common and useful norm.\n",
    "\n",
    "\n",
    "### $\\infty$-norm\n",
    "\n",
    "The $\\infty$-norm of a vector is another useful norm to know about.\n",
    "For a vector $x=(x_1,\\dots,x_n)$ the $\\infty$-norm is defined as:\n",
    "\n",
    "$$\n",
    "\\|x\\|_\\infty = \\max_{i=1,\\dots,n}|x_i|  .\n",
    "$$\n",
    "\n",
    "That is, the $\\infty$-norm is simply the maximum absolute value among the entries of $x$. \n",
    "\n",
    "We can also provide the right argument to numpy's `norm` function to compute the $\\infty$-norm:"
   ]
  },
  {
   "cell_type": "code",
   "execution_count": null,
   "metadata": {},
   "outputs": [],
   "source": [
    "print( 'The 1-norm of x is %f' % norm(x, ord=1) )\n",
    "print( 'The 2-norm of x is %f' % norm(x, ord=2) )\n",
    "print( 'The infinity-norm of x is %f' % norm(x, ord=np.inf) )"
   ]
  },
  {
   "cell_type": "markdown",
   "metadata": {},
   "source": [
    "As expected, the $\\infty$-norm of $x$ is just its largest entry in absolute value: $3$. \n",
    "\n",
    "Why is the $\\infty$-norm called the \"infinity\" norm? \n",
    "We will get to that below.\n",
    "\n",
    "\n",
    "### Properties of norms\n",
    "\n",
    "Norms have several important properties that capture the general notion of \"size.\"  \n",
    "As an example, we already saw one of them: norms are invariant to sign changes of any one of the vector's entries. \n",
    "\n",
    "More generally, norms have three important properties.\n",
    "In fact, these three properties are the defining properties of a norm.\n",
    "They are what a function needs to satisfy to be called a \"norm\". \n",
    "\n",
    "1.  For any $x$, $\\|x\\| \\ge 0$, where $0\\in\\mathbb{R}$; and $\\|x\\|=0$ if and only if  $x = 0$, where this $0$ is the all-zeros vector, $0 = (0,\\dots,0)$.\n",
    "    (This is sometimes called being _positive definite_.)\n",
    "2.  For any scalar $\\alpha\\in\\mathbb{R}$, we have that $\\|\\alpha x\\| = |\\alpha|\\cdot\\|x\\|$\n",
    "    (This is sometimes called being _absolutely homogeneous_ or _absolutely scalable_.)\n",
    "3.  For any vectors $x, y$, we have $\\|x+y\\|\\leq \\|x\\|+\\|y\\|$.\n",
    "    (This is sometimes called being _subadditive_ or satisfying the _triangle inequality_.)\n",
    "\n",
    "To make sense of these properties, recall what it means to add two vectors and scale vectors.\n",
    "- For vectors $x=(x_1,\\dots,x_n), y=(y_1,\\dots,y_n)$, when we write $x+y$ we mean the new vector $(x_1+y_1,\\dots, x_n+y_n)$.\n",
    "- Similarly, if $\\alpha\\in\\mathbb{R}$ is a scalar, then $\\alpha x = (\\alpha x_1, \\dots, \\alpha x_n)$. \n",
    "\n",
    "Both of these operations give us new vectors that also have norms.\n",
    "\n",
    "Let's use numpy to verify two of these properties. \n",
    "\n",
    "\n",
    "#### Scaling vectors\n",
    "\n",
    "Let's veryify the scalability of norms by absolute values. \n",
    "Namely, for any scalar $\\alpha \\in \\mathbb{R}$ and vector $x = (x_1,\\dots,x_n)$, we have that $\\|\\alpha x\\| = |\\alpha|\\cdot \\|x\\|$.   \n",
    "\n",
    "To do so, let's define another vector $x$ for this problem."
   ]
  },
  {
   "cell_type": "code",
   "execution_count": null,
   "metadata": {},
   "outputs": [],
   "source": [
    "x = np.array([-3,-2,-1,0,1,2,3])"
   ]
  },
  {
   "cell_type": "markdown",
   "metadata": {},
   "source": [
    "This vectors $1$-norm is given by $12 = |-3| + |-2| + |-1| + |0| + |1|+|2|+|3|$, as we can verify with code:"
   ]
  },
  {
   "cell_type": "code",
   "execution_count": null,
   "metadata": {},
   "outputs": [],
   "source": [
    "norm1_x = norm(x, ord=1)\n",
    "norm1_x"
   ]
  },
  {
   "cell_type": "markdown",
   "metadata": {},
   "source": [
    "Now let's try scaling this vector by the scalar $\\alpha_1 = 2$:"
   ]
  },
  {
   "cell_type": "code",
   "execution_count": null,
   "metadata": {},
   "outputs": [],
   "source": [
    "alpha1 = 2\n",
    "alpha1_x = alpha1*x"
   ]
  },
  {
   "cell_type": "markdown",
   "metadata": {},
   "source": [
    "Now let's compute the norm of the re-scaled version:"
   ]
  },
  {
   "cell_type": "code",
   "execution_count": null,
   "metadata": {},
   "outputs": [],
   "source": [
    "norm1_alpha1_x = norm(alpha1_x, ord=1)\n",
    "norm1_alpha1_x"
   ]
  },
  {
   "cell_type": "markdown",
   "metadata": {},
   "source": [
    "As expected, the norm was doubled to $24$. \n",
    "\n",
    "Now, lets see what happens when we rescale the vector by $\\alpha_2 = -2$:"
   ]
  },
  {
   "cell_type": "code",
   "execution_count": null,
   "metadata": {},
   "outputs": [],
   "source": [
    "alpha2 = -2\n",
    "alpha2_x = alpha2*x\n",
    "\n",
    "norm1_alpha2_x = norm(alpha2_x, ord=1)\n",
    "norm1_alpha2_x"
   ]
  },
  {
   "cell_type": "markdown",
   "metadata": {},
   "source": [
    "We still get the same result! \n",
    "This is because when we scale a vector by a scalar $\\alpha$, the norm is rescaled by the absolute value $|\\alpha|$.\n",
    "\n",
    "\n",
    "#### The triangle inequality\n",
    "\n",
    "Let's verify the triangle inequality.\n",
    "\n",
    "To do so, let's first define two vectors $x$ and $y$."
   ]
  },
  {
   "cell_type": "code",
   "execution_count": null,
   "metadata": {},
   "outputs": [],
   "source": [
    "x = np.array([-1,2,-3,4,-5])\n",
    "y = np.array([6,-7,8,-9,10])"
   ]
  },
  {
   "cell_type": "markdown",
   "metadata": {},
   "source": [
    "In numpy, we can easily add these vectors using the normal `+` operation in Python:"
   ]
  },
  {
   "cell_type": "code",
   "execution_count": null,
   "metadata": {},
   "outputs": [],
   "source": [
    "x_plus_y = x+y\n",
    "x_plus_y"
   ]
  },
  {
   "cell_type": "markdown",
   "metadata": {},
   "source": [
    "Now let's compute the norms $\\|x\\|_2, \\|y\\|_2$ and $\\|x+y\\|_2$, and verify that the $2$-norm satisfies the triangle inequality:"
   ]
  },
  {
   "cell_type": "code",
   "execution_count": null,
   "metadata": {},
   "outputs": [],
   "source": [
    "norm_x = norm(x, ord=2)\n",
    "norm_y = norm(y, ord=2)\n",
    "norm_x_plus_y = norm(x_plus_y, ord=2)\n",
    "\n",
    "print('The 2-norm of x+y is %f' % norm_x_plus_y)\n",
    "print('The 2-norm of x plus the norm of y is %f' % (norm_x + norm_y))"
   ]
  },
  {
   "cell_type": "markdown",
   "metadata": {},
   "source": [
    "Indeed, we see that $\\|x+y\\|_2$ is smaller than $\\|x\\|_2 + \\|y\\|_2$. \n",
    "This is also true of the other norms we introduced. \n",
    "For example, we can to the same thing with the $\\infty$-norm:"
   ]
  },
  {
   "cell_type": "code",
   "execution_count": null,
   "metadata": {},
   "outputs": [],
   "source": [
    "norm_x_inf = norm(x, ord=np.inf)\n",
    "norm_y_inf = norm(y, ord=np.inf)\n",
    "norm_x_plus_y_inf = norm(x_plus_y, ord=np.inf)\n",
    "\n",
    "print('The infinity-norm of x+y is %f' % norm_x_plus_y_inf)\n",
    "print('The infinity-norm of x plus the infinity-norm of y is %f' % (norm_x_inf + norm_y_inf))"
   ]
  },
  {
   "cell_type": "markdown",
   "metadata": {},
   "source": [
    "There is also an important _reverse triangle inequality_ which is sometimes useful. It states that for any vectors $x,y$ and norm $\\|\\cdot\\|$ we have the following inequality: $\\|x-y\\|\\geq \\big| \\|x\\|-\\|y\\| \\big|$. This is called the 'reverse' triangle inequality because rather than giving an upper bound on the sum/difference of two vectors, it gives us a lower bound. Let's see an example with the 2-norm. We first compute $x-y$:"
   ]
  },
  {
   "cell_type": "code",
   "execution_count": null,
   "metadata": {},
   "outputs": [],
   "source": [
    "x_minus_y = x-y\n",
    "x_minus_y"
   ]
  },
  {
   "cell_type": "markdown",
   "metadata": {},
   "source": [
    "Then we can compute $\\|x-y\\|_2$ and $\\big|\\|x\\|_2-\\|y\\|_2\\big|$:"
   ]
  },
  {
   "cell_type": "code",
   "execution_count": null,
   "metadata": {},
   "outputs": [],
   "source": [
    "norm_x = norm(x, ord=2)\n",
    "norm_y = norm(y, ord=2)\n",
    "norm_x_minus_y = norm(x_minus_y, ord=2)\n",
    "\n",
    "print('The 2-norm of x-y is %f' % norm_x_minus_y)\n",
    "print('The absolute value of 2-norm of x minus the 2-norm of y is %f' % np.abs(norm_x - norm_y))"
   ]
  },
  {
   "cell_type": "markdown",
   "metadata": {},
   "source": [
    "We see that the second quantity is indeed smaller.\n",
    "\n",
    "\n",
    "### p-norms\n",
    "\n",
    "While the $L_1$ and $L_2$ and $L_\\infty$ norms are the most common ways to measure the size of a vector, they are not the only way to do so. \n",
    "In fact, \n",
    "we can generalize the defining expression for these norms for a $x=(x_1,\\dots,x_n)$ to any number $p \\ge 0$: \n",
    "for any vector $x=(x_1,\\dots,x_n)$, consider the expression given by:\n",
    "\n",
    "$$\n",
    "\\|x\\|_p = \\left(\\sum_{i=1}^n |x_i|^p\\right)^{1/p}\n",
    "$$\n",
    "\n",
    "For $ p \\in [0,1)$, this expression is _not_ a norm; but\n",
    "for $ p \\in [1,\\infty]$, this expression is a norm.\n",
    "\n",
    "Now we see why we call the Euclidean norm the $2$-norm: it is simply a special case of the $p$-norm when $p=2$. \n",
    "Similarly, we see why we call the $1$-norm the $1$-norm: it is simply a special case of the $p$-norm when $p=1$. \n",
    "However, the $\\infty$-norm looks different.\n",
    "Why is it called that?\n",
    "Let's see.\n",
    "\n",
    "To do so, let's use the numpy `norm` function, which also lets us compute the $p$-norms of vectors. \n",
    "For example,"
   ]
  },
  {
   "cell_type": "code",
   "execution_count": null,
   "metadata": {},
   "outputs": [],
   "source": [
    "x = np.array([1,2,3])\n",
    "\n",
    "print('The 1-norm of x is %f' % norm(x, ord=1))\n",
    "print('The 2-norm of x is %f' % norm(x, ord=2))\n",
    "print('The 3-norm of x is %f' % norm(x, ord=3))"
   ]
  },
  {
   "cell_type": "markdown",
   "metadata": {},
   "source": [
    "Here, we used `ord=p` to specify which $p$-norm we wanted to compute. \n",
    "As we expect, different norms give us different numbers.\n",
    "\n",
    "Also, as we expect, if we change the sign of any of the entries in a vector, the value of its norm does not change. \n",
    "For example, if $x'=(-1,-2,-3)$, then $x'$ always has the same norm as $x$."
   ]
  },
  {
   "cell_type": "code",
   "execution_count": null,
   "metadata": {},
   "outputs": [],
   "source": [
    "x_prime = np.array([-1,-2,-3])\n",
    "\n",
    "print('The 1-norm of x_prime is %f' % norm(x_prime, ord=1))\n",
    "print('The 2-norm of x_prime is %f' % norm(x_prime, ord=2))\n",
    "print('The 3-norm of x_prime is %f' % norm(x_prime, ord=3))"
   ]
  },
  {
   "cell_type": "markdown",
   "metadata": {},
   "source": [
    "Let's get back to the question of why the $\\infty$-norm is called the $\\infty$-norm.\n",
    "\n",
    "Let's test this with our vector $x=(1,2,3)$:"
   ]
  },
  {
   "cell_type": "code",
   "execution_count": null,
   "metadata": {},
   "outputs": [],
   "source": [
    "import matplotlib.pyplot as plt\n",
    "\n",
    "p_max = 10\n",
    "p_range = np.arange(1,p_max+1,1)\n",
    "norm_values = [norm(x, ord=p) for p in p_range]\n",
    "\n",
    "plt.plot(p_range, norm_values, label='p norms')\n",
    "plt.hlines(norm(x, ord=np.inf), xmin=1, xmax=p_max, label='infinity norm')\n",
    "plt.xlabel('p')\n",
    "plt.ylabel('p-norm value')\n",
    "plt.legend()\n",
    "plt.show()"
   ]
  },
  {
   "cell_type": "markdown",
   "metadata": {},
   "source": [
    "As we see, once $p$ gets modestly large, it is essentially just giving us the $\\infty$-norm of the vector.\n",
    "\n",
    "That is, you get this norm by looking at the limit of the $p$-norms as $p\\to\\infty$! \n",
    "\n",
    "Notice also that this plot is strictly decreasing: this is due to the following additional property of norms:\n",
    "\n",
    "- If $1\\leq p<q\\leq \\infty$, then for any vector $x\\in \\mathbb{R}^n$, we have that $\\|x\\|_q \\leq \\|x\\|_p$. In other words, $p$-norms are ordered in 'reverse' order: larger $p$ gives a smaller norm.\n",
    "\n",
    "In the next section of the workbook, we will investigate more properties of norms, and see that they have interesting geometric interpretations.  \n",
    "\n",
    "\n",
    "### Approximating integrals with norms\n",
    "\n",
    "An interesting application of norms is to use them to approximate integrals. \n",
    "For example, suppose we wanted to compute the integral $\\int_{0}^1 x dx$. \n",
    "The idea is to approximate this with some $n$-dimensional vector $x$ which discretizes the set $[0,1]$, for example into points $x = (0/n, 1/n, 2/n,\\dots, 1)$. \n",
    "The difference between each entry in this vector is approximately $dx \\approx 1/n$, and so we can approximate this integral as $\\int_{0}^1 x dx \\approx \\frac{1}{n}\\sum_{i=1}^n |x_i| = \\frac{1}{n}\\|x\\|_1$. \n",
    "The true value of the integral $\\int_{0}^1 x dx$ is just $1/2$, so let's see how good the approximation using the $1$-norm is as we make $n$ bigger."
   ]
  },
  {
   "cell_type": "code",
   "execution_count": null,
   "metadata": {},
   "outputs": [],
   "source": [
    "approximations = []\n",
    "\n",
    "n_range = np.arange(10, 2010, 10)\n",
    "\n",
    "for n in n_range:\n",
    "    x = np.array([i/n for i in range(n+1)])\n",
    "    integral = (1./n)*norm(x, ord=1)\n",
    "    approximations.append(integral)\n",
    "\n",
    "plt.plot(n_range, approximations, label='approximation using 1-norm')\n",
    "plt.hlines(1./2, 10, 2000, label='true integral = 1/2')\n",
    "plt.xlabel('n')\n",
    "plt.ylabel('integral value')\n",
    "plt.legend()\n",
    "plt.show()"
   ]
  },
  {
   "cell_type": "markdown",
   "metadata": {},
   "source": [
    "As we see, this as $n$ gets large, the $1$-norm approximation becomes very close to the true integral. \n",
    "\n",
    "More generally, we can do this approximation with integrals of the form $\\int_{a}^{b} f(x) dx$ where $f(x)\\geq 0$ on $[a,b]$. Then we can approximate the integral as follows: \n",
    "\n",
    "- First, discretize the interval $[a,b]$ with the vector $x=(x_1,\\dots,x_n, x_{n+1})$ whose $i$th entry is $x_i = a + \\frac{(i-1)(b-a)}{n}$ \n",
    "- Compute the vector $y$ whose $i$th entry is $y_i = f(x_i)$\n",
    "- The integral is approximately $\\frac{(b-a)}{n}\\|y\\|_1$ \n",
    "\n",
    "For example, let's consider the integral $\\int_{1}^3 \\frac{1}{x}dx$.  The true value of this integral is $\\log(3)$, but let's try and approximate it using the $1$-norm approach."
   ]
  },
  {
   "cell_type": "code",
   "execution_count": null,
   "metadata": {},
   "outputs": [],
   "source": [
    "def f(x):\n",
    "    return 1./x\n",
    "\n",
    "n_max = 2000\n",
    "n_range = np.arange(10, n_max + 10, 10)\n",
    "\n",
    "a = 1\n",
    "b = 3\n",
    "\n",
    "approximations = []\n",
    "\n",
    "for n in n_range:\n",
    "    x = np.array([a+i*(b-a)/n for i in range(n+1)])\n",
    "    y = np.array([f(xi) for xi in x])\n",
    "    integral = ((b-a)/n)*norm(y, ord=1)\n",
    "    approximations.append(integral)\n",
    "    \n",
    "plt.plot(n_range, approximations, label='approximation using 1-norm')\n",
    "plt.hlines(np.log(3), 10, n_max, label='true integral = log(3)')\n",
    "plt.xlabel('n')\n",
    "plt.ylabel('integral value')\n",
    "plt.legend()\n",
    "plt.show()"
   ]
  },
  {
   "cell_type": "markdown",
   "metadata": {},
   "source": [
    "Again, we see that this approximation works quite well as $n$ gets reasonably large. By changing the function $f$ and using different intervals $[a,b]$, we can compute many integrals in this way."
   ]
  }
 ],
 "metadata": {
  "kernelspec": {
   "display_name": "Python 3",
   "language": "python",
   "name": "python3"
  }
 },
 "nbformat": 4,
 "nbformat_minor": 4
}
