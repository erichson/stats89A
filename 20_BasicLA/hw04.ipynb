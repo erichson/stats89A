{
 "cells": [
  {
   "cell_type": "markdown",
   "metadata": {},
   "source": [
    "# Homework 4\n",
    "\n",
    "In this homework, we will investigate norms, their associated unit balls, and volumes, as introduced in the previous workbook sections. "
   ]
  },
  {
   "cell_type": "markdown",
   "metadata": {},
   "source": [
    "## Problem 1: implementing $p$-norms and the $\\infty$-norms from scratch"
   ]
  },
  {
   "cell_type": "markdown",
   "metadata": {},
   "source": [
    "### Part A\n",
    "\n",
    "Recall that, for any $p\\geq 1$, the $p$-norm of the vector $x=(x_1,\\dots,x_n)$ is given by\n",
    "\n",
    "$$\n",
    "\\|x\\|_p = \\Big(\\sum_{i=1}^n |x_i|^p\\Big)^{1/p}.\n",
    "$$\n",
    "\n",
    "Write a function `p_norm(x, p)` from scratch (i.e., not using the numpy function `norm`) that takes in a vector $x$ and a number $p\\geq 1$, and computes the $p$-norm of $x$. \n",
    "Compare the ouput of your function to the numpy function `norm` on the vector $x = (1, -2, 3, -4, 5, -6)$ and the values $p=1,2,3,5,10,20$."
   ]
  },
  {
   "cell_type": "code",
   "execution_count": null,
   "metadata": {},
   "outputs": [],
   "source": []
  },
  {
   "cell_type": "markdown",
   "metadata": {},
   "source": [
    "### Part B\n",
    "Recall that the $\\infty$-norm of the vector $x=(x_1,\\dots,x_n)$ is given by\n",
    "\n",
    "$$\n",
    "\\|x\\|_p = \\max_{i=1,\\dots,n} |x_i|.\n",
    "$$\n",
    "\n",
    "Write a function `infinity_norm(x)` from scratch (i.e., not using the numpy function `norm`) that takes in a vector $x$ and computes the $\\infty$-norm of $x$. \n",
    "Compare the ouput of your function to the numpy function `norm` on the vector $x = (1, -2, 3, -4, 5, -6)$."
   ]
  },
  {
   "cell_type": "code",
   "execution_count": null,
   "metadata": {},
   "outputs": [],
   "source": []
  },
  {
   "cell_type": "markdown",
   "metadata": {},
   "source": [
    "## Problem 2: an identity for the Euclidean norm\n",
    "An interesting property of the Euclidean or $2$-norm is that it satisfies the following identity for any two vectors $x$ and $y$:\n",
    "\n",
    "$$\n",
    "\\|x\\|_2^2 + \\|y\\|_2^2 = \\frac{1}{2}(\\|x-y\\|_2^2 + \\|x+y\\|_2^2)\n",
    "$$\n",
    "\n",
    "### Part A\n",
    "Using the vectors $x = (4,1,-3,7,-2.1)$ and $y = (-7,4.1,6.2,-1,-8.5)$, verify that this property holds for the $2$-norm."
   ]
  },
  {
   "cell_type": "code",
   "execution_count": null,
   "metadata": {},
   "outputs": [],
   "source": []
  },
  {
   "cell_type": "markdown",
   "metadata": {},
   "source": [
    "### Part B\n",
    "\n",
    "Show that this property does _not_ hold for arbitrary vectors $x$ and $y$ for either the 1-norm or the $\\infty$-norm."
   ]
  },
  {
   "cell_type": "code",
   "execution_count": null,
   "metadata": {},
   "outputs": [],
   "source": []
  },
  {
   "cell_type": "markdown",
   "metadata": {},
   "source": [
    "### Part C\n",
    "\n",
    "Can you find vectors $x$ and $y$ for which this expression does hold for the 1-norm or the $\\infty$-norm."
   ]
  },
  {
   "cell_type": "code",
   "execution_count": null,
   "metadata": {},
   "outputs": [],
   "source": []
  },
  {
   "cell_type": "markdown",
   "metadata": {},
   "source": [
    "## Problem 3: volume of the Euclidean ball in $n$ dimensions\n",
    "\n",
    "Recall the definition of the Euclidean ball of radius $r$:\n",
    "\n",
    "$$\n",
    "B_2(r) = \\{x=(x_1,\\dots,x_n)\\in\\mathbb{R}^n \\mid \\|x\\|\\leq r\\}\n",
    "$$\n",
    "\n",
    "In $2$-dimensions, the volume (usually called area in $2$-dimensions) of a ball of radius $r$ is given by $\\pi r^2$ (or simply $\\pi$ for a unit-radius ball).\n",
    "In $3$-dimensions, the volume of a ball of radius $r$ is given by $\\frac{4}{3}\\pi r^3$.\n",
    "In $n$-dimensions, the formula for the volume of the Euclidean ball of radius $r$ is given by:\n",
    "\n",
    "$$\n",
    "\\text{Volume}(B_2(r)) = \\frac{(\\pi\\cdot r^2)^{n/2}}{\\Gamma(n/2 + 1)}\n",
    "$$\n",
    "\n",
    "Here, $\\Gamma(x)$ is called the _gamma_ function (which is an extension of the factorial function). \n",
    "It is implemented in the `math` library in Python, and it can be accessed as follows:"
   ]
  },
  {
   "cell_type": "code",
   "execution_count": 1,
   "metadata": {},
   "outputs": [
    {
     "data": {
      "text/plain": [
       "6.0"
      ]
     },
     "execution_count": 1,
     "metadata": {},
     "output_type": "execute_result"
    }
   ],
   "source": [
    "from math import gamma\n",
    "\n",
    "gamma(4) # this should be equal to 3! = 3*2*1 = 6"
   ]
  },
  {
   "cell_type": "markdown",
   "metadata": {},
   "source": [
    "### Part A\n",
    "Implement a function `volume_2ball(n, r)` which computes the volume of the Euclidean ball of radius $r$ in $n$ dimensions."
   ]
  },
  {
   "cell_type": "code",
   "execution_count": null,
   "metadata": {},
   "outputs": [],
   "source": []
  },
  {
   "cell_type": "markdown",
   "metadata": {},
   "source": [
    "### Part B\n",
    "\n",
    "Fix $r=2$, and plot the volume of the Euclidean ball as a function of $n$ for $n \\in [2,3,\\dots, 80]$. At what value of $n$ is this volume at a maximum? At what value of $n$ is this volume less than $.01$?\n",
    "\n",
    "Hint: you should observe a rather surprising phenomenon: the volume first increases as a function of $n$, before eventually decaying quickly to zero."
   ]
  },
  {
   "cell_type": "code",
   "execution_count": null,
   "metadata": {
    "scrolled": false
   },
   "outputs": [],
   "source": []
  },
  {
   "cell_type": "markdown",
   "metadata": {},
   "source": [
    "### Part C\n",
    "\n",
    "If the radius $r$ of the ball is sufficiently small, then  the volume of the Euclidean ball decreases monotonically.\n",
    "Determine what is the radius below which that happens. "
   ]
  },
  {
   "cell_type": "code",
   "execution_count": null,
   "metadata": {},
   "outputs": [],
   "source": []
  },
  {
   "cell_type": "markdown",
   "metadata": {},
   "source": [
    "### Part D\n",
    "\n",
    "Consider the ball $B_2(r)$ and the ball $B_2(2r)$ for any given radius $r>0$. Determine numerically what is the limit of $\\text{Volume}(B_2(r))/\\text{Volume}(B_2(2r))$ as $n\\to \\infty$? For any dimension $n$, does the ratio $\\text{Volume}(B_2(r))/\\text{Volume}(B_2(2r))$ depend on the value of $r$?"
   ]
  },
  {
   "cell_type": "code",
   "execution_count": null,
   "metadata": {
    "scrolled": true
   },
   "outputs": [],
   "source": []
  },
  {
   "cell_type": "markdown",
   "metadata": {},
   "source": [
    "## Problem 4: computing with $1$-norms\n",
    "\n",
    "### Part A\n",
    "Define a function `discretize` which taken in an integer $n\\geq 1$, and returns a numpy array $x^{(n)} = [1, 1+1/n, 1+2/n,\\dots,1+n/n]$. Define a function $f(x)$ which computes $e^{x}$ (you can use the numpy function `np.exp()`)."
   ]
  },
  {
   "cell_type": "code",
   "execution_count": null,
   "metadata": {},
   "outputs": [],
   "source": []
  },
  {
   "cell_type": "markdown",
   "metadata": {},
   "source": [
    "### Part B\n",
    "For values of $n = 100, 200, 300, \\dots, 10000$, do the following:\n",
    "\n",
    " - Use the `discretize` function from A to compute the vector $x^{(n)}$.\n",
    " - Compute the vector $y^{(n)}$ whose $i$th entry is $f(x^{(n)}_i)$.\n",
    " - Compute $I_n = \\frac{1}{n}\\|y^{(n)}\\|_1$.\n",
    " \n",
    "Plot the values of $I_n$ versus $n$. "
   ]
  },
  {
   "cell_type": "code",
   "execution_count": null,
   "metadata": {},
   "outputs": [],
   "source": []
  },
  {
   "cell_type": "markdown",
   "metadata": {},
   "source": [
    "### Part C\n",
    "You should observe a that the values of $I_n$ in the plot from part B converge to a value as $n$ gets large. Determine a closed form expression for this value."
   ]
  },
  {
   "cell_type": "code",
   "execution_count": null,
   "metadata": {},
   "outputs": [],
   "source": []
  },
  {
   "cell_type": "markdown",
   "metadata": {},
   "source": [
    "## Problem 5: throwing darts\n",
    "In the workbook, we saw that we can estimate the volumes of the unit $p$-ball in $2$-dimensions using the following method:\n",
    "   - sample $k$ points randomly from the set $[-1,1]\\times [-1,1]$\n",
    "   - compute the fraction of points $x$ satisfying $\\|x\\|_p \\leq 1$\n",
    "   - multiply $4$ this fraction by 4\n",
    "   \n",
    "In this problem, we see that we can generalize this method to other dimensions."
   ]
  },
  {
   "cell_type": "markdown",
   "metadata": {},
   "source": [
    "### Part A\n",
    "\n",
    "The method described above can be generalized to $n$ dimensions as follows: first, sample $k$ points from the set $[-1,1]^n = [-1,1]\\times[-1,1]\\times\\cdots\\times [-1,1]$. Then, compute the fraction of points $x$ satisfying $\\|x\\|_p \\leq 1$. Finally, multiply this fraction by $2^n$. Define a function `unitBallVolume(p,n,k)` which estimates the volume of the unit $p$ ball in $n$ dimensions using $k$ samples. Note: your function should be able to handle the case when $p=\\infty$. For your convenience, we define a function `sampleFromBox(n)` which draws a point randomly from the box $[-1,1]^n$."
   ]
  },
  {
   "cell_type": "code",
   "execution_count": 1,
   "metadata": {},
   "outputs": [],
   "source": [
    "import numpy as np\n",
    "\n",
    "def sampleFromBox(n):\n",
    "    return np.random.uniform(-1,1,size=n)"
   ]
  },
  {
   "cell_type": "markdown",
   "metadata": {},
   "source": [
    "### Part B\n",
    "To test your function, compute `unitBallVolume(p=2, n=2, k=5000)` and verify that the result is close to $\\pi$."
   ]
  },
  {
   "cell_type": "code",
   "execution_count": null,
   "metadata": {},
   "outputs": [],
   "source": []
  },
  {
   "cell_type": "markdown",
   "metadata": {},
   "source": [
    "### Part C\n",
    "Determine the approximate volume of the following sets $B_1(1)$ and $B_\\infty(1)$ in dimensions $n=2,3,4$. What happens to the volume of $B_1(1)$ and $n$ increases? What happens to the volume of $B_\\infty(1)$ as $n$ increases?"
   ]
  },
  {
   "cell_type": "code",
   "execution_count": null,
   "metadata": {},
   "outputs": [],
   "source": []
  },
  {
   "cell_type": "code",
   "execution_count": null,
   "metadata": {},
   "outputs": [],
   "source": []
  }
 ],
 "metadata": {
  "kernelspec": {
   "display_name": "Python 3",
   "language": "python",
   "name": "python3"
  },
  "language_info": {
   "codemirror_mode": {
    "name": "ipython",
    "version": 3
   },
   "file_extension": ".py",
   "mimetype": "text/x-python",
   "name": "python",
   "nbconvert_exporter": "python",
   "pygments_lexer": "ipython3",
   "version": "3.7.7"
  }
 },
 "nbformat": 4,
 "nbformat_minor": 2
}
