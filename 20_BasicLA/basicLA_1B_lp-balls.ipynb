{
 "cells": [
  {
   "cell_type": "markdown",
   "id": "computational-button",
   "metadata": {},
   "source": [
    "# Lp Balls\n",
    "\n",
    "In the previous section, we introduced norms as a way to measure the 'size' of a vector. \n",
    "Here, we will see that norms give us a natural way to define an important type of set, namely balls associated with those norms. \n",
    "These balls generalize circles and spheres (which are the balls associated with the Euclidean norm in $\\mathbb{R}^{2}$ and $\\mathbb{R}^{3}$, respectively.\n",
    "They can be used to understand the hard-to-visualize $\\mathbb{R}^{n}$.\n",
    "\n",
    "Before we continue, recall the definition of the $p$-norms and the $\\infty$-norm. \n",
    "For a vector $x = (x_1,\\dots,x_n) \\in \\mathbb{R}^n$ and number $p\\geq 1$, the $p$-norm is given by \n",
    "\n",
    "\n",
    "$$\n",
    "\\|x\\|_p = \\left(\\sum_{i=1}^n |x_i|^p\\right)^{1/p} ,\n",
    "$$\n",
    "\n",
    "and the $\\infty$-norm is given by\n",
    "\n",
    "$$\n",
    "\\|x\\|_\\infty = \\max_{i=1,\\dots, n}|x_i| .\n",
    "$$\n",
    "\n",
    "For any given $p$-norm, for $p \\in [1,\\infty]$, there is a special set called the _unit $p$-ball_, which is defined as\n",
    "\n",
    "$$\n",
    "B_p = \\{x\\in\\mathbb{R}^n \\mid \\|x\\|_p \\leq 1\\}\n",
    "$$\n",
    "\n",
    "This set contains all vectors $x\\in \\mathbb{R}^n$ whose $p$-norm is at most $1$. \n",
    "The term 'ball' is used to describe this object because of intuition coming from the Euclidean norm / $2$-norm. \n",
    "This will become more clear in the next section.\n",
    "\n",
    "\n",
    "### The Euclidean ball\n",
    "\n",
    "A special case of the unit $p$-balls is the Euclidean unit ball, which is given by the set\n",
    "\n",
    "$$\n",
    "B_2 = \\{x\\in\\mathbb{R}^n\\mid \\|x\\|_2 \\leq 1\\} .\n",
    "$$\n",
    "\n",
    "To get some intuition, let's focus on the 2-dimensional case -- i.e., when $n=2$. \n",
    "Then, the unit ball is the set of all points $x = (x_1,x_2)$ such that $\\sqrt{x_1^2 + x_2^2} \\leq 1$, or equivalently, the set of all points such that $x_1^2 + x_2^2 \\leq 1$. \n",
    "From basic geometry, we know that the equation $x_1^2 + x_2^2 = 1$ defines a circle of radius 1 in the plane.\n",
    "Hence, the set of points satisfying $x_1^2 + x_2^2 \\leq 1$ includes all points on or inside of this circle. \n",
    "\n",
    "To visualize the unit balls in this section, below we define the function `plotUnitBall()`, which plots the $p$-balls using the following method: first, we draw a point $x$ at random from the set $[-1,1]\\times[-1,1]$, and then plot the point if $\\|x\\|_p\\leq 1$, and don't plot it otherwise. \n",
    "We repeat this for $5000$ points. However, you can also try varying the number of points yourself by changing the value of `n_samples`."
   ]
  },
  {
   "cell_type": "code",
   "execution_count": null,
   "id": "corporate-companion",
   "metadata": {},
   "outputs": [],
   "source": [
    "import matplotlib.pyplot as plt\n",
    "import numpy as np \n",
    "from numpy.linalg import norm\n",
    "def plotUnitBall(p, n_samples=5000):\n",
    "    x_valid = []\n",
    "    for i in range(n_samples):\n",
    "        x = np.array([np.random.rand()*2-1,np.random.rand()*2-1]) #random point in [-1,1] x [-1,1]\n",
    "        if norm(x,ord=p) <= 1:\n",
    "            x_valid.append(x)\n",
    "    x_valid = np.asarray(x_valid).T\n",
    "    plt.scatter(x_valid[0,:],x_valid[1,:], color='blue')    \n",
    "    plt.axis('square')\n",
    "    title = 'Unit %s ball' % str(p)\n",
    "    plt.title(title, fontsize=16)\n",
    "    plt.xlim(-1.5, 1.5)\n",
    "    plt.ylim(-1.5, 1.5)\n",
    "    plt.show()"
   ]
  },
  {
   "cell_type": "markdown",
   "id": "light-facing",
   "metadata": {},
   "source": [
    "Visually, we can use this to verify that the set $B_2$ is indeed a circle:"
   ]
  },
  {
   "cell_type": "code",
   "execution_count": null,
   "id": "educated-director",
   "metadata": {},
   "outputs": [],
   "source": [
    "plotUnitBall(2)"
   ]
  },
  {
   "cell_type": "markdown",
   "id": "global-spread",
   "metadata": {},
   "source": [
    "As expected, we see that this gives us a circle of radius of radius $1$. \n",
    "\n",
    "\n",
    "### Visualizing the $1$-ball and $\\infty$-ball\n",
    "\n",
    "While the unit ball for the $2$-norm was in fact a 'round' ball shape, this is not the case for other norms. \n",
    "Before plotting them, however, let's try to figure out what the shape of the $\\infty$ and $1$ norm balls should be. \n",
    "\n",
    "Let's start with the $\\infty$-norm ball. \n",
    "Take a point $x\\in [-1,1]\\times [-1,1]$. \n",
    "What is the largest that its $\\infty$-norm could be? \n",
    "We have $\\|x\\|_\\infty = \\max(|x_1|, |x_2|)$, but since $x_1 \\in [-1,1]$ and $x_2\\in [-1,1]$, we have that $|x_1|$ and $|x_2|$ are both at most $1$, hence $\\|x\\|_\\infty \\leq 1$. \n",
    "On the other hand, if $x$ is outside of the set $[-1,1]\\times [-1,1]$, then at least one of its components is larger than $1$ in absolute value, and so its $\\infty$-norm must be greater than one. \n",
    "Therefore we guess that the unit $\\infty$-ball must just be the entire box $[-1,1]\\times[-1,1]$. \n",
    "\n",
    "Let's test this out using the `plotUnitBall()` function."
   ]
  },
  {
   "cell_type": "code",
   "execution_count": null,
   "id": "corresponding-samoa",
   "metadata": {},
   "outputs": [],
   "source": [
    "plotUnitBall(np.inf)"
   ]
  },
  {
   "cell_type": "markdown",
   "id": "respiratory-darwin",
   "metadata": {},
   "source": [
    "As expected, we get a box (with sides parallel to the canonical axes)!\n",
    "\n",
    "Now let's move on to the $1$-norm. \n",
    "Let's consider the points along the boundary of the $1$-norm ball, which are the points satisfying  $|x_1|+|x_2| = 1$. \n",
    "When $x_1, x_2\\geq 0$, this just gives us the equation of a line with slope $-1$ and intercept $1$: $x_2 = 1-x_1$. \n",
    "When $x_2\\geq 0$ and $x_1<0$, then this equation gives us a line with slope $1$ and intercept $1$: $x_2 = 1+x_1$. \n",
    "When $x_2<0$ and $x_1<0$, then we get a line with slope $-1$ and intercept $-1$: $x_2 = -1 - x_1$, and finally what $x_2<0$ and $x_1\\geq 0$, we get a line with slope $1$ and intercept $-1$: $x_2 = -1+x_1$. \n",
    "If we put these four lines together, we should get the shape of a diamond. \n",
    "\n",
    "Let's verify this with our `plotUnitBall()` function:"
   ]
  },
  {
   "cell_type": "code",
   "execution_count": null,
   "id": "ruled-spelling",
   "metadata": {},
   "outputs": [],
   "source": [
    "plotUnitBall(1)"
   ]
  },
  {
   "cell_type": "markdown",
   "id": "listed-immigration",
   "metadata": {},
   "source": [
    "### Comparing unit balls of different norms\n",
    "\n",
    "In the last section in the workbook, we saw that the $p$-norms are ordered, meaning that if $1\\leq p<q\\leq \\infty$, then for any vector $x$\n",
    "\n",
    "$$\n",
    "\\|x\\|_q \\leq \\|x\\|_p  .\n",
    "$$\n",
    "\n",
    "What does this mean in terms of the sizes of the different unit balls? \n",
    "Intuitively, if the norm $\\|\\cdot\\|_q$ gives _smaller_ values than $\\|\\cdot\\|_p$, then _more_ vectors will have norm $\\leq 1$ with respect to the $q$-ball than the $p$-ball. \n",
    "Hence, because of the above inequality, we expect the unit balls to get bigger as $p$ grows. \n",
    "Indeed, the $\\infty$-norm ball is the largest of all the unit balls, and the $1$-ball is the smallest. \n",
    "A natural way to measure the size of the unit balls (at least in $\\mathbb{R}^2$) is to measure their area (or volume, for $\\mathbb{R}^{n}$, for $n \\ge 3$). \n",
    "For example, the $\\infty$-ball is just the entire set $[-1,1]\\times[-1,1]$, which is a box with area $4$, and the $2$-ball is a circle with radius $1$, which has area $\\pi$. \n",
    "\n",
    "We include a function below which lets us estimate the area of any $p$-ball."
   ]
  },
  {
   "cell_type": "code",
   "execution_count": null,
   "id": "institutional-river",
   "metadata": {},
   "outputs": [],
   "source": [
    "def unitBallVolume(p, n_samples=10000):\n",
    "    vol = 0\n",
    "    for i in range(n_samples):\n",
    "        x = np.array([np.random.rand()*2-1,np.random.rand()*2-1]) #random point in [-1,1] x [-1,1]\n",
    "        if norm(x,ord=p) <= 1:\n",
    "            vol += 1\n",
    "    vol /= n_samples\n",
    "    vol *= 4\n",
    "    return vol"
   ]
  },
  {
   "cell_type": "markdown",
   "id": "frank-contractor",
   "metadata": {},
   "source": [
    "The function `unitBallVolume(p)` works in the following way: similar to how we plotted the unit balls, we sample `n_samples` (defaulting to 10,000) points at random from the set $[-1,1]\\times[-1,1]$ and measure the fraction of points that satisfy $\\|x\\|_p\\leq 1$. \n",
    "We then mulitply the result by $4$ (the area of the box $[-1,1]\\times[-1,1]$), and this gives us a pretty good estimate of the area of unit $p$-ball! \n",
    "Let's check this with the $2$-ball, and see if it gives us a good approximation to $\\pi$:"
   ]
  },
  {
   "cell_type": "code",
   "execution_count": null,
   "id": "aquatic-pricing",
   "metadata": {},
   "outputs": [],
   "source": [
    "unitBallVolume(2)"
   ]
  },
  {
   "cell_type": "markdown",
   "id": "later-formation",
   "metadata": {},
   "source": [
    "This will give us a different result every time due to random sampling, but it should be a pretty good estimate. We can make the approximation better by increasing the value of `n_samples`. \n",
    "\n",
    "We can do a similar check with the $1$-ball. \n",
    "This area can be computed by recognizing that the diamond shape is made up of 4 right triangles, each with area $1/2$, and so the area of the unit $1$-ball should be $2$. \n",
    "Let's check that our function gives us a reasonably accurate estimate:"
   ]
  },
  {
   "cell_type": "code",
   "execution_count": null,
   "id": "victorian-stamp",
   "metadata": {},
   "outputs": [],
   "source": [
    "unitBallVolume(1)"
   ]
  },
  {
   "cell_type": "markdown",
   "id": "unauthorized-shooting",
   "metadata": {},
   "source": [
    "Note that this function just computes things in $\\mathbb{R}^2$, but in principal we could apply the same method to estimate the _volumes_ of the $p$-balls in any dimension -- though the computation would in general be much slower. \n",
    "\n",
    "Now we can use this function to see how the area of the unit balls in 2 dimensions grows with $p$:"
   ]
  },
  {
   "cell_type": "code",
   "execution_count": null,
   "id": "favorite-possession",
   "metadata": {},
   "outputs": [],
   "source": [
    "import matplotlib.pyplot as plt\n",
    "import numpy as np\n",
    "\n",
    "p_range = np.arange(1, 20, 1)\n",
    "areas = [unitBallVolume(p) for p in p_range]\n",
    "\n",
    "plt.plot(p_range, areas)\n",
    "plt.xlabel('p', fontsize=14)\n",
    "plt.ylabel('area of p-ball', fontsize=14)\n",
    "plt.show()"
   ]
  },
  {
   "cell_type": "markdown",
   "id": "future-peace",
   "metadata": {},
   "source": [
    "As expected, this is a nice increasing curve which starts at $2$ (the area of the 1-ball) and increases to very close to $4$ (the area of the $\\infty$-ball)."
   ]
  }
 ],
 "metadata": {
  "kernelspec": {
   "display_name": "Python 3",
   "language": "python",
   "name": "python3"
  }
 },
 "nbformat": 4,
 "nbformat_minor": 5
}
