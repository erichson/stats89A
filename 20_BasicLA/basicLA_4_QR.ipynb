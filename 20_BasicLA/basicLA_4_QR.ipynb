{
 "cells": [
  {
   "cell_type": "markdown",
   "id": "clinical-walker",
   "metadata": {},
   "source": [
    "# Gram--Schmidt and the QR Decomposition\n",
    "\n",
    "In the previous workbook, we saw the definition of an _orthogonal set_ of vectors. Indeed, the set $V = \\{v_1,\\dots, v_k\\}$ is an _orthogonal set_ if $v_i^\\top v_j = 0$ for all $i\\neq j$. The set $V$ is _orthonormal_ if in addition to being orthogonal, we have that $\\|v_i\\| = 1$ for all $i=1,\\dots,k$. Of course, if we have an orthogonal set it is easy to construct an orthonormal set by simply dividing each vector by its norm. Therefore, the hard work lies in finding orthogonal sets.\n",
    "\n",
    "In this section, we will study a general procedure for constructing an orthogonal set of vectors from any given set of vectors, and use this method to define an important matrix decomposition called the _QR decomposition_. \n",
    "\n",
    "## The Gram--Schmidt procedure\n",
    "\n",
    "Suppose we have a set of vectors $a_1, \\dots, a_k \\in \\mathbb{R}^n$, which we might think of as being the columns of a $n\\times k$ matrix $A$. Can we find a set of orthonormal vectors $v_1,\\dots, v_k$ such that $\\text{span}(a_1,\\dots, a_k) = \\text{span}(v_1,\\dots, v_k)$? It turns out that we can use an algorithm called the _Gram--Schmidt procedure_ (or _Gram--Schmidt process_) to accomplish this. \n",
    "\n",
    "The algorithm procedes as follows. Start with vectors $a_1,\\dots, a_k$. Then proceed as follows:\n",
    "\n",
    "- $u_1 = a_1$, and set $v_1 = \\frac{u_1}{\\|u_1\\|_2}$\n",
    "- $u_2 = a_2 - \\frac{a_2^\\top u_1}{u_1^\\top u_1}u_1 = a_2 - (a_2^\\top v_1)v_1$, and set $v_2 = \\frac{u_2}{\\|u_2\\|_2}$\n",
    "- $u_3 = a_3 - \\frac{a_3^\\top u_1}{u_1^\\top u_1}u_1 - \\frac{a_3^\\top u_2}{u_2^\\top u_2}u_2 = a_3 - (a_3^\\top v_1)v_1 - (a_3^\\top v_2)v_2$, and set $v_3 = \\frac{u_3}{\\|u_3\\|_2}$\n",
    "- $\\vdots $\n",
    "- $u_k = a_k - \\sum_{j=1}^{k-1} \\frac{a_k^\\top u_j}{u_j^\\top u_j}u_j = a_k - \\sum_{j=1}^{k-1}(a_k^\\top v_j)v_j$, and set $v_k = \\frac{u_k}{\\|u_k\\|_2}$ \n",
    "\n",
    "The vectors $u_1,\\dots, u_k$ are the important ones here: they form an orthogonal set with the same span as $a_1,\\dots, a_k$. The set $v_1,\\dots,v_k$ are simply the normalized versions of $u_1,\\dots,u_k$, which are therefore an _orthonormal_ set. \n",
    "\n",
    "To see why this procedure works, let's look at just the first step, and check that $u_1$ and $u_2$ are in fact orthogonal. To do this, we want to verify that $u_1^\\top u_2 = 0$. We have\n",
    "\n",
    "\n",
    "$$\n",
    "u_1^\\top u_2 = a_1^\\top (a_2 - \\frac{a_2^\\top a_1}{a_1^\\top a_1}a_1) = a_1^\\top a_2 - a_1^\\top a_1 \\frac{a_2^\\top a_1}{a_1^\\top a_1} = a_1^\\top a_2 - a_2^\\top a_1 = a_1^\\top a_2 - a_1^\\top a_2 = 0\n",
    "$$\n",
    "\n",
    "\n",
    "In the second to last inequality, we used the fact that $x^\\top y = y^\\top x$ for any vectors $x,y$. The same type of calculation can be used to check that $u_i^\\top u_j = 0$ for any $i\\neq j$. Thus the vectors are indeed orthogonal. Moreover, we can see that $u_1,\\dots,u_k$ must have the same span as $a_1,\\dots, a_k$, since $u_j$ can be written as a linear combination of $a_1,\\dots, a_j$ for any $j$. \n",
    "\n",
    "### Implementing the Gram--Schmidt procedure in Python\n",
    "\n",
    "Let's use Python and numpy to implement the Gram--Schmidt algorithm. \n",
    "\n",
    "Let's start with a few helper functions. First, we'll implement a function which takes vectors $u$ and $v$ and computes $\\frac{v^\\top u}{u^\\top u}u$. As we will see in a later section, this is the _orthogonal projection of $v$ onto $u$_, so to be consistent with that interpretation, we will call this function `project_v_onto_u`."
   ]
  },
  {
   "cell_type": "code",
   "execution_count": null,
   "id": "precise-tuesday",
   "metadata": {},
   "outputs": [],
   "source": [
    "import numpy as np\n",
    "\n",
    "def project_v_onto_u(v,u):\n",
    "    return (np.dot(v,u)/np.dot(u,u))*u"
   ]
  },
  {
   "cell_type": "markdown",
   "id": "after-indonesia",
   "metadata": {},
   "source": [
    "Next, let's define a function `normalize` which takes a vector $u$ and returns a unit vector in the same direction: $v = \\frac{u}{\\|u\\|_2}$."
   ]
  },
  {
   "cell_type": "code",
   "execution_count": null,
   "id": "hidden-coral",
   "metadata": {},
   "outputs": [],
   "source": [
    "def normalize(u):\n",
    "    return u/np.linalg.norm(u)"
   ]
  },
  {
   "cell_type": "markdown",
   "id": "ordered-indie",
   "metadata": {},
   "source": [
    "Finally, let's define a function `gram_schmidt` which uses our helper functions to compute the orthonormal vectors $v_1,\\dots, v_k$ given a set $a_1,\\dots, a_k$. To do this, we need to decide how we should take the vectors $a_1,\\dots, a_k$ as inputs. We will choose to assume that the input is a $n\\times k$ matrix $A$, which has the vectors $a_1,\\dots, a_k$ as its columns. This will be convenient later on when we compute the QR decomposition. Then we will have our function output a matrix $Q$ whose columns are $v_1,\\dots, v_k$ -- again, this will be convenient for later on.\n",
    "\n",
    "Our function will work as follows: we will have an outer for loop which loops through $i=1,\\dots, k$. Then, we will have an inner for loop which loops through $j=1,\\dots,i-1$ and iteratively subtracts $\\frac{a_i^\\top u_j}{u_j^\\top u_j}u_j$ from $a_i$."
   ]
  },
  {
   "cell_type": "code",
   "execution_count": null,
   "id": "sharing-given",
   "metadata": {},
   "outputs": [],
   "source": [
    "def gram_schmidt(A):\n",
    "    k = A.shape[1]\n",
    "    u_list = [] # initialize a list to store the u vectors\n",
    "    u_list.append(A[:, 0]) # u1 = a1\n",
    "    for i in range(1,k):\n",
    "        ui = A[:, i] # start with ui = ai\n",
    "        for j in range(i):\n",
    "            ui = ui - project_v_onto_u(ui, u_list[j]) # subtract out all the components (ai^T uj)/(uj^T uj)*uj\n",
    "        u_list.append(ui) # add ui to the list of u vectors\n",
    "    v_list = [normalize(u) for u in u_list] # normalize all the u vectors\n",
    "    Q = np.stack(v_list, axis=1) # store the orthonormal vectors into a matrix Q\n",
    "    return Q"
   ]
  },
  {
   "cell_type": "markdown",
   "id": "incredible-insurance",
   "metadata": {},
   "source": [
    "Let's test our function on a random matrix $A$, and make sure that the matrix $Q$ that we get back does in fact have orthonormal columns -- that is, $Q$ should be an _orthogonal matrix_."
   ]
  },
  {
   "cell_type": "code",
   "execution_count": null,
   "id": "removable-subject",
   "metadata": {},
   "outputs": [],
   "source": [
    "k = 5\n",
    "n = 10\n",
    "\n",
    "A = np.random.normal(size = (n,k))\n",
    "Q = gram_schmidt(A)"
   ]
  },
  {
   "cell_type": "markdown",
   "id": "satellite-dietary",
   "metadata": {},
   "source": [
    "Recall that we can check that $Q$ is an orthogonal matrix by checking if $Q^\\top Q = I$. Let's see that this is in fact true. Again, we round to 8 decimals to make the matrix easier to read."
   ]
  },
  {
   "cell_type": "code",
   "execution_count": null,
   "id": "chicken-peninsula",
   "metadata": {},
   "outputs": [],
   "source": [
    "np.round(np.dot(Q.T, Q), 8)"
   ]
  },
  {
   "cell_type": "markdown",
   "id": "proud-hopkins",
   "metadata": {},
   "source": [
    "Indeed, we see that $Q^\\top Q$ is in fact the identity matrix.\n",
    "\n",
    "**Remark:** At this point, it is important to point out that the orthogonal matrix $Q$ whose columns have the same span as $A$ is not exactly unique. Indeed, it's easy to see that if we multiply any of the columns of $Q$ by $-1$, we will have an orthogonal matrix with columns spanning the column space of $A$. \n",
    "\n",
    "## From Gram-Schmidt to QR\n",
    "\n",
    "Now that we've seen how to take the columns of an arbitrary matrix $A$ and come up with an orthonormal set spanning the column space of $A$, we are in a position to introduce one of the most important matrix decompositions in linear algebra: the _QR decomposition_. In the QR decomposition, we write any matrix $A$ as a product $A = QR$ where $Q$ is an orthogonal matrix, and $R$ is an upper triangular matrix. \n",
    "\n",
    "Let's start with the orthonormal vectors $v_1,\\dots, v_k$ that we obtain from the Gram-Schmidt procedure. Importantly, we can write the columns of $A$ as a linear combination of the vectors $v_1,\\dots, v_k$. To see how this works, note that from the Gram--Schmidt procedure we have for any $j=1,\\dots,k$,\n",
    "\n",
    "\n",
    "$$\n",
    "u_j = a_j - \\sum_{i=1}^{j-1}(a_j^\\top v_i)v_i \\iff a_j = u_j + \\sum_{i=1}^{j-1}(a_j^\\top v_i)v_i = \\|u_j\\|_2v_j +\\sum_{i=1}^{j-1}(a_j^\\top v_i)v_i\n",
    "$$\n",
    " \n",
    "\n",
    "Where for the last equality we used the fact that $v_j = \\frac{u_j}{\\|u_j\\|_2}$. Now notice that\n",
    "\n",
    "\n",
    "$$\n",
    "\\|u_j\\|_2^2 = u_j^\\top u_j = u_j^\\top \\left(a_j - \\sum_{i=1}^{j-1}(a_j^\\top v_i)v_i\\right) = u_j^\\top a_j - \\sum_{i=1}^{j-1}(a_j^\\top v_i)\\underbrace{(u_j^\\top v_i)}_{=0}= u_j^\\top a_j = \\|u_j\\|_2(v_j^\\top a_j) \\implies \\|u_j\\|_2 = (v_j^\\top a_j)\n",
    "$$\n",
    "\n",
    "\n",
    "Hence we get the following expression for $a_j$:\n",
    "\n",
    "\n",
    "$$\n",
    "a_j = \\|u_j\\|_2v_j +\\sum_{i=1}^{j-1}(a_j^\\top v_i)v_i = (a_j^\\top v_j)v_j + \\sum_{i=1}^{j-1}(a_j^\\top v_i)v_i = \\sum_{i=1}^j (a_j^\\top v_i)v_i \\hspace{20mm} (\\star)\n",
    "$$\n",
    "\n",
    "\n",
    "Therefore $a_j$ can be written as a linear combination of $c_1 v_1 + \\cdots + c_jv_j$ where $c_i = (a_j^\\top v_i)$. \n",
    "\n",
    "Now let's collect the coefficients $(a_j^\\top v_j)$ into the following matrix:\n",
    "\n",
    "\n",
    "$$\n",
    "R = \\begin{pmatrix}a_1^\\top v_1 & a_2^\\top v_1 & a_3^\\top v_1&\\cdots  \\\\\n",
    "\t\t\t\t\t\t\t\t\t0 & a_2^\\top v_2 &a_3^\\top v_2& \\cdots \\\\\n",
    "\t\t\t\t\t\t\t\t\t0 & 0 & a_3^\\top v_3 & \\cdots \\\\\n",
    "\t\t\t\t\t\t\t\t\t\\vdots & \\vdots &\\vdots &\\ddots \\\\\n",
    "\t\t\t\t\t\t\t\t\t\n",
    "\\end{pmatrix}\n",
    "$$\n",
    "\n",
    "\n",
    "That is, the $k\\times k$ matrix $R$ whose $(i,j)$th entry is $a_j^\\top v_i$ if $i\\leq j$, and $0$ otherwise (matrices of this form -- with zeros below the diagonal -- are called _upper triangular_). Let's again store the vectors $v_1,\\dots, v_k$ as the columns of a $n\\times k$ \n",
    "\n",
    "\n",
    "$$\n",
    "Q = \\begin{pmatrix} | & | &  &| \\\\ v_1 & v_2 & \\cdots & v_k \\\\ | & | & & |\\end{pmatrix}\n",
    "$$\n",
    "\n",
    "\n",
    "Using this notation, we can write the relationship $(\\star)$ as $a_j = Qr_j$, where $r_j$ is the $j$th column of the matrix $R$. In particular then, if we stack all these columns together, we get that \n",
    "\n",
    "\n",
    "$$\n",
    "A = QR = \\begin{pmatrix} | & | & &| \\\\ v_1 & v_2 & \\cdots & v_k \\\\ | & | &  & |\\end{pmatrix}\\begin{pmatrix}a_1^\\top v_1 & a_2^\\top v_1 & a_3^\\top v_1&\\cdots  \\\\\n",
    "\t\t\t\t\t\t\t\t\t0 & a_2^\\top v_2 &a_3^\\top v_2& \\cdots \\\\\n",
    "\t\t\t\t\t\t\t\t\t0 & 0 & a_3^\\top v_3 & \\cdots \\\\\n",
    "\t\t\t\t\t\t\t\t\t\\vdots & \\vdots &\\vdots &\\ddots \\\\\n",
    "\t\t\t\t\t\t\t\t\t\n",
    "\\end{pmatrix}\n",
    "$$\n",
    "\n",
    "\n",
    "This expression -- writing $A$ as a product of an orthogonal matrix $Q$ and an upper triangular matrix of coefficients $R$ -- is called the _$QR$ decomposition of $A$_. In words, this decomposition expresses the columns of $A$ in terms of an orthogonal basis $Q$, which we obtain through Gram--Schmidt.\n",
    "\n",
    "### Computing the QR decomposition in Python\n",
    "\n",
    "Let's implement the QR decomposition in Python. Since we've already implemented Gram-Schmidt above, we can use that function to obtain the matrix $Q$. Thus, all we have left to do is find the upper triangular matrix $R$. We could go through and compute all the entries of $R$ manually, however, if we notice that $Q^\\top Q= I$, we observe that \n",
    "\n",
    "\n",
    "$$\n",
    "A = QR \\iff Q^\\top A = Q^\\top QR = R\n",
    "$$\n",
    "\n",
    "\n",
    "Thus we can compute $R$ immediately by calculating $Q^\\top A$. Let's combine all these steps into a single function which computes $Q$ and $R$ for any given matrix $A$."
   ]
  },
  {
   "cell_type": "code",
   "execution_count": null,
   "id": "ultimate-interim",
   "metadata": {},
   "outputs": [],
   "source": [
    "def qr_decomposition(A):\n",
    "    Q = gram_schmidt(A) #use Gram-Schmidt to compute Q\n",
    "    R = np.dot(Q.T, A) #find R = Q^TA\n",
    "    return Q, R"
   ]
  },
  {
   "cell_type": "markdown",
   "id": "sapphire-poetry",
   "metadata": {},
   "source": [
    "Let's test this again on a random matrix $A$."
   ]
  },
  {
   "cell_type": "code",
   "execution_count": null,
   "id": "european-wilderness",
   "metadata": {},
   "outputs": [],
   "source": [
    "k = 5\n",
    "n = 10\n",
    "\n",
    "A = np.random.normal(size = (n,k))\n",
    "Q, R = qr_decomposition(A)"
   ]
  },
  {
   "cell_type": "markdown",
   "id": "armed-avatar",
   "metadata": {},
   "source": [
    "Now let's check that $R$ is indeed upper triangular."
   ]
  },
  {
   "cell_type": "code",
   "execution_count": null,
   "id": "exceptional-upgrade",
   "metadata": {},
   "outputs": [],
   "source": [
    "R.round(8)"
   ]
  },
  {
   "cell_type": "markdown",
   "id": "portable-realtor",
   "metadata": {},
   "source": [
    "Let's also check that $A = QR$."
   ]
  },
  {
   "cell_type": "code",
   "execution_count": null,
   "id": "personalized-crisis",
   "metadata": {},
   "outputs": [],
   "source": [
    "np.allclose(A, np.dot(Q,R))"
   ]
  },
  {
   "cell_type": "markdown",
   "id": "scheduled-sender",
   "metadata": {},
   "source": [
    "Indeed, it does. For this section, we simply focus on the mechanics of the QR decomposition. In the following sections of this chapter, we will see that this is an extremely useful tool."
   ]
  }
 ],
 "metadata": {
  "kernelspec": {
   "display_name": "Python 3",
   "language": "python",
   "name": "python3"
  }
 },
 "nbformat": 4,
 "nbformat_minor": 5
}
