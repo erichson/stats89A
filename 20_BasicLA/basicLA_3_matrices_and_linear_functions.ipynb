{
 "cells": [
  {
   "cell_type": "code",
   "execution_count": null,
   "id": "weekly-gathering",
   "metadata": {},
   "outputs": [],
   "source": [
    "import numpy as np\n",
    "import matplotlib.pyplot as plt"
   ]
  },
  {
   "cell_type": "markdown",
   "id": "egyptian-recorder",
   "metadata": {},
   "source": [
    "# Matrices and Linear Functions\n",
    "\n",
    "In the last section, we saw examples of both linear and non-linear functions. In this section, we continue this discussion, again focusing on the example of linear functions from $\\mathbb{R}^2$ to $\\mathbb{R}^2$, which allows us to visualize the transformations. \n",
    "\n",
    "## Matrix multiplication and linear functions\n",
    "\n",
    "Here, we focus on linear functions of the form\n",
    "\n",
    "$$\n",
    "f(v) = Av .\n",
    "$$\n",
    "\n",
    "Where $A = \\begin{pmatrix}a_{11} & a_{12}\\\\ a_{21}& a_{22}\\end{pmatrix}$ is a $2\\times 2$ matrix and $v = (v_1,v_2)$ is a vector in $\\mathbb{R}^2$. \n",
    "When we write $Av$, we mean that we are multiplying the vector $v$ by the matrix $A$, namely:\n",
    "\n",
    "$$\n",
    "Av = \\begin{pmatrix}a_{11} & a_{12}\\\\ a_{21}& a_{22}\\end{pmatrix}\\begin{pmatrix}v_1\\\\ v_2\\end{pmatrix} = \\begin{pmatrix}a_{11}v_1 + a_{12}v_2\\\\ a_{21}v_1 + a_{22}v_2\\end{pmatrix}\n",
    "$$\n",
    "\n",
    "So $Av$ just gives us another vector in $\\mathbb{R}^2$. \n",
    "\n",
    "It is easy to verify that matrix multiplication satisfies the properties of a linear function: namely for any scalar $\\alpha \\in \\mathbb{R}$ and vectors $u,v\\in \\mathbb{R}^2$, we have\n",
    "\n",
    "$$\n",
    "A(\\alpha v) = \\alpha Av\\\\\n",
    "A(u+v) = Au + Av\n",
    "$$\n",
    "\n",
    "That means that any function of the form $f(v) = Av$ is a linear function. \n",
    "In addition, _every_ linear function can be represented in this way. \n",
    "In other words _every_ linear function $f(v)$ can be written as $f(v) = Av$ for some matrix $A$. \n",
    "This is truly the heart of why matrices are important: they represent linear functions. \n",
    "While we may be tempted to think of matrices as multi-dimensional arrays storing numbers, it is important that we understand that they are really just a convenient representation for linear functions.\n",
    "\n",
    "(A slight wrinkle on what we just said: this is true once a basis is given, e.g., the standard/canonical basis, or some other basis.  Then, a linear function can be represetned by a matrix, and vice versa.  A given linear function can be expressed by different matrices when a different basis is given.  In data science, we definitely are interested in representing the same linear function with respect to different basis, e.g., that is what PCA is all about, but let's not worry about that for now, and let's assume that we are working with the standard basis.)\n",
    "\n",
    "Now that we understand this fact, given a linear function $f:\\mathbb{R}^2 \\to \\mathbb{R}^2$, how can we find the corresponding matrix $A$? To do this, we need to identify the numbers $a_{11},a_{12},a_{21},a_{22}$. A convenient way of finding these numbers is by checking how $f$ acts on the standard basis vectors $e_1 = (1,0)$ and $e_2 = (0,1)$. Let's check what $Ae_1$ and $Ae_2$ give us:\n",
    "\n",
    "\n",
    "$$\n",
    "Ae_1 =\\begin{pmatrix}a_{11} & a_{12}\\\\ a_{21}& a_{22}\\end{pmatrix}\\begin{pmatrix}1\\\\ 0\\end{pmatrix}= \\begin{pmatrix}a_{11}1 + a_{12}0\\\\ a_{21}1 + a_{22}0\\end{pmatrix} = \\begin{pmatrix}a_{11}\\\\ a_{21}\\end{pmatrix}\\\\\n",
    "Ae_2 =\\begin{pmatrix}a_{11} & a_{12}\\\\ a_{21}& a_{22}\\end{pmatrix}\\begin{pmatrix}0\\\\ 1\\end{pmatrix}= \\begin{pmatrix}a_{11}0 + a_{12}1\\\\ a_{21}0 + a_{22}1\\end{pmatrix} = \\begin{pmatrix}a_{12}\\\\ a_{22}\\end{pmatrix}\n",
    "$$\n",
    "\n",
    "\n",
    "\n",
    "These two vectors are exactly equal to the two columns of $A$! Therefore, as long as we know what $f(e_1)$ and $f(e_2)$ are, we can entirely identify what the entries of the matrix $A$ are.  \n",
    "\n",
    "In what follows, we see a few important examples of how to do this, using similar examples to the ones we studied in the previous section.\n",
    "\n",
    "### Rotating\n",
    "\n",
    "Let's start again with an example of rotation. \n",
    "\n",
    "Recall the function $f(v)$ which takes any vector $v = (v_1,v_2)$ and rotates it by $\\theta$ degrees. This function is given by the following:\n",
    "\n",
    "$$\n",
    "f(v_1, v_2) = \\left(\\cos(\\theta)v_1 - \\sin(\\theta)v_2, \\sin(\\theta)v_1 + \\cos(\\theta)v_2\\right)\n",
    "$$\n",
    "\n",
    "We implement this function below with $\\theta = 45^\\circ$ as the default."
   ]
  },
  {
   "cell_type": "code",
   "execution_count": null,
   "id": "sealed-hollywood",
   "metadata": {},
   "outputs": [],
   "source": [
    "def rotate(v, theta=np.pi/4):\n",
    "    return np.array([np.cos(theta)*v[0] - np.sin(theta)*v[1], np.sin(theta)*v[0] + np.cos(theta)*v[1]])"
   ]
  },
  {
   "cell_type": "markdown",
   "id": "lyric-queensland",
   "metadata": {},
   "source": [
    "Now let's visualize how this function acts on the standard basis vectors $e_1,e_2$, and try and deduce what the corresponding matrix associated with this linear function is."
   ]
  },
  {
   "cell_type": "code",
   "execution_count": null,
   "id": "moving-court",
   "metadata": {},
   "outputs": [],
   "source": [
    "origin = np.zeros(2)\n",
    "e1 = np.array([1,0])\n",
    "e2 = np.array([0,1])\n",
    "\n",
    "plt.quiver(*origin, *e1, label='e1', color='blue', scale=1, units='xy')\n",
    "plt.quiver(*origin, *e2, label='e2', color='red', scale=1, units='xy')\n",
    "plt.quiver(*origin, *rotate(e1), label='f(e1)', color='green', scale=1, units='xy')\n",
    "plt.quiver(*origin, *rotate(e2), label='f(e2)', color='orange',scale=1, units='xy')\n",
    "plt.legend()\n",
    "plt.grid()\n",
    "plt.xlim(-1,1)\n",
    "plt.ylim(-1,1)\n",
    "plt.gca().set_aspect('equal')\n",
    "plt.show()"
   ]
  },
  {
   "cell_type": "markdown",
   "id": "grand-sunrise",
   "metadata": {},
   "source": [
    "Here, the blue vector is $e_1$, the red vector is $e_2$, the green vector is $f(e_1)$, and the orange vector is $f(e_2)$. \n",
    "As we can see from the plot, we have $f(e_1) \\approx (0.7, 0.7)$ and $f(e_2) \\approx (-0.7, 0.7)$. Indeed, let's check:"
   ]
  },
  {
   "cell_type": "code",
   "execution_count": null,
   "id": "extraordinary-grounds",
   "metadata": {},
   "outputs": [],
   "source": [
    "print('f(e1) = ', rotate(e1))\n",
    "print('f(e2) = ', rotate(e2))"
   ]
  },
  {
   "cell_type": "markdown",
   "id": "nonprofit-prescription",
   "metadata": {},
   "source": [
    "Indeed, this is what we would expect: if we take the vector $(1,0)$ and rotate $45^\\circ$, it is still a unit vector, but is on the $y=x$ line, and therefore must be $(1/\\sqrt{2}, 1/\\sqrt{2})$. Therefore, we have \n",
    "\n",
    "\n",
    "$$\n",
    "f(e_1) = \\begin{pmatrix}\\frac{1}{\\sqrt{2}}\\\\\\frac{1}{\\sqrt{2}}\\end{pmatrix},\\;\\;\\; f(e_2) = \\begin{pmatrix}-\\frac{1}{\\sqrt{2}}\\\\\\frac{1}{\\sqrt{2}}\\end{pmatrix}\n",
    "$$\n",
    "\n",
    "\n",
    "\n",
    "As we showed above, since $f$ is a linear function, we must have that $f(v) = Av$ for some matrix $A$, and the columns of $A$ are given by $f(e_1)$ and $f(e_2)$. \n",
    "Therefore, we deduce that the matrix $A$ must be\n",
    "$$\n",
    "A = \\begin{pmatrix}\\frac{1}{\\sqrt{2}} & -\\frac{1}{\\sqrt{2}}\\\\ \\frac{1}{\\sqrt{2}} &\\frac{1}{\\sqrt{2}}\\end{pmatrix}\n",
    "$$\n",
    "\n",
    "In Python, we can store this matrix as a numpy array as follows:"
   ]
  },
  {
   "cell_type": "code",
   "execution_count": null,
   "id": "completed-commercial",
   "metadata": {},
   "outputs": [],
   "source": [
    "A = np.array([[1/np.sqrt(2),-1/np.sqrt(2)], [1/np.sqrt(2),1/np.sqrt(2)]])\n",
    "A"
   ]
  },
  {
   "cell_type": "markdown",
   "id": "hybrid-metadata",
   "metadata": {},
   "source": [
    "Now since $f(v) = Av$, we realize that we don't actually need to use the function `rotate` to implement $f$: instead, we simply do matrix-vector multiplication to get the function! To do this, we can use the `np.dot` function. \n",
    "Let's make the same plot as before, but instead computing the rotation this way:"
   ]
  },
  {
   "cell_type": "code",
   "execution_count": null,
   "id": "usual-offense",
   "metadata": {},
   "outputs": [],
   "source": [
    "e1_rotated = np.dot(A, e1)\n",
    "e2_rotated = np.dot(A, e2)\n",
    "\n",
    "plt.quiver(*origin, *e1, label='e1', color='blue', scale=1, units='xy')\n",
    "plt.quiver(*origin, *e2, label='e2', color='red', scale=1, units='xy')\n",
    "plt.quiver(*origin, *e1_rotated, label='Ae1', color='green', scale=1, units='xy')\n",
    "plt.quiver(*origin, *e2_rotated, label='Ae2', color='orange',scale=1, units='xy')\n",
    "plt.legend()\n",
    "plt.grid()\n",
    "plt.xlim(-1,1)\n",
    "plt.ylim(-1,1)\n",
    "plt.gca().set_aspect('equal')\n",
    "plt.show()"
   ]
  },
  {
   "cell_type": "markdown",
   "id": "international-cherry",
   "metadata": {},
   "source": [
    "As expected, we get the same result as before! Indeed, now that we've found the matrix $A$, we can use `np.dot(A,v)` to compute $f(v)$ for any vector $v \\in \\mathbb{R}^2$. Let's see a couple more examples with $u = (-.2, .5), v= (.9, -.3)$:"
   ]
  },
  {
   "cell_type": "code",
   "execution_count": null,
   "id": "packed-vaccine",
   "metadata": {},
   "outputs": [],
   "source": [
    "u = np.array([-.2, .5])\n",
    "v = np.array([.9, -.3])\n",
    "\n",
    "plt.quiver(*origin, *u, label='u', color='blue', scale=1, units='xy')\n",
    "plt.quiver(*origin, *v, label='v', color='red', scale=1, units='xy')\n",
    "plt.quiver(*origin, *np.dot(A,u), label='Au', color='green', scale=1, units='xy')\n",
    "plt.quiver(*origin, *np.dot(A,v), label='Av', color='orange',scale=1, units='xy')\n",
    "plt.legend()\n",
    "plt.grid()\n",
    "plt.xlim(-1,1)\n",
    "plt.ylim(-1,1)\n",
    "plt.gca().set_aspect('equal')\n",
    "plt.show()"
   ]
  },
  {
   "cell_type": "markdown",
   "id": "parallel-parameter",
   "metadata": {},
   "source": [
    "### Stretching\n",
    "\n",
    "Next, we again consider the function $f(v)$ which takes a vector $v = (v_1,v_2)$ and 'stretches' it by a factor of $\\alpha$ along the x-axis and  $\\beta$ along the y-axes. \n",
    "The function which performs this operations is given by\n",
    "\n",
    "$$\n",
    "f(v_1,v_2) = (\\alpha v_1, \\beta v_2)\n",
    "$$\n",
    "\n",
    "Let's implement it in a simple Python function, with $\\alpha=2,\\beta=1$ as the default, and see how it acts on the standard basis vectors."
   ]
  },
  {
   "cell_type": "code",
   "execution_count": null,
   "id": "included-newspaper",
   "metadata": {},
   "outputs": [],
   "source": [
    "def stretch(v, alpha=2, beta=1):\n",
    "    return np.array([alpha*v[0], beta*v[1]])\n",
    "\n",
    "plt.quiver(*origin, *e1, label='e1', color='blue', scale=1, units='xy')\n",
    "plt.quiver(*origin, *e2, label='e2', color='red', scale=1, units='xy')\n",
    "plt.quiver(*origin, *stretch(e1), label='f(e1)', color='green', scale=1, units='xy')\n",
    "plt.quiver(*origin, *stretch(e2), label='f(e2)', color='orange',scale=1, units='xy')\n",
    "plt.legend()\n",
    "plt.grid()\n",
    "plt.xlim(-2,2)\n",
    "plt.ylim(-1,1)\n",
    "plt.gca().set_aspect('equal')\n",
    "plt.show()"
   ]
  },
  {
   "cell_type": "markdown",
   "id": "posted-metadata",
   "metadata": {},
   "source": [
    "As we can tell from the plot, we have that $f(e_1) = (2,0)$ and $f(e_2) = (0,1)$. It makes sense that $e_2$ is unchanged after applying $f$, since it is zero in the x-axis direction. Hence the function $f$ can be written as $f(v) = Bv$ where the matrix $B$ is given by\n",
    "$$\n",
    "B = \\begin{pmatrix}2 & 0\\\\ 0&1\\end{pmatrix}\n",
    "$$\n",
    "Let's define this as a numpy array."
   ]
  },
  {
   "cell_type": "code",
   "execution_count": null,
   "id": "incorporated-volunteer",
   "metadata": {},
   "outputs": [],
   "source": [
    "B = np.array([[2,0], [0,1]])\n",
    "B"
   ]
  },
  {
   "cell_type": "markdown",
   "id": "moderate-feelings",
   "metadata": {},
   "source": [
    "Now we can check that $Bv$ indeed gives the same results as $f(v)$:"
   ]
  },
  {
   "cell_type": "code",
   "execution_count": null,
   "id": "rotary-county",
   "metadata": {},
   "outputs": [],
   "source": [
    "e1_stretched = np.dot(B, e1)\n",
    "e2_stretched = np.dot(B, e2)\n",
    "\n",
    "plt.quiver(*origin, *e1, label='e1', color='blue', scale=1, units='xy')\n",
    "plt.quiver(*origin, *e2, label='e2', color='red', scale=1, units='xy')\n",
    "plt.quiver(*origin, *e1_stretched, label='Be1', color='green', scale=1, units='xy')\n",
    "plt.quiver(*origin, *e2_stretched, label='Be2', color='orange',scale=1, units='xy')\n",
    "plt.legend()\n",
    "plt.grid()\n",
    "plt.xlim(-1,1)\n",
    "plt.ylim(-1,1)\n",
    "plt.gca().set_aspect('equal')\n",
    "plt.show()"
   ]
  },
  {
   "cell_type": "markdown",
   "id": "accepted-shoot",
   "metadata": {},
   "source": [
    "As expected, $f(v)$ and $Bv$ are the same.\n",
    "\n",
    "### Projecting\n",
    "\n",
    "The last example is the function\n",
    "\n",
    "\n",
    "$$\n",
    "f(v_1,v_2) = \\left(\\frac{1}{2}(v_1 + v_2), \\frac{1}{2}(v_1 + v_2)\\right)\n",
    "$$\n",
    "\n",
    "which takes any vector $v = (v_1,v_2)$, and maps it to an element of the set $L = \\{(x,y)\\mid x=y\\}$, which is just the $y=x$ line in the plane. We implement it below, and plot how it acts on the standard basis vectors."
   ]
  },
  {
   "cell_type": "code",
   "execution_count": null,
   "id": "allied-width",
   "metadata": {},
   "outputs": [],
   "source": [
    "def project_to_line(v):\n",
    "    return np.array([0.5*(v[0] + v[1]), 0.5*(v[0] + v[1])])\n",
    "\n",
    "plt.quiver(*origin, *e1, label='e1', color='blue', scale=1, units='xy')\n",
    "plt.quiver(*origin, *e2, label='e2', color='red', scale=1, units='xy')\n",
    "plt.quiver(*origin, *project_to_line(e1), label='f(e1)', color='green', scale=1, units='xy')\n",
    "plt.quiver(*origin, *project_to_line(e2), label='f(e2)', color='orange',scale=1, units='xy')\n",
    "plt.legend()\n",
    "plt.grid()\n",
    "plt.xlim(-1,1)\n",
    "plt.ylim(-1,1)\n",
    "plt.gca().set_aspect('equal')\n",
    "plt.show()"
   ]
  },
  {
   "cell_type": "markdown",
   "id": "nonprofit-lecture",
   "metadata": {},
   "source": [
    "The orange and green vectors (representing $f(e_1)$ and $f(e_2)$) are both equal to $(1/2, 1/2)$, and so the matrix $C$ for which $f(v) = Cv$ is given by\n",
    "$$\n",
    "C = \\begin{pmatrix}\\frac{1}{2} & \\frac{1}{2}\\\\ \\frac{1}{2} &\\frac{1}{2}\\end{pmatrix}\n",
    "$$\n",
    "We define this as a numpy array:"
   ]
  },
  {
   "cell_type": "code",
   "execution_count": null,
   "id": "fitted-colors",
   "metadata": {},
   "outputs": [],
   "source": [
    "C = np.array([[1./2, 1./2], [1./2, 1./2]])\n",
    "C"
   ]
  },
  {
   "cell_type": "markdown",
   "id": "dietary-brain",
   "metadata": {},
   "source": [
    "Now we can check that $Cv$ indeed gives the same results as $f(v)$:"
   ]
  },
  {
   "cell_type": "code",
   "execution_count": null,
   "id": "inside-pitch",
   "metadata": {},
   "outputs": [],
   "source": [
    "e1_projected = np.dot(C, e1)\n",
    "e2_projected = np.dot(C, e2)\n",
    "\n",
    "plt.quiver(*origin, *e1, label='e1', color='blue', scale=1, units='xy')\n",
    "plt.quiver(*origin, *e2, label='e2', color='red', scale=1, units='xy')\n",
    "plt.quiver(*origin, *e1_projected, label='Ce1', color='green', scale=1, units='xy')\n",
    "plt.quiver(*origin, *e2_projected, label='Ce2', color='orange',scale=1, units='xy')\n",
    "plt.legend()\n",
    "plt.grid()\n",
    "plt.xlim(-1,1)\n",
    "plt.ylim(-1,1)\n",
    "plt.gca().set_aspect('equal')\n",
    "plt.show()"
   ]
  },
  {
   "cell_type": "markdown",
   "id": "supported-bicycle",
   "metadata": {},
   "source": [
    "As expected, $f(v)$ and $Cv$ are the same.\n",
    "\n",
    "## Finding the composition of linear functions with matrix multiplication\n",
    "\n",
    "An important operation which we've discussed is function composition. When working with linear functions, represented as matrices, function composition can be represented by matrix multiplication. Specifically, if we have linear functions $f(v) = Av$ and $g(v) = Bv$, where $A, B$ are matrices, then we can compute the composition as follows:\n",
    "\n",
    "\n",
    "$$\n",
    "(f\\circ g)(v) = f(g(v)) = f(Bv) = (AG)v\n",
    "$$\n",
    "\n",
    "\n",
    "where here $AB$ is the matrix product of $A$ and $B$. For $2\\times 2$ matrices \n",
    "\n",
    "\n",
    "$$\n",
    "A = \\begin{pmatrix}a_{11} & a_{12}\\\\ a_{21}& a_{22}\\end{pmatrix},\\;\\;\\; B=\\begin{pmatrix}b_{11} & b_{12}\\\\ b_{21}& b_{22}\\end{pmatrix}\n",
    "$$\n",
    "\n",
    "\n",
    "the product $AB$ is given by\n",
    "\n",
    "\n",
    "$$\n",
    "AB = \\begin{pmatrix}a_{11} & a_{12}\\\\ a_{21}& a_{22}\\end{pmatrix}\\begin{pmatrix}b_{11} & b_{12}\\\\ b_{21}& b_{22}\\end{pmatrix} = \\begin{pmatrix}a_{11}b_{11} + a_{12}b_{21}& a_{11}b_{12}+a_{12}b_{22}\\\\ a_{21}b_{11}+a_{22}b_{22}&a_{21}b_{12}+a_{22}b_{22}\\end{pmatrix}\n",
    "$$\n",
    "\n",
    "\n",
    "which is just another $2\\times 2$ matrix. Therefore, to compute the composition of two linear functions $f(v) = Av$, $g(v)=Bv$, we can first compute the matrix $AB$, and then apply this new matrix to a vector $v$. \n",
    "\n",
    "Let's see a few examples of doing this. To visualize compositions, we'll use the same method from the previous workbook of plotting how the linear functions act on points on the unit circle."
   ]
  },
  {
   "cell_type": "code",
   "execution_count": null,
   "id": "polished-guard",
   "metadata": {},
   "outputs": [],
   "source": [
    "np.random.seed(345) #set random seed\n",
    "\n",
    "n_points = 100\n",
    "vv = np.random.normal(size = (2, n_points))\n",
    "vv /= np.linalg.norm(vv, axis=0)\n",
    "plt.scatter(vv[0], vv[1])\n",
    "plt.axis('equal')\n",
    "plt.show()"
   ]
  },
  {
   "cell_type": "markdown",
   "id": "trained-confusion",
   "metadata": {},
   "source": [
    "#### Rotating and stretching\n",
    "\n",
    "Let's consider the matrices $A$ and $B$, defined above, which rotate a vector by $45^\\circ$ and stretch a vector by a factor of 2 on the x-axis, respectively. Let's define a new matrix $AB$, representing the composition of first stretching, then applying a rotation."
   ]
  },
  {
   "cell_type": "code",
   "execution_count": null,
   "id": "forty-guitar",
   "metadata": {},
   "outputs": [],
   "source": [
    "AB = np.dot(A, B)\n",
    "AB"
   ]
  },
  {
   "cell_type": "markdown",
   "id": "boring-wright",
   "metadata": {},
   "source": [
    "  This gives us the matrix\n",
    "\n",
    "\n",
    "$$\n",
    "AB = \\begin{pmatrix}\\sqrt{2} & -1/\\sqrt{2}\\\\ \\sqrt{2}&1/\\sqrt{2} \\end{pmatrix}\n",
    "$$\n",
    "\n",
    "\n",
    "Let's verify visually that this does indeed first stretch the vectors on the circle, forming an ellipse, and then rotate them."
   ]
  },
  {
   "cell_type": "code",
   "execution_count": null,
   "id": "cordless-quick",
   "metadata": {},
   "outputs": [],
   "source": [
    "#here we sort the points by their angles from the origin so that the plot coloring looks nice\n",
    "angles = np.arccos(np.dot(vv.T, np.array([1,0])).flatten())\n",
    "angles_ix = np.argsort(angles)\n",
    "vv = vv[:, angles_ix]\n",
    "\n",
    "composed_vv = np.dot(AB, vv)\n",
    "\n",
    "fig, (ax1, ax2) = plt.subplots(1, 2)\n",
    "ax1.scatter(vv[0], vv[1], c=np.arange(n_points))\n",
    "ax2.scatter(composed_vv[0], composed_vv[1], c=np.arange(n_points))\n",
    "ax1.axis('equal')\n",
    "ax2.axis('equal')\n",
    "ax1.set_title('vectors on unit circle')\n",
    "ax2.set_title('vectors stretched, then rotated')\n",
    "plt.show()"
   ]
  },
  {
   "cell_type": "markdown",
   "id": "nuclear-ground",
   "metadata": {},
   "source": [
    "As we can see, this does exactly what we'd expect, and gives the same result as the composition from the previous workbook: it first stretches along the x-axis to form an ellipse, and then rotates each of the points by $45^\\circ$. \n",
    "\n",
    "Next, let's try first rotating, and then stretching. This action is represented by the matrix $BA$, which we define below."
   ]
  },
  {
   "cell_type": "code",
   "execution_count": null,
   "id": "several-interpretation",
   "metadata": {},
   "outputs": [],
   "source": [
    "BA = np.dot(B, A)\n",
    "BA"
   ]
  },
  {
   "cell_type": "markdown",
   "id": "taken-makeup",
   "metadata": {},
   "source": [
    "  This gives us the matrix\n",
    "\n",
    "\n",
    "$$\n",
    "BA = \\begin{pmatrix}\\sqrt{2} & -\\sqrt{2}\\\\ 1/\\sqrt{2}&1/\\sqrt{2} \\end{pmatrix}\n",
    "$$\n",
    "Note that clearly $AB \\neq BA$: in general we do not have that matrix multiplication commutes. This corresponds to the fact that the composition of linear functions is not commutative. We can see this visually by plotting how $BA$ acts on points on the circle."
   ]
  },
  {
   "cell_type": "code",
   "execution_count": null,
   "id": "uniform-secretariat",
   "metadata": {},
   "outputs": [],
   "source": [
    "composed_vv2 = np.dot(BA, vv)\n",
    "\n",
    "fig, (ax1, ax2) = plt.subplots(1, 2)\n",
    "ax1.scatter(vv[0], vv[1], c=np.arange(n_points))\n",
    "ax2.scatter(composed_vv2[0], composed_vv2[1], c=np.arange(n_points))\n",
    "ax1.axis('equal')\n",
    "ax2.axis('equal')\n",
    "ax1.set_title('vectors on unit circle')\n",
    "ax2.set_title('vectors rotated, then stretched')\n",
    "plt.show()"
   ]
  }
 ],
 "metadata": {
  "kernelspec": {
   "display_name": "Python 3",
   "language": "python",
   "name": "python3"
  },
  "language_info": {
   "codemirror_mode": {
    "name": "ipython",
    "version": 3
   },
   "file_extension": ".py",
   "mimetype": "text/x-python",
   "name": "python",
   "nbconvert_exporter": "python",
   "pygments_lexer": "ipython3",
   "version": "3.7.9"
  }
 },
 "nbformat": 4,
 "nbformat_minor": 5
}
