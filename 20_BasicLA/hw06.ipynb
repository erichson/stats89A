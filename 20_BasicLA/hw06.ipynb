{
 "cells": [
  {
   "cell_type": "markdown",
   "id": "signed-assault",
   "metadata": {},
   "source": [
    "# Homework 6"
   ]
  },
  {
   "cell_type": "markdown",
   "id": "varying-vulnerability",
   "metadata": {},
   "source": [
    "## Problem 1: Verifying visually that rotating, stretching and projecting are linear operations\n",
    "\n",
    "In section 3.1 of the workbook, we gave three examples of linear functions on $\\mathbb{R}^2$: one which rotated vectors by $45^\\circ$, one which stretched vectors along the x-axis, and one which projected vectors onto the line $y=x$. In this problem, we will verify visually that these function are all indeed linear, by checking that they satisfy the two properties of linear functions: they are additive, and they preserve scalar multiplication.\n",
    "\n",
    "First, we give you a set of 5000 unit vectors $v$ which you will use to verify this, stored in the array ``vv``.  "
   ]
  },
  {
   "cell_type": "code",
   "execution_count": null,
   "id": "subtle-miller",
   "metadata": {},
   "outputs": [],
   "source": [
    "import numpy as np"
   ]
  },
  {
   "cell_type": "code",
   "execution_count": null,
   "id": "according-exception",
   "metadata": {},
   "outputs": [],
   "source": [
    "n_points = 5000\n",
    "vv = np.random.normal(size = (2, n_points))\n",
    "vv /= np.linalg.norm(vv, axis=0)"
   ]
  },
  {
   "cell_type": "markdown",
   "id": "architectural-effects",
   "metadata": {},
   "source": [
    "Next, we copy the definition of the three functions we gave in the workbook."
   ]
  },
  {
   "cell_type": "code",
   "execution_count": null,
   "id": "characteristic-gilbert",
   "metadata": {},
   "outputs": [],
   "source": [
    "#rotates by 45 degrees\n",
    "def stretch(v):\n",
    "    c = np.pi/4\n",
    "    return np.array([np.cos(c)*v[0] - np.sin(c)*v[1], np.sin(c)*v[0] + np.cos(c)*v[1]])\n",
    "\n",
    "#stretches by factor of 2 along the x-axis\n",
    "def rotate(v):\n",
    "    return np.array([2*v[0], v[1]])\n",
    "\n",
    "#projects onto the line y=x\n",
    "def project(v):\n",
    "    return np.array([0.5*(v[0] + v[1]), 0.5*(v[0] + v[1])])"
   ]
  },
  {
   "cell_type": "markdown",
   "id": "noticed-jacob",
   "metadata": {},
   "source": [
    "### Part A\n",
    "\n",
    "Consider the function `rotate` defined above, which rotates a vector by $45^\\circ$. In Python, define a nonzero scalar $\\alpha$ and a nonzero vector $u = (u_1,u_2)$. By plotting $\\text{rotate}(u + v)$ and $\\text{rotate}(u) + \\text{rotate}(v)$ for every $v$ in the set `vv`, and showing that they are equal, check that $\\text{rotate}$ is indeed additive. Then, by plotting $\\text{rotate}(\\alpha v)$ and $\\alpha\\cdot \\text{rotate}(v)$ for every $v$ in the set `vv`, and showing that they are equal, check that $\\text{rotate}$ preserves scalar multiplication. (Hint: you should be able to use similar code to make these plots as given in section 3.1 in the workbook.)"
   ]
  },
  {
   "cell_type": "code",
   "execution_count": null,
   "id": "united-internet",
   "metadata": {},
   "outputs": [],
   "source": []
  },
  {
   "cell_type": "markdown",
   "id": "satisfactory-inquiry",
   "metadata": {},
   "source": [
    "### Part B\n",
    "\n",
    "Consider the function `stretch` defined above, which stretches a vector by factor of 2 along the x-axis, defined in Python above as `rotate`. In Python, define a nonzero scalar $\\alpha$ and a nonzero vector $u = (u_1,u_2)$. By plotting $g(u + v)$ and $g(u) + g(v)$ for every $v$ in the set `vv`, and showing that they are equal, check that $g$ is indeed additive. Then, by plotting $g(\\alpha v)$ and $\\alpha\\cdot g(v)$ for every $v$ in the set `vv`, and showing that they are equal, check that $g$ preserves scalar multiplication. (Hint: you should be able to use similar code to make these plots as given in section 3.1 in the workbook.)"
   ]
  },
  {
   "cell_type": "code",
   "execution_count": null,
   "id": "acute-explosion",
   "metadata": {},
   "outputs": [],
   "source": []
  },
  {
   "cell_type": "markdown",
   "id": "twelve-tuition",
   "metadata": {},
   "source": [
    "## Part B\n",
    "\n",
    "Let $h$ be the function which projects a vector onto the line y=x, defined in Python above as `project`. In Python, define a nonzero scalar $\\alpha$ and a nonzero vector $u = (u_1,u_2)$. By plotting $h(u + v)$ and $h(u) + h(v)$ for every $v$ in the set `vv`, and showing that they are equal, check that $h$ is indeed additive. Then, by plotting $h(\\alpha v)$ and $\\alpha\\cdot h(v)$ for every $v$ in the set `vv`, and showing that they are equal, check that $h$ preserves scalar multiplication. (Hint: you should be able to use similar code to make these plots as given in section 3.1 in the workbook.)"
   ]
  },
  {
   "cell_type": "code",
   "execution_count": null,
   "id": "applicable-somewhere",
   "metadata": {},
   "outputs": [],
   "source": []
  },
  {
   "cell_type": "markdown",
   "id": "diverse-acting",
   "metadata": {},
   "source": [
    "## Problem 2: Representing linear functions with matrices"
   ]
  },
  {
   "cell_type": "markdown",
   "id": "middle-cemetery",
   "metadata": {},
   "source": [
    "### Part A\n",
    "Consider the function $f:\\mathbb{R}^2 \\to \\mathbb{R}^2$ defined below. Find a matrix $F$ such that $f(v) = Fv$ for any vector $v\\in \\mathbb{R}^2$, and define it as a numpy array. Then, define two vectors $u,v\\in \\mathbb{R}^2$ and, using the `np.dot` function, check that $f(v) = Fv$ and also that $f(u) = Fu$."
   ]
  },
  {
   "cell_type": "code",
   "execution_count": null,
   "id": "strategic-cream",
   "metadata": {},
   "outputs": [],
   "source": [
    "def f(v):\n",
    "    return np.array([0.2*v[0] - 2*v[1] + np.exp(2)*(v[0] - v[1]), -v[1]])"
   ]
  },
  {
   "cell_type": "markdown",
   "id": "romance-wellington",
   "metadata": {},
   "source": [
    "### Part B\n",
    "Consider the function $g:\\mathbb{R}^2 \\to \\mathbb{R}^2$ defined below. Find a matrix $G$ such that $g(v) = Gv$ for any vector $v\\in \\mathbb{R}^2$, and define it as a numpy array. Then, define two vectors $u,v\\in \\mathbb{R}^2$ and, using the `np.dot` function, check that $g(v) = Gv$ and also that $g(u) = Gu$."
   ]
  },
  {
   "cell_type": "code",
   "execution_count": null,
   "id": "exceptional-boost",
   "metadata": {},
   "outputs": [],
   "source": [
    "def g(v):\n",
    "    a = np.array([6*v[0] - v[1], v[0] + 0.2*v[1]]) \n",
    "    b = np.array([-v[1], np.log(5)*v[0] + 2*v[1]]) \n",
    "    return a+b"
   ]
  },
  {
   "cell_type": "markdown",
   "id": "structural-algeria",
   "metadata": {},
   "source": [
    "## Problem 3: Composing linear functions\n",
    "\n",
    "### Part A\n",
    "Consider the functions `stretch` and `rotate` defined in problem 1. Find a matrix $A_1$ such that $(\\text{stretch}\\circ \\text{rotate})(v) = A_1v$ for any vector $v$. Then, define two vectors $u,v\\in \\mathbb{R}^2$ and, using the `np.dot` function, check that $(\\text{stretch}\\circ \\text{rotate})(v) = A_1v$ and also that $(\\text{stretch}\\circ \\text{rotate})(u) = A_1u$."
   ]
  },
  {
   "cell_type": "code",
   "execution_count": null,
   "id": "found-buyer",
   "metadata": {},
   "outputs": [],
   "source": []
  },
  {
   "cell_type": "markdown",
   "id": "white-geology",
   "metadata": {},
   "source": [
    "### Part B\n",
    "Next, find a matrix $A_2$ such that $(\\text{rotate}\\circ \\text{stretch})(v) = A_2v$ for any vector $v$. Then, define two vectors $u,v\\in \\mathbb{R}^2$ and, using the `np.dot` function, check that $(\\text{rotate}\\circ \\text{stretch})(v) = A_2v$ and also that $(\\text{rotate}\\circ \\text{stretch})(u) = A_2u$."
   ]
  },
  {
   "cell_type": "code",
   "execution_count": null,
   "id": "sudden-rebound",
   "metadata": {},
   "outputs": [],
   "source": []
  },
  {
   "cell_type": "markdown",
   "id": "vocal-yield",
   "metadata": {},
   "source": [
    "### Part C\n",
    "By computing $A_1A_2$ and $A_2A_1$, determine whether or not the functions `stretch` and `rotate` commute."
   ]
  },
  {
   "cell_type": "markdown",
   "id": "medium-grant",
   "metadata": {},
   "source": [
    "## Problem 5: Be smart about the order when doing matrix multiplications\n",
    "You can use the function `np.dot` to compute the matrix product of two or more arrays by nesting functions. For example:"
   ]
  },
  {
   "cell_type": "code",
   "execution_count": null,
   "id": "banned-exchange",
   "metadata": {},
   "outputs": [],
   "source": [
    "A = np.random.random((100, 100))\n",
    "B = np.random.random((100, 100))\n",
    "C = np.random.random((100, 5))"
   ]
  },
  {
   "cell_type": "code",
   "execution_count": null,
   "id": "extended-functionality",
   "metadata": {},
   "outputs": [],
   "source": [
    "%time for i in range(100): np.dot(np.dot(A,B),C)"
   ]
  },
  {
   "cell_type": "markdown",
   "id": "right-effect",
   "metadata": {},
   "source": [
    "As discussed in the lab, the order of multiplication, matters. Find the best order (use only a single line) for the following 4 matrices. Hint: the computation should take less than a second."
   ]
  },
  {
   "cell_type": "code",
   "execution_count": null,
   "id": "binding-exhaust",
   "metadata": {},
   "outputs": [],
   "source": [
    "A = np.random.random((20000, 100))\n",
    "B = np.random.random((100, 1000))\n",
    "C = np.random.random((1000, 5))\n",
    "D = np.random.random((5, 5))"
   ]
  },
  {
   "cell_type": "code",
   "execution_count": null,
   "id": "adjustable-rendering",
   "metadata": {},
   "outputs": [],
   "source": [
    "# uncomment the next line\n",
    "#%time for i in range(100): # your code goes here"
   ]
  },
  {
   "cell_type": "markdown",
   "id": "other-batch",
   "metadata": {},
   "source": [
    "## Problem 5: Matrix addition and multiplication using loops\n",
    "NumPy provides high-performance routines for matrix addition and multiplication, however, it is a good exercise to implement some basic algorithms to build intution for the mechanics of these operations. "
   ]
  },
  {
   "cell_type": "markdown",
   "id": "practical-nursery",
   "metadata": {},
   "source": [
    "### Part A\n",
    "Write a function `array_add` that takes as arguments two arrays and returns the sum of the arrays. You are supposed to use two for loops and you can't use any special NumPy functions. "
   ]
  },
  {
   "cell_type": "code",
   "execution_count": null,
   "id": "collaborative-shadow",
   "metadata": {},
   "outputs": [],
   "source": [
    "def array_add(A, B):\n",
    "    #function body\n",
    "    C = np.zeros((A.shape[0], A.shape[1]))\n",
    "    # Here goes your code\n",
    "    \n",
    "    return C"
   ]
  },
  {
   "cell_type": "markdown",
   "id": "objective-thursday",
   "metadata": {},
   "source": [
    "Here are two test matrices. "
   ]
  },
  {
   "cell_type": "code",
   "execution_count": null,
   "id": "cardiac-detective",
   "metadata": {},
   "outputs": [],
   "source": [
    "A = np.random.random((2000, 2000))\n",
    "B = np.random.random((2000, 2000))"
   ]
  },
  {
   "cell_type": "markdown",
   "id": "historic-toolbox",
   "metadata": {},
   "source": [
    "Check whether your answer is correct."
   ]
  },
  {
   "cell_type": "code",
   "execution_count": null,
   "id": "automatic-version",
   "metadata": {},
   "outputs": [],
   "source": [
    "array_add(A, B) == np.add(A,B)"
   ]
  },
  {
   "cell_type": "markdown",
   "id": "usual-devil",
   "metadata": {},
   "source": [
    "Next, compare the timing between your function and NumPy's build in function."
   ]
  },
  {
   "cell_type": "code",
   "execution_count": null,
   "id": "uniform-treasurer",
   "metadata": {},
   "outputs": [],
   "source": [
    "%time for i in range(100): array_add(A,B)"
   ]
  },
  {
   "cell_type": "code",
   "execution_count": null,
   "id": "informed-equilibrium",
   "metadata": {},
   "outputs": [],
   "source": [
    "%time for i in range(100): np.add(A,B)"
   ]
  },
  {
   "cell_type": "markdown",
   "id": "ongoing-monaco",
   "metadata": {},
   "source": [
    "### Part A\n",
    "Write a function `array_mult` that takes as arguments two arrays and returns the product of the arrays. You can't use any special NumPy functions."
   ]
  },
  {
   "cell_type": "code",
   "execution_count": null,
   "id": "urban-advocacy",
   "metadata": {},
   "outputs": [],
   "source": [
    "def array_mult(A, B):\n",
    "    #function body\n",
    "    C = np.zeros((A.shape[0], B.shape[1]))\n",
    "    # Here goes your code\n",
    "    \n",
    "    return C"
   ]
  },
  {
   "cell_type": "markdown",
   "id": "level-allen",
   "metadata": {},
   "source": [
    "Here are two test matrices. "
   ]
  },
  {
   "cell_type": "code",
   "execution_count": null,
   "id": "scenic-surface",
   "metadata": {},
   "outputs": [],
   "source": [
    "A = np.random.random((5, 2000))\n",
    "B = np.random.random((2000, 5))"
   ]
  },
  {
   "cell_type": "markdown",
   "id": "terminal-rendering",
   "metadata": {},
   "source": [
    "Check whether your answer is correct."
   ]
  },
  {
   "cell_type": "code",
   "execution_count": null,
   "id": "superior-stadium",
   "metadata": {},
   "outputs": [],
   "source": [
    "array_mult(A, B) == np.dot(A,B)"
   ]
  },
  {
   "cell_type": "markdown",
   "id": "through-liabilities",
   "metadata": {},
   "source": [
    "Next, compare the timing between your function and NumPy's build in function."
   ]
  },
  {
   "cell_type": "code",
   "execution_count": null,
   "id": "forward-abuse",
   "metadata": {},
   "outputs": [],
   "source": [
    "%time for i in range(100): array_mult(A,B)"
   ]
  },
  {
   "cell_type": "code",
   "execution_count": null,
   "id": "electronic-album",
   "metadata": {},
   "outputs": [],
   "source": [
    "%time for i in range(100): np.dot(A,B)"
   ]
  }
 ],
 "metadata": {
  "kernelspec": {
   "display_name": "Python 3",
   "language": "python",
   "name": "python3"
  },
  "language_info": {
   "codemirror_mode": {
    "name": "ipython",
    "version": 3
   },
   "file_extension": ".py",
   "mimetype": "text/x-python",
   "name": "python",
   "nbconvert_exporter": "python",
   "pygments_lexer": "ipython3",
   "version": "3.7.9"
  }
 },
 "nbformat": 4,
 "nbformat_minor": 5
}
