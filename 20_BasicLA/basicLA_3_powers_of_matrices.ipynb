{
 "cells": [
  {
   "cell_type": "markdown",
   "id": "amber-woman",
   "metadata": {},
   "source": [
    "# Taking Powers of Matrices\n",
    "\n",
    "Taking powers of matrices refers to multiplying a matrix by itself multiple times.\n",
    "\n",
    "Given an $n \\times n$ matrix $A$, we can multiply it by itself to get $ AA $, and this can be denoted $A^2$. \n",
    "Then, since $A^2$ is an $n \\times n$ matrix, we can multiply it to get $A^3$, and so on \n",
    "\n",
    "$$\n",
    "A^k = A \\cdots A  ,\n",
    "$$\n",
    "\n",
    "where there are $k$ copies of $A$ in this product.\n",
    "Taking powers of matrices is very common.\n",
    "Here, we will explore some of the properties of this operation.\n",
    "\n",
    "There are two (related) ways to view this.\n",
    "- First, we can simply multiply $A$ by itself multiple times and see what happens.\n",
    "- Second, we can think of $A$ as multiplying a vector $x$, as in $Ax$, and see what happens if we do this multiple times, i.e., what is $A(A(\\cdots(A(x))))$.\n",
    "\n",
    "We are interested in both of these views.\n",
    "\n",
    "\n",
    "## Powers of a diagonal matrix \n",
    "\n",
    "Let's start by considering powers of a diagonal matrix.\n",
    "\n",
    "Consider a diagonal matrix $A$ of the form\n",
    "\n",
    "$$\n",
    "A = \\begin{pmatrix}a_1 & 0 &\\cdots &0\\\\\n",
    "\t\t\t\t\t\t\t\t\t 0   & a_2 & \\cdots &0\\\\\n",
    "                   \\vdots & \\vdots & \\ddots & \\vdots\\\\\n",
    "                   0 &\\cdots &0&a_n\n",
    "\t\t\\end{pmatrix}\n",
    "$$\n",
    "\n",
    "If we take the second power of this matrix, i.e. $A^2 = AA$, the resulting matrix is\n",
    "\n",
    "$$\n",
    "A^2 = AA = \\begin{pmatrix}a_1 & 0 &\\cdots &0\\\\\n",
    "\t\t\t\t\t\t\t\t\t 0   & a_2 & \\cdots &0\\\\\n",
    "                   \\vdots & \\vdots & \\ddots & \\vdots\\\\\n",
    "                   0 &\\cdots &0&a_n\n",
    "\t\t\\end{pmatrix}\\begin{pmatrix}a_1 & 0 &\\cdots &0\\\\\n",
    "\t\t\t\t\t\t\t\t\t 0   & a_2 & \\cdots &0\\\\\n",
    "                   \\vdots & \\vdots & \\ddots & \\vdots\\\\\n",
    "                   0 &\\cdots &0&a_n\n",
    "\t\t\\end{pmatrix} = \\begin{pmatrix}a_1^2 & 0 &\\cdots &0\\\\\n",
    "\t\t\t\t\t\t\t\t\t 0   & a_2^2 & \\cdots &0\\\\\n",
    "                   \\vdots & \\vdots & \\ddots & \\vdots\\\\\n",
    "                   0 &\\cdots &0&a_n^2\n",
    "\t\t\\end{pmatrix}\n",
    "$$\n",
    "\n",
    "Hence we see that the second power of a diagonal matrix is obtained by simply squaring each entry. \n",
    "More generally, the $k^{th}$ power of a diagonal matrix can be seen to be\n",
    "\n",
    "\n",
    "$$\n",
    "A^k = \\begin{pmatrix}a_1^k & 0 &\\cdots &0\\\\\n",
    "\t\t\t\t\t\t\t\t\t 0   & a_2^k & \\cdots &0\\\\\n",
    "                   \\vdots & \\vdots & \\ddots & \\vdots\\\\\n",
    "                   0 &\\cdots &0&a_n^k\n",
    "\t\t\\end{pmatrix}\n",
    "$$\n",
    "\n",
    "\n",
    "Let's verify this in Python. \n",
    "First, we define a diagonal matrix $A$ using the `np.diag` function."
   ]
  },
  {
   "cell_type": "code",
   "execution_count": null,
   "id": "powerful-playlist",
   "metadata": {},
   "outputs": [],
   "source": [
    "import numpy as np\n",
    "\n",
    "A = np.diag([1,2,3,4,5,6,7,8,9,10])\n",
    "A"
   ]
  },
  {
   "cell_type": "markdown",
   "id": "elegant-moderator",
   "metadata": {},
   "source": [
    "Before practicing taking powers of this matrix, let's take a moment to review how we can take powers in Python more generally. \n",
    "We can find the $k^{th}$ power of a scalar $x$ in Python by using the `**` operation. For example,"
   ]
  },
  {
   "cell_type": "code",
   "execution_count": null,
   "id": "respective-blair",
   "metadata": {},
   "outputs": [],
   "source": [
    "x = 2\n",
    "print('x^2 = ', x**2)\n",
    "print('x^3 = ', x**3)\n",
    "print('x^4 = ', x**4)"
   ]
  },
  {
   "cell_type": "markdown",
   "id": "divine-antique",
   "metadata": {},
   "source": [
    "The same operation can be used to take the _element-wise_ power of a numpy array. \n",
    "For example,"
   ]
  },
  {
   "cell_type": "code",
   "execution_count": null,
   "id": "elect-officer",
   "metadata": {},
   "outputs": [],
   "source": [
    "x = np.array([1,2,3,4,5])\n",
    "x**2"
   ]
  },
  {
   "cell_type": "markdown",
   "id": "disciplinary-characterization",
   "metadata": {},
   "source": [
    "This returns the array `[1,4,9,16,25]`, which are the squares of each of the entries of `[1,2,3,4,5]`. \n",
    "The same applies to 2-d arrays, i.e., matrices.\n",
    "In this case, we get the _element-wise_ power of the matrix."
   ]
  },
  {
   "cell_type": "code",
   "execution_count": null,
   "id": "hungry-treasury",
   "metadata": {},
   "outputs": [],
   "source": [
    "A**2"
   ]
  },
  {
   "cell_type": "markdown",
   "id": "accessible-sustainability",
   "metadata": {},
   "source": [
    "As we saw above, for diagonal matrices, this is the same as the second power of the matrix. \n",
    "Let's verify this."
   ]
  },
  {
   "cell_type": "code",
   "execution_count": null,
   "id": "silent-numbers",
   "metadata": {},
   "outputs": [],
   "source": [
    "AA = np.dot(A,A)\n",
    "np.allclose(AA, A**2)"
   ]
  },
  {
   "cell_type": "markdown",
   "id": "verbal-healthcare",
   "metadata": {},
   "source": [
    "This is a very special property of diagonal matrices.\n",
    "In general, the $k^{th}$ power of a matrix $A$ will not be the same as taking the $k^{th}$ power of each entry of $A$, as we will see later on.\n",
    "\n",
    "\n",
    "### Powers of a diagonal matrix as $k\\to \\infty$\n",
    "\n",
    "A natural question to ask when taking power of a matrix is what happens to the matrix $A^k$ when we let $k$ get large. \n",
    "Does the matrix $A^k$ converge to a finite matrix $A_\\infty$? \n",
    "Or do the entries diverge? \n",
    "\n",
    "In the case of a diagonal matrix $A$, this question is easy to answer, since we know that $A^k$ corresponds to taking the $k^{th}$ power of each of the diagonal entries of $A$. \n",
    "Thus, our question can be answered by asking what happens to the scalar $x^k$ as $k\\to\\infty$. \n",
    "Indeed, we know the following are true:\n",
    "\n",
    "\n",
    "$$\n",
    "\\lim_{k\\to\\infty}x^k = \\begin{cases} \\infty & \\text{if } x>1\\\\ 1 & \\text{if } x=1\\\\ 0 & \\text{if } -1 < x < 1\\\\ \\text{does not exist} & \\text{if } x\\leq -1\\end{cases}\n",
    "$$\n",
    "\n",
    "\n",
    "Hence, we can expect to have a finite limit $A^k$ as $k\\to \\infty$ if the diagonal entries of $a_1,\\dots,a_n$ of $A$ satisfy $|a_i|<1$ or $a_i = 1$ for all $i=1,\\dots,n$. \n",
    "Otherwise, the matrix $A^k$ will either oscillate or diverge as $k\\to\\infty$. \n",
    "Let's see an example with our matrix $A$ from above. \n",
    "\n",
    "To get an idea of what $A^k$ is as $k\\to\\infty$, let's try computing $A^{10}$."
   ]
  },
  {
   "cell_type": "code",
   "execution_count": null,
   "id": "extra-internship",
   "metadata": {},
   "outputs": [],
   "source": [
    "k = 10\n",
    "\n",
    "Ak = np.linalg.matrix_power(A, k)\n",
    "Ak"
   ]
  },
  {
   "cell_type": "markdown",
   "id": "experienced-advocate",
   "metadata": {},
   "source": [
    "As would expect based on our discussion above, the entries are growing very quickly. \n",
    "On the other hand, let's see what happens when we _rescale_ the matrix $A$ between each successive multiplication. \n",
    "In this case, a natural quantity to rescale a matrix $A$ by is the reciprocal of its largest diagonal entry, which in this case is $\\frac{1}{10}$."
   ]
  },
  {
   "cell_type": "code",
   "execution_count": null,
   "id": "recent-discount",
   "metadata": {},
   "outputs": [],
   "source": [
    "A_rescaled = (1./10)*A\n",
    "A_rescaled_k = np.linalg.matrix_power(A_rescaled, k)\n",
    "np.round(A_rescaled_k,4)"
   ]
  },
  {
   "cell_type": "markdown",
   "id": "higher-breathing",
   "metadata": {},
   "source": [
    "Here, we rounded the matrix to $4$ decimals to make it more readable. \n",
    "We see that the entries aren't growing, and are actually getting smaller, with the exception of $10$th diagonal which stays constant at $1$. \n",
    "Let's try what happens with $k=100$ now to get a better idea for what the limiting matrix is."
   ]
  },
  {
   "cell_type": "code",
   "execution_count": null,
   "id": "chicken-queensland",
   "metadata": {},
   "outputs": [],
   "source": [
    "k = 100\n",
    "\n",
    "A_rescaled_k = np.linalg.matrix_power(A_rescaled, k)\n",
    "np.round(A_rescaled_k,4)"
   ]
  },
  {
   "cell_type": "markdown",
   "id": "comparable-rental",
   "metadata": {},
   "source": [
    "Here it is easy to see that the matrix $A^k$ converges to the matrix of all zeros except the last diagonal entry, which is still $1$. \n",
    "\n",
    "This probably seems like a special situation, but it is very common---if you view the matrix the right way.\n",
    "\n",
    "\n",
    "## Powers of a genenal (symmetric) matrix\n",
    "\n",
    "Let's now consider how taking powers of matrices is similar/different when considering powers of a general (symmetric) matrix.\n",
    "\n",
    "Let's define a symmetric matrix $A$ to use in this section. \n",
    "Here we use a trick to do this: for any matrix $B$, the matrix $B+B^\\top$ is always symmetric.\n",
    "(If we wanted, we could take advantage of the fact that for any matrix $B$, the matrix $BB^\\top$ is always symmetric; or we could use any symmetric matrix.)"
   ]
  },
  {
   "cell_type": "code",
   "execution_count": null,
   "id": "interesting-solution",
   "metadata": {},
   "outputs": [],
   "source": [
    "B = np.arange(1, 26).reshape(5,5)\n",
    "A = .5*(B + B.T)\n",
    "A"
   ]
  },
  {
   "cell_type": "markdown",
   "id": "complete-avenue",
   "metadata": {},
   "source": [
    "The first fact about general symmetric matrices which we verify here is that for non-symmetric $A$, it is emphatically _not_ the case that $A^k$ is the same as taking the $k^{th}$ power of each of the entries of $A$. \n",
    "Let's check this for our case.\n",
    "\n",
    "The entry-wise $k^{th}$ power of $A$ is"
   ]
  },
  {
   "cell_type": "code",
   "execution_count": null,
   "id": "going-tobago",
   "metadata": {},
   "outputs": [],
   "source": [
    "k = 2\n",
    "\n",
    "A**k"
   ]
  },
  {
   "cell_type": "markdown",
   "id": "hollywood-egyptian",
   "metadata": {},
   "source": [
    "While the $A^k$ is given by"
   ]
  },
  {
   "cell_type": "code",
   "execution_count": null,
   "id": "static-drinking",
   "metadata": {},
   "outputs": [],
   "source": [
    "np.linalg.matrix_power(A, k)"
   ]
  },
  {
   "cell_type": "markdown",
   "id": "competent-envelope",
   "metadata": {},
   "source": [
    "Indeed, these two matrices are very much not the same. \n",
    "If we think about what matrix multiplication does, this of course makes sense: the $(i,j)$th entry of the product $AA$ depends on the entire $i^{th}$ row and $j^{th}$ column of $A$, whereas the $(i,j)^{th}$ entry of the entry-wise square of $A$ only requires calculating $a_{ij}^2$. \n",
    "\n",
    "\n",
    "### Powers of a genenal (symmetric) matrix as $k\\to \\infty$\n",
    "\n",
    "For diagonal matrices, we saw that the power $A^k$ converges to a finite matrix only if we rescale things correctly. \n",
    "Here, we will see that this is also true for general symmetric matrices, but that we need to be a bit careful about how we rescale them.\n",
    "\n",
    "First, let's verify that without rescaling, the matrix $A^k$ will diverge as $k\\to\\infty$."
   ]
  },
  {
   "cell_type": "code",
   "execution_count": null,
   "id": "different-cloud",
   "metadata": {},
   "outputs": [],
   "source": [
    "k = 10\n",
    "\n",
    "Ak = np.linalg.matrix_power(A, k)\n",
    "Ak"
   ]
  },
  {
   "cell_type": "markdown",
   "id": "signed-diameter",
   "metadata": {},
   "source": [
    "Here, $A^k$ diverges due to the specific matrix $A$.  For other matrices, $A^k$ would converge to the all-zeros matrix.\n",
    "\n",
    "Indeed, even for $k=10$, the matrix entries blow up. \n",
    "So how should we rescale $A$ so that this doesn't happen? \n",
    "We might be inspired by the diagonal case and rescale the matrix by the reciprocal of the largest entry of $A$, which in this case would be $\\frac{1}{25}$. \n",
    "Let's see if this works by looking at $(\\frac{1}{25}A)^k$ for $k=20$."
   ]
  },
  {
   "cell_type": "code",
   "execution_count": null,
   "id": "employed-cooperation",
   "metadata": {},
   "outputs": [],
   "source": [
    "k = 20\n",
    "\n",
    "A_rescaled1 = (1./25)*A\n",
    "A_rescaled1_k = np.linalg.matrix_power(A_rescaled1, k)\n",
    "A_rescaled1_k"
   ]
  },
  {
   "cell_type": "markdown",
   "id": "accompanied-power",
   "metadata": {},
   "source": [
    "Unfortunately, this idea doesn't work---the entries still seem to blow up. \n",
    "However, let's try rescaling by the constant $\\frac{1}{\\lambda}$ where $\\lambda = 71.3104367$. \n",
    "(We'll see later why this particular rescaling makes sense.)"
   ]
  },
  {
   "cell_type": "code",
   "execution_count": null,
   "id": "respective-signature",
   "metadata": {},
   "outputs": [],
   "source": [
    "k = 20\n",
    "lam = 71.3104367\n",
    "\n",
    "A_rescaled2 = (1./lam)*A\n",
    "A_rescaled2_k = np.linalg.matrix_power(A_rescaled2, k)\n",
    "A_rescaled2_k"
   ]
  },
  {
   "cell_type": "markdown",
   "id": "polyphonic-longer",
   "metadata": {},
   "source": [
    "Things don't seem to be blowing up this time, so let's see what happens with $k=100$."
   ]
  },
  {
   "cell_type": "code",
   "execution_count": null,
   "id": "ordinary-coffee",
   "metadata": {},
   "outputs": [],
   "source": [
    "k = 100\n",
    "A_rescaled2_k = np.linalg.matrix_power(A_rescaled2, k)\n",
    "A_rescaled2_k"
   ]
  },
  {
   "cell_type": "markdown",
   "id": "endangered-japanese",
   "metadata": {},
   "source": [
    "Indeed, taking higher powers doesn't seem to be changing the matrix anymore, so this rescaling works to guarantee convergence of the matrix powers. \n",
    "So, how did we come up with the mysterious constant $\\lambda = 71.3104367$? \n",
    "This turns out to be a special number which is the largest _eigenvalue_ of $A$. \n",
    "We won't be discussing the topic of eigenvalues until a bit later in the semester, but consider this some interesting motivation for the topics that we'll study later on. \n",
    "When we get to this topic later on, it will be more clear where this constant came from, and why rescaling by its reciprocal works."
   ]
  }
 ],
 "metadata": {
  "kernelspec": {
   "display_name": "Python 3",
   "language": "python",
   "name": "python3"
  }
 },
 "nbformat": 4,
 "nbformat_minor": 5
}
