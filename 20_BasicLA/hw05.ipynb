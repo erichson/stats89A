{
 "cells": [
  {
   "cell_type": "markdown",
   "id": "appropriate-scope",
   "metadata": {},
   "source": [
    "# Homework 5\n",
    "\n",
    "In this assignment, we'll investigate numerically the concept of vector spaces and bases. Throughout, you should represent vectors using `numpy` arrays, as we've shown in the workbook."
   ]
  },
  {
   "cell_type": "markdown",
   "id": "modular-drill",
   "metadata": {},
   "source": [
    "## Problem 1: an example of a vector space\n",
    "\n",
    "In this problem, we will consider the following set: $V = \\{(x_1,x_2,x_3) \\in \\mathbb{R}^3 \\mid x_1 + x_2 + x_3 = 0\\} \\subseteq \\mathbb{R}^3.$\n",
    "Our goal is to show that this set satisfies the properties of a vector space.\n",
    "\n",
    "### Part A\n",
    "\n",
    "Find three vectors $x = (x_1,x_2,x_3), y = (y_1, y_2, y_3)$ and $z = (z_1, z_2, z_3)$ that are in $V$, and store them and `numpy` arrays."
   ]
  },
  {
   "cell_type": "code",
   "execution_count": null,
   "id": "behind-honduras",
   "metadata": {},
   "outputs": [],
   "source": []
  },
  {
   "cell_type": "markdown",
   "id": "ranging-makeup",
   "metadata": {},
   "source": [
    "### Part B\n",
    "Verify that $V$ is closed under vector addition, by showing that $x+y \\in V$, $x+z \\in V$ and $y+z \\in V$."
   ]
  },
  {
   "cell_type": "code",
   "execution_count": null,
   "id": "ordered-mortality",
   "metadata": {},
   "outputs": [],
   "source": []
  },
  {
   "cell_type": "markdown",
   "id": "entire-exception",
   "metadata": {},
   "source": [
    "### Part C\n",
    "Define some scalar number $\\alpha$, and verify that $V$ is closed under scalar multiplication by showing that $\\alpha x \\in V$, $\\alpha y \\in V$ and $\\alpha z \\in V$."
   ]
  },
  {
   "cell_type": "code",
   "execution_count": null,
   "id": "built-gravity",
   "metadata": {},
   "outputs": [],
   "source": []
  },
  {
   "cell_type": "markdown",
   "id": "artificial-guarantee",
   "metadata": {},
   "source": [
    "## Problem 2: linearly dependent and independent vectors\n",
    "\n",
    "Recall that vectors $v_1,\\dots, v_k$ are called _linearly dependent_ if there exist scalars $c_1, \\dots, c_k$ not all equal to zero such that $c_1 v_1 + c_2 v_2 + \\cdots + c_kv_k = 0$.\n",
    "\n",
    "Define the vectors $v_1 = (1, 1), v_2 = (2,1), v_3 = (1,2)$ in $\\mathbb{R}^2$. Can you find scalars $c_1, c_2, c_3$ such that $c_1 v_1 + c_2 v_2 + c_3 v_3 = (0,0)$? If so, find them, and verify numerically that they satisfy the linear dependence property. Can you find three vectors $v_1, v_2$ and $v_3$ in $\\mathbb{R}^2$ that are not linearly dependent? "
   ]
  },
  {
   "cell_type": "code",
   "execution_count": null,
   "id": "stylish-catholic",
   "metadata": {},
   "outputs": [],
   "source": []
  },
  {
   "cell_type": "markdown",
   "id": "auburn-compact",
   "metadata": {},
   "source": [
    "## Problem 3: changing bases\n",
    "\n",
    "Typically, when we write a vector $x = (x_1, x_2)$ in $\\mathbb{R}^2$, we are implicitly representing this vector with respect to the standard basis $e_1 = (1,0),\\;\\;\\; e_2 = (0,1).$\n",
    "This is because we have the relation $x = x_1 e_1 + x_2 e_2$. However, this is not the only way that we can represent this same vector. Given any two vectors $u = (u_1, u_2)$ and $v = (v_1, v_2)$ which form a basis for $\\mathbb{R}^2$, there exist scalars $\\alpha, \\beta$ such that $x = \\alpha u + \\beta v.$ \n",
    "The vector $(\\alpha,\\beta)$ are called the _coordinates of x with respect to the basis_ $\\{u,v\\}$. Given the vectors $u,v$ and the representation of $x$ with repsect to the standard basis $(x_1,x_2)$, there is a formula we can use to find $(\\alpha,\\beta)$:\n",
    "\n",
    "$$\n",
    "\\alpha = \\frac{x_1v_2 - x_2v_1}{u_1v_2 - v_1u_2},\\;\\;\\; \\beta = \\frac{x_2u_1 - x_1u_2}{u_1v_2 - v_1u_2}\n",
    "$$\n",
    "\n",
    "\n",
    "### Part A\n",
    "Write a Python function `change_of_basis(x,u,v)` which takes in a vector $x=(x_1,x_2)$ represented in the standard basis and basis vectors $u=(u_1,u_2), v= (v_1,v_2)$ and returns the coordinates $(\\alpha,\\beta)$ of $x$ with respect to the basis $\\{u,v\\}$."
   ]
  },
  {
   "cell_type": "code",
   "execution_count": null,
   "id": "composite-count",
   "metadata": {},
   "outputs": [],
   "source": []
  },
  {
   "cell_type": "markdown",
   "id": "martial-empire",
   "metadata": {},
   "source": [
    "### Part B\n",
    "Using your function `change_of_basis`, compute the coordinates $(\\alpha,\\beta)$ of $x = (-2, 4)$ with respect to the basis $u = (2, 0)$, $v=(0,.5)$. Verify that $x = \\alpha u + \\beta v$. How do $\\alpha$ and $\\beta$ relate to the coordinates of $x$ with repsect to the standard basis?"
   ]
  },
  {
   "cell_type": "code",
   "execution_count": null,
   "id": "south-caribbean",
   "metadata": {},
   "outputs": [],
   "source": []
  },
  {
   "cell_type": "markdown",
   "id": "amateur-disabled",
   "metadata": {},
   "source": [
    "### Part C\n",
    "Using your function `change_of_basis`, compute the coordinates $(\\alpha,\\beta)$ of $x = (-2, 4)$ with respect to the basis $u = (2, 1)$, $v=(1,1)$. Verify that $x = \\alpha u + \\beta v$. Is your interpretation of $\\alpha$ and $\\beta$ different from that of part B?"
   ]
  },
  {
   "cell_type": "code",
   "execution_count": null,
   "id": "weird-three",
   "metadata": {},
   "outputs": [],
   "source": []
  },
  {
   "cell_type": "markdown",
   "id": "nervous-sessions",
   "metadata": {},
   "source": [
    "### Part D\n",
    "Try using your function `change_of_basis` to compute the coordinates $(\\alpha,\\beta)$ of $x = (-2, 4)$ with respect to the vectors $u = (1, 1)$, $v=(2,2)$. You should observe that your function gives an error, or doesn't return a valid value. Why is this?"
   ]
  },
  {
   "cell_type": "code",
   "execution_count": null,
   "id": "committed-milan",
   "metadata": {},
   "outputs": [],
   "source": []
  }
 ],
 "metadata": {
  "kernelspec": {
   "display_name": "Python 3",
   "language": "python",
   "name": "python3"
  },
  "language_info": {
   "codemirror_mode": {
    "name": "ipython",
    "version": 3
   },
   "file_extension": ".py",
   "mimetype": "text/x-python",
   "name": "python",
   "nbconvert_exporter": "python",
   "pygments_lexer": "ipython3",
   "version": "3.7.7"
  }
 },
 "nbformat": 4,
 "nbformat_minor": 5
}
