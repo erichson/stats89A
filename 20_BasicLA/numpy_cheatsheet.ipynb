{
 "cells": [
  {
   "cell_type": "markdown",
   "id": "cardiac-citation",
   "metadata": {},
   "source": [
    "# Introduction to NumPy\n",
    "\n",
    "Why do we need NumPy for data science? \n",
    "First, data typically arise in form of tables (and in many cases those tables consist of numbers on which we want to perform numerical operations). \n",
    "Second, vectorized operations are fast and powerful and speed and resources are very important in data science. \n",
    "NumPy (short for Numerical Python) is a Python library that is specialized on working with numerical arrays. \n",
    "Since, as a practical matter, linear algebra often amounts to working with numerical arrays (on which we can the perform operations of scalar multiplication and vector addition), NumPy is often the best way to do it in python.\n",
    "\n",
    "Operations on NumPy arrays can be up to 50 times faster than traditional Python lists. \n",
    "Also, NumPy provides a large number of functions for matrix computations, and NumPy is the foundation of the Python machine learning stack. \n",
    "All in all, it is well worth becoming very familiar with it.\n",
    "In the following, we will give a brief introduction to NumPy and introduce some important function that we will use in this course.\n",
    "\n",
    "\n",
    "As with any library in Python, we first need to import NumPy. \n",
    "If you use Anaconda, then NumPy is included, otherwise you need to install NumPy by hand. \n",
    "Fortunately, that is as easy as issuing the following command."
   ]
  },
  {
   "cell_type": "code",
   "execution_count": null,
   "id": "hourly-profit",
   "metadata": {},
   "outputs": [],
   "source": [
    "import numpy as np"
   ]
  },
  {
   "cell_type": "markdown",
   "id": "ultimate-universal",
   "metadata": {},
   "source": [
    "Before we get started, we want to illustrate that vectorized operations are indeed much faster than lists. \n",
    "Here is a simple example: Add all integers from 1 to 10,000,000. \n",
    "There are several ways how we can do this. \n",
    "\n",
    "For instance, we can construct a list that contains all the integers from $1$ to $10,000,000$ and then sum them up."
   ]
  },
  {
   "cell_type": "code",
   "execution_count": null,
   "id": "biblical-version",
   "metadata": {},
   "outputs": [],
   "source": [
    "%time sum([i for i in range(1,10000000)])"
   ]
  },
  {
   "cell_type": "markdown",
   "id": "severe-nicholas",
   "metadata": {},
   "source": [
    "This is really very slow. \n",
    "Instead, we can use NumPy to do the same operation much faster."
   ]
  },
  {
   "cell_type": "code",
   "execution_count": null,
   "id": "educated-victorian",
   "metadata": {},
   "outputs": [],
   "source": [
    "%time np.sum(np.arange(1,10000000))"
   ]
  },
  {
   "cell_type": "markdown",
   "id": "pharmaceutical-sudan",
   "metadata": {},
   "source": [
    "Depending on the computational platform, we reduce the computational time by a factor about $15$. \n",
    "So what is going on here? \n",
    "The function `np.arange` is creating an array object that is called `ndarray`. \n",
    "NumPy arrays are highly optimized to work with latest CPU architectures, and more importantly NumPy arrays are stored at one continuous place in memory, unlike lists. \n",
    "Hence, the `np.sum` function can access and manipulate the elements of the Numpy array very efficiently. \n",
    "This is one of the main reason why NumPy is faster than traditional NumPy lists. \n",
    "Other advantages of NumPy are:\n",
    "\n",
    "* vectorized code is more concise and easier to read\n",
    "\n",
    "* vectorized code more closely resembles standard mathematical notation \n",
    "\n",
    "Btw, NumPy has a fantastic documentation: [https://numpy.org/doc/stable/user/whatisnumpy.html](https://numpy.org/doc/stable/user/whatisnumpy.html). \n",
    "So, for instance, if you want to learn more details about the `np.arange` function, then you can have a look here: [https://numpy.org/doc/stable/reference/generated/numpy.arange.html](https://numpy.org/doc/stable/reference/generated/numpy.arange.html).\n",
    "\n",
    "\n",
    "## Numpy Arrays\n",
    "\n",
    "The most important object in NumPy is the `ndarray`. Typically, we use the `np.array` function to define a new `ndarray`. For example, we can construct the following $2\\times 2$ matrix \n",
    "\n",
    "\n",
    "$$\n",
    "\\mathbf{A} = \\begin{bmatrix} \n",
    "1 & 2  \\\\\n",
    "3 & 4 \\\\\n",
    "\\end{bmatrix}\n",
    "\\quad\n",
    "$$\n",
    "\n",
    "\n",
    "as follows."
   ]
  },
  {
   "cell_type": "code",
   "execution_count": null,
   "id": "protecting-credit",
   "metadata": {},
   "outputs": [],
   "source": [
    "A = np.array(([1,2], [3,4]))\n",
    "print(A)"
   ]
  },
  {
   "cell_type": "markdown",
   "id": "elect-moment",
   "metadata": {},
   "source": [
    "We can check the type of variable `A` and verify that it is indeed a NumPy `ndarray`."
   ]
  },
  {
   "cell_type": "code",
   "execution_count": null,
   "id": "directed-daisy",
   "metadata": {},
   "outputs": [],
   "source": [
    "type(A)"
   ]
  },
  {
   "cell_type": "markdown",
   "id": "raising-apparatus",
   "metadata": {},
   "source": [
    "When working with numpy arrays it is always a good idea to check and verify the shape of the array."
   ]
  },
  {
   "cell_type": "code",
   "execution_count": null,
   "id": "recognized-cement",
   "metadata": {},
   "outputs": [],
   "source": [
    "print('The shape of A is', A.shape)"
   ]
  },
  {
   "cell_type": "markdown",
   "id": "loved-christmas",
   "metadata": {},
   "source": [
    "### A few special matrices\n",
    "\n",
    "\n",
    "There are many special matrices that you can construct using NumPy. Here are just a few examples.\n",
    "\n",
    "\n",
    "An array filled with ones."
   ]
  },
  {
   "cell_type": "code",
   "execution_count": null,
   "id": "atlantic-ballot",
   "metadata": {},
   "outputs": [],
   "source": [
    "B = np.ones((2,2))\n",
    "print(B)"
   ]
  },
  {
   "cell_type": "markdown",
   "id": "wanted-quick",
   "metadata": {},
   "source": [
    "An array filled with zeros."
   ]
  },
  {
   "cell_type": "code",
   "execution_count": null,
   "id": "breathing-peace",
   "metadata": {},
   "outputs": [],
   "source": [
    "C = np.zeros((2,2))\n",
    "print(C)"
   ]
  },
  {
   "cell_type": "markdown",
   "id": "associate-making",
   "metadata": {},
   "source": [
    "An array with ones on the diagonal and zeros otherwise. \n",
    "This special array is also known as the identity matrix."
   ]
  },
  {
   "cell_type": "code",
   "execution_count": null,
   "id": "motivated-morris",
   "metadata": {},
   "outputs": [],
   "source": [
    "I = np.eye(2)\n",
    "print(I)"
   ]
  },
  {
   "cell_type": "markdown",
   "id": "alpine-billion",
   "metadata": {},
   "source": [
    "### Creating Numerical Ranges\n",
    "\n",
    "In many situations we need to create arrays that contain evenly spaced numbers over a specified interval. In Python you can use the built-in range function to construct a list with evenly spaced numbers, but it is often faster to use NumPy's `arange` function to construct an array that contains evenly spaced numbers.\n",
    "This function has the following interface: `numpy.arange(start, stop, step=1)`. Here, `start` and `stop` specify a certain interval `[start, stop)`, and `step` specifies the spacing between values. (Note, the interval includes the `start` value but excludes the `stop` value.) Here is an example that constructs an array that contains the integers in `[1, 10)`."
   ]
  },
  {
   "cell_type": "code",
   "execution_count": null,
   "id": "extraordinary-syndication",
   "metadata": {},
   "outputs": [],
   "source": [
    "np.arange(1,10)"
   ]
  },
  {
   "cell_type": "markdown",
   "id": "dying-blanket",
   "metadata": {},
   "source": [
    "You can also change the step size. For instance, we can construct an array that contains all numbers in `[1, 10)` that are evenly spacaed by $0.5$."
   ]
  },
  {
   "cell_type": "code",
   "execution_count": null,
   "id": "framed-liver",
   "metadata": {},
   "outputs": [],
   "source": [
    "np.arange(1,10, step=0.5)"
   ]
  },
  {
   "cell_type": "markdown",
   "id": "funky-florence",
   "metadata": {},
   "source": [
    "In other situations, we prefer to specify the number of samples that are evenly spaced over a specified interval instead of the step size. This can be done using NumPy's `linspace` function. This function has the following interface: `numpy.linspace(start, stop, num=50, endpoint=True)`. Here, `start` and `stop` specify a certain interval `[start, stop]`, and `num` specifies the number of samples to generate. For example, we can construct an array that contains 19 evenly spaced samples in `[1, 10]`, including the endpoint."
   ]
  },
  {
   "cell_type": "code",
   "execution_count": null,
   "id": "basic-tragedy",
   "metadata": {},
   "outputs": [],
   "source": [
    "np.linspace(1.0, 10, num=19, endpoint=True)"
   ]
  },
  {
   "cell_type": "markdown",
   "id": "rocky-crawford",
   "metadata": {},
   "source": [
    "We can also exclude the endpoint and resamble the array that we constructed with `arange` function."
   ]
  },
  {
   "cell_type": "code",
   "execution_count": null,
   "id": "usual-occasion",
   "metadata": {},
   "outputs": [],
   "source": [
    "np.linspace(1.0, 10, num=18, endpoint=False)"
   ]
  },
  {
   "cell_type": "markdown",
   "id": "understanding-mouse",
   "metadata": {},
   "source": [
    "In practice, when dealing with non-integer steps (e.g. 0.5), it is always better to use the `linspace` function as compared to the `arange` function. That is, because the `linespace` function is more consistent.\n",
    "\n",
    "For instance, we might want to produce an array that has 21 evenly spaced samples in the interval $[1,19]$. This is easy using `linespace`, but it requires a \"hack\" using `arange`."
   ]
  },
  {
   "cell_type": "code",
   "execution_count": null,
   "id": "sensitive-booth",
   "metadata": {},
   "outputs": [],
   "source": [
    "import matplotlib.pyplot as plt\n",
    "N = 21\n",
    "y = np.zeros(N)\n",
    "x0 = np.arange(0, 19, 19/N)\n",
    "x1 = np.arange(0, 19.01, 19/(N-1))\n",
    "x2 = np.linspace(0, 19, N, endpoint=True)\n",
    "\n",
    "plt.plot(x0, y-0.2, 'o', c='green', label='arange done wrong')\n",
    "plt.plot(x1, y, 'o', c='blue', label='arange done right (using a hack)')\n",
    "plt.plot(x2, y+ 0.2, 'o', c='red', label='linespace')\n",
    "plt.ylim([-0.5, 1])\n",
    "plt.legend()\n",
    "plt.show()"
   ]
  },
  {
   "cell_type": "markdown",
   "id": "sporting-tanzania",
   "metadata": {},
   "source": [
    "### Matrices with Random Elements\n",
    "\n",
    "NumPy provides us also with functions that create an array of an given shape and populate it with random samples from a specified distribution. \n",
    "\n",
    "For instance, we can construct a $5\\times 5$ matrix with elements drawn from the uniform distribution on $[0,1)$ as follows."
   ]
  },
  {
   "cell_type": "code",
   "execution_count": null,
   "id": "ordinary-paradise",
   "metadata": {},
   "outputs": [],
   "source": [
    "np.random.seed(1)\n",
    "R = np.random.uniform(low=0, high=1, size=(5,5))\n",
    "print(R)\n",
    "print('The shape of R is', R.shape)"
   ]
  },
  {
   "cell_type": "markdown",
   "id": "sound-referral",
   "metadata": {},
   "source": [
    "Alternatively, we can construct a $5\\times 5$ matrix with elements drawn from the standard normal distribution as follows."
   ]
  },
  {
   "cell_type": "code",
   "execution_count": null,
   "id": "offensive-stand",
   "metadata": {},
   "outputs": [],
   "source": [
    "np.random.seed(1)\n",
    "R = np.random.standard_normal(size=(5,5))\n",
    "print(R)\n",
    "print('The shape of R is', R.shape)"
   ]
  },
  {
   "cell_type": "markdown",
   "id": "cosmetic-ferry",
   "metadata": {},
   "source": [
    "Here is another example, where the elements of the $5\\times 10$ matrix are integers that are uniformly drawn from the range 1 to 200."
   ]
  },
  {
   "cell_type": "code",
   "execution_count": null,
   "id": "supreme-picnic",
   "metadata": {},
   "outputs": [],
   "source": [
    "np.random.seed(1)\n",
    "D = np.random.randint(low=1,high=200,size=(5,10))\n",
    "print(D)\n",
    "print('The shape of R is', D.shape)"
   ]
  },
  {
   "cell_type": "markdown",
   "id": "worth-alfred",
   "metadata": {},
   "source": [
    "Note that we use the function `np.random.seed()` to set a seed value for initializing the random number generator. \n",
    "It is always a good idea to set a seed for debugging your code or reproducing results.\n",
    "\n",
    "\n",
    "## Basic Array Operations\n",
    "\n",
    "\n",
    "Performing basic operation on `ndarray` objects is easy.\n",
    "In many cases, these operations correspond to linear algebra operations.\n",
    "In other cases, they can be used to do other useful things.\n",
    "\n",
    "\n",
    "### Array addition\n",
    "\n",
    "The sum of $\\mathbf{A}$ and $\\mathbf{A}$, denoted $\\mathbf{A}$ + $\\mathbf{A}$, is computed by adding corresponding elements of A and B:\n",
    "\n",
    "\n",
    "$$\n",
    " \\mathbf{A} + \\mathbf{B} = \\begin{bmatrix} \n",
    "a_{11} & a_{12}  \\\\\n",
    "a_{21} & a_{22} \\\\\n",
    "\\end{bmatrix}\n",
    "+\n",
    "\\begin{bmatrix} \n",
    "b_{11} & b_{12}  \\\\\n",
    "b_{21} & b_{22} \\\\\n",
    "\\end{bmatrix}\n",
    "=\n",
    "\\begin{bmatrix} \n",
    "a_{11}+b_{11} & a_{11}+b_{12}  \\\\\n",
    "a_{21}+b_{21} & a_{11}+b_{22} \\\\\n",
    "\\end{bmatrix}\n",
    "$$\n",
    "\n",
    "\n",
    "The sum of two matrices A and B will be a matrix which has the same number of rows and columns as A and B. Note, that the two arrays must have an equal number of rows and columns. Let A and B be:"
   ]
  },
  {
   "cell_type": "code",
   "execution_count": null,
   "id": "departmental-inside",
   "metadata": {},
   "outputs": [],
   "source": [
    "A = np.array(([1,2], [3,4]))\n",
    "B = np.ones((2,2))"
   ]
  },
  {
   "cell_type": "markdown",
   "id": "phantom-brake",
   "metadata": {},
   "source": [
    "Using NumPy objects, the sum of A and B can be computed as follows."
   ]
  },
  {
   "cell_type": "code",
   "execution_count": null,
   "id": "fundamental-bottom",
   "metadata": {},
   "outputs": [],
   "source": [
    "A + B"
   ]
  },
  {
   "cell_type": "markdown",
   "id": "aggregate-stock",
   "metadata": {},
   "source": [
    "Note that matrix addition is commutative, i.e., $\\mathbf{A} + \\mathbf{B} = \\mathbf{B} + \\mathbf{A}$."
   ]
  },
  {
   "cell_type": "code",
   "execution_count": null,
   "id": "neural-particular",
   "metadata": {},
   "outputs": [],
   "source": [
    "B + A"
   ]
  },
  {
   "cell_type": "markdown",
   "id": "driven-patio",
   "metadata": {},
   "source": [
    "### Matrix multiplication\n",
    "\n",
    "The matrix product of $\\mathbf{A}$ and $\\mathbf{B}$, denoted $\\mathbf{A}\\mathbf{B}$, can be computed by the dot product of the ith row of $\\mathbf{A}$ and the jth column of $\\mathbf{B}$.\n",
    "\n",
    "\n",
    "$$\n",
    "\\mathbf{A} \\mathbf{B} = \\begin{bmatrix} \n",
    "a_{11} & a_{12}  \\\\\n",
    "a_{21} & a_{22} \\\\\n",
    "\\end{bmatrix}\n",
    "\\begin{bmatrix} \n",
    "b_{11} & b_{12}  \\\\\n",
    "b_{21} & b_{22} \\\\\n",
    "\\end{bmatrix}\n",
    "=\n",
    "\\begin{bmatrix} \n",
    "a_{11}b_{11}+a_{12}b_{21} & a_{11}b_{12}+a_{12}b_{22}  \\\\\n",
    "a_{21}b_{11}+a_{22}b_{21} & a_{21}b_{12}+a_{22}b_{22} \\\\\n",
    "\\end{bmatrix}\n",
    "$$\n",
    "\n",
    "\n",
    "Thus the product AB is defined if and only if the number of columns in A equals the number of rows in B.\n",
    "\n",
    "\n",
    "Given two NumPy `ndarray` objects, the matrix product can be computed by using the `np.dot` function."
   ]
  },
  {
   "cell_type": "code",
   "execution_count": null,
   "id": "robust-aggregate",
   "metadata": {},
   "outputs": [],
   "source": [
    "np.dot(A, B)"
   ]
  },
  {
   "cell_type": "markdown",
   "id": "fitted-session",
   "metadata": {},
   "source": [
    "We can also exploit the fact that A is an object and compute the matrix product as follows."
   ]
  },
  {
   "cell_type": "code",
   "execution_count": null,
   "id": "fluid-queue",
   "metadata": {},
   "outputs": [],
   "source": [
    "A.dot(B)"
   ]
  },
  {
   "cell_type": "markdown",
   "id": "incorporated-ballot",
   "metadata": {},
   "source": [
    "Note that the matrix product is not commutative, i.e., $\\mathbf{A} \\mathbf{B} \\neq \\mathbf{B} \\mathbf{A}$."
   ]
  },
  {
   "cell_type": "code",
   "execution_count": null,
   "id": "korean-circuit",
   "metadata": {},
   "outputs": [],
   "source": [
    "B.dot(A)"
   ]
  },
  {
   "cell_type": "markdown",
   "id": "excellent-yorkshire",
   "metadata": {},
   "source": [
    "Further, note that the matrix product of $\\mathbf{A} \\mathbf{I} = \\mathbf{A}$."
   ]
  },
  {
   "cell_type": "code",
   "execution_count": null,
   "id": "religious-marathon",
   "metadata": {},
   "outputs": [],
   "source": [
    "I = np.eye(2)\n",
    "A.dot(I)"
   ]
  },
  {
   "cell_type": "markdown",
   "id": "yellow-defensive",
   "metadata": {},
   "source": [
    "### Computing statistics on arrays of numbers\n",
    "\n",
    "NumPy allows us to do operations on arrays quickly. \n",
    "For example, we can try computing some statistics on an array of random numbers."
   ]
  },
  {
   "cell_type": "code",
   "execution_count": null,
   "id": "quarterly-hunger",
   "metadata": {},
   "outputs": [],
   "source": [
    "dataset_rn = np.random.random((2, 3))\n",
    "print(dataset_rn)\n",
    "print()\n",
    "print(\"Max:\", np.max(dataset_rn))\n",
    "print(\"Max of each row:\", np.max(dataset_rn, axis=0))\n",
    "print(\"Max of each col:\", np.max(dataset_rn, axis=1))\n",
    "print(\"Min:\", np.min(dataset_rn))\n",
    "print(\"Mean:\", np.mean(dataset_rn))\n",
    "print(\"Median:\", np.median(dataset_rn))\n",
    "print(\"Standard deviation:\", np.std(dataset_rn))\n",
    "print(\"Sum:\", np.sum(dataset_rn))"
   ]
  },
  {
   "cell_type": "markdown",
   "id": "saved-dayton",
   "metadata": {},
   "source": [
    "### Slicing and dicing\n",
    "\n",
    "In many situations we need to extract elements or subsets from an array. \n",
    "To do so, we can use slicing and dicing operations."
   ]
  },
  {
   "cell_type": "code",
   "execution_count": null,
   "id": "excited-links",
   "metadata": {},
   "outputs": [],
   "source": [
    "print(A)"
   ]
  },
  {
   "cell_type": "markdown",
   "id": "burning-schedule",
   "metadata": {},
   "source": [
    "Get the first element in the first row of A."
   ]
  },
  {
   "cell_type": "code",
   "execution_count": null,
   "id": "electric-occurrence",
   "metadata": {},
   "outputs": [],
   "source": [
    "A[0,0]"
   ]
  },
  {
   "cell_type": "markdown",
   "id": "proper-florence",
   "metadata": {},
   "source": [
    "Get the second element in the first row of A."
   ]
  },
  {
   "cell_type": "code",
   "execution_count": null,
   "id": "reduced-enzyme",
   "metadata": {},
   "outputs": [],
   "source": [
    "A[0,1]"
   ]
  },
  {
   "cell_type": "markdown",
   "id": "rural-holder",
   "metadata": {},
   "source": [
    "Get the second row."
   ]
  },
  {
   "cell_type": "code",
   "execution_count": null,
   "id": "beautiful-premiere",
   "metadata": {},
   "outputs": [],
   "source": [
    "A[1]"
   ]
  },
  {
   "cell_type": "markdown",
   "id": "incomplete-truck",
   "metadata": {},
   "source": [
    "Get the first column of A."
   ]
  },
  {
   "cell_type": "code",
   "execution_count": null,
   "id": "personalized-creativity",
   "metadata": {},
   "outputs": [],
   "source": [
    "A[:,0]"
   ]
  },
  {
   "cell_type": "markdown",
   "id": "primary-router",
   "metadata": {},
   "source": [
    "Recall the random matrix D."
   ]
  },
  {
   "cell_type": "code",
   "execution_count": null,
   "id": "herbal-license",
   "metadata": {},
   "outputs": [],
   "source": [
    "print(D)"
   ]
  },
  {
   "cell_type": "markdown",
   "id": "owned-earthquake",
   "metadata": {},
   "source": [
    "Get the first 3 rows and columns of D"
   ]
  },
  {
   "cell_type": "code",
   "execution_count": null,
   "id": "nervous-matter",
   "metadata": {},
   "outputs": [],
   "source": [
    "D[0:3,0:3]"
   ]
  },
  {
   "cell_type": "markdown",
   "id": "italic-accommodation",
   "metadata": {},
   "source": [
    "### Array broadcasting\n",
    "\n",
    "\n",
    "Again get the first 3 rows and columns of D and assign it to a new variable."
   ]
  },
  {
   "cell_type": "code",
   "execution_count": null,
   "id": "distributed-culture",
   "metadata": {},
   "outputs": [],
   "source": [
    "subset_of_D = D[0:3,0:3]\n",
    "print(subset_of_D)"
   ]
  },
  {
   "cell_type": "markdown",
   "id": "divided-turkey",
   "metadata": {},
   "source": [
    "Change the first element of subset_of_D."
   ]
  },
  {
   "cell_type": "code",
   "execution_count": null,
   "id": "greek-summer",
   "metadata": {},
   "outputs": [],
   "source": [
    "subset_of_D[0,0] = 99\n",
    "print(subset_of_D)"
   ]
  },
  {
   "cell_type": "markdown",
   "id": "pleased-italic",
   "metadata": {},
   "source": [
    "Note that NumPy Arrays are always shallow copied. Hence any modification made in derivative affects the source, e.g., changing an element of subset_of_D also affects D."
   ]
  },
  {
   "cell_type": "code",
   "execution_count": null,
   "id": "canadian-helping",
   "metadata": {},
   "outputs": [],
   "source": [
    "print(D)"
   ]
  },
  {
   "cell_type": "markdown",
   "id": "magnetic-silence",
   "metadata": {},
   "source": [
    "### Array searching \n",
    "\n",
    "\n",
    "Search for all elements in subset_of_D that are greater than 100."
   ]
  },
  {
   "cell_type": "code",
   "execution_count": null,
   "id": "rubber-static",
   "metadata": {},
   "outputs": [],
   "source": [
    "subset_of_D > 100"
   ]
  },
  {
   "cell_type": "markdown",
   "id": "marked-palestinian",
   "metadata": {},
   "source": [
    "This condition condition returns a Boolean matrix of same dimension as the array that is being queried. We can also use this Truth vector as an index to search, e.g., get all numbers greater than 100."
   ]
  },
  {
   "cell_type": "code",
   "execution_count": null,
   "id": "swiss-wagner",
   "metadata": {},
   "outputs": [],
   "source": [
    "subset_of_D[subset_of_D>100]"
   ]
  },
  {
   "cell_type": "markdown",
   "id": "female-sampling",
   "metadata": {},
   "source": [
    "We can also find elements within a range for instance:"
   ]
  },
  {
   "cell_type": "code",
   "execution_count": null,
   "id": "indonesian-humanitarian",
   "metadata": {},
   "outputs": [],
   "source": [
    "subset_of_D[(subset_of_D>100) & (subset_of_D<150)]"
   ]
  },
  {
   "cell_type": "markdown",
   "id": "finite-beauty",
   "metadata": {},
   "source": [
    "### Reshaping NumPy arrays\n",
    "\n",
    "In some situations it is required to reshape an array of numbers. You can do so using the `reshape` function."
   ]
  },
  {
   "cell_type": "code",
   "execution_count": null,
   "id": "pediatric-solomon",
   "metadata": {},
   "outputs": [],
   "source": [
    "subset_of_D = D[0:3,0:4]\n",
    "print(subset_of_D)"
   ]
  },
  {
   "cell_type": "markdown",
   "id": "secure-reply",
   "metadata": {},
   "source": [
    "Here are a few examples."
   ]
  },
  {
   "cell_type": "code",
   "execution_count": null,
   "id": "cordless-advocate",
   "metadata": {},
   "outputs": [],
   "source": [
    "subset_of_D.reshape(4, 3)"
   ]
  },
  {
   "cell_type": "code",
   "execution_count": null,
   "id": "needed-series",
   "metadata": {},
   "outputs": [],
   "source": [
    "subset_of_D.reshape(1, 12)"
   ]
  },
  {
   "cell_type": "code",
   "execution_count": null,
   "id": "alleged-abraham",
   "metadata": {},
   "outputs": [],
   "source": [
    "subset_of_D.reshape(12, 1)"
   ]
  },
  {
   "cell_type": "code",
   "execution_count": null,
   "id": "complimentary-palace",
   "metadata": {},
   "outputs": [],
   "source": [
    "subset_of_D.reshape(12)"
   ]
  },
  {
   "cell_type": "markdown",
   "id": "random-beatles",
   "metadata": {},
   "source": [
    "Note that `subset_of_D.reshape(12)` is not the same as `subset_of_D.reshape(1,12)`."
   ]
  },
  {
   "cell_type": "code",
   "execution_count": null,
   "id": "false-battery",
   "metadata": {},
   "outputs": [],
   "source": [
    "subset_of_D.reshape(12).shape == subset_of_D.reshape(1,12).shape"
   ]
  },
  {
   "cell_type": "markdown",
   "id": "resistant-faculty",
   "metadata": {},
   "source": [
    "The operation `subset_of_D.reshape(12)` is collapsing the array into one dimension, i.e., it turns the array into a row vector.  The operation `subset_of_D.reshape(1,12)` is turning the array into an explicit row vector, but I suggest to avoid doing this (see below).\n",
    "\n",
    "\n",
    "## Vectors\n",
    "\n",
    "Vectors are central to linear algebra, and they are also central to NumPy.\n",
    "In NumPy, there are a few subtleties when working with arrays to do vector operations.\n",
    "If you are careful about the subtleties, then you will avoid a lot of problems.\n",
    "\n",
    "A row vector is an $1\\times n$ matrix. \n",
    "Here is an example:"
   ]
  },
  {
   "cell_type": "code",
   "execution_count": null,
   "id": "dated-regular",
   "metadata": {},
   "outputs": [],
   "source": [
    "x = np.array([1,2,3])\n",
    "x"
   ]
  },
  {
   "cell_type": "markdown",
   "id": "spatial-plumbing",
   "metadata": {},
   "source": [
    "The shape of a row vector looks as follows."
   ]
  },
  {
   "cell_type": "code",
   "execution_count": null,
   "id": "romantic-brazilian",
   "metadata": {},
   "outputs": [],
   "source": [
    "x.shape"
   ]
  },
  {
   "cell_type": "markdown",
   "id": "exact-notion",
   "metadata": {},
   "source": [
    "In NumPy, a row vector is a one dimensional array. \n",
    "You can also push a row vector into an explicit row vector."
   ]
  },
  {
   "cell_type": "code",
   "execution_count": null,
   "id": "presidential-compilation",
   "metadata": {},
   "outputs": [],
   "source": [
    "x.reshape(1,3)"
   ]
  },
  {
   "cell_type": "markdown",
   "id": "exact-premises",
   "metadata": {},
   "source": [
    "Do you see that this operation introduces another pair of brackets, i.e., [[]]. \n",
    "This, can lead to all kind of troubles and hence I suggest that you avoid using explicit row vectors. \n",
    "\n",
    "\n",
    "A column vector is an $m\\times 1$ matrix. Here is an example:"
   ]
  },
  {
   "cell_type": "code",
   "execution_count": null,
   "id": "bulgarian-snowboard",
   "metadata": {},
   "outputs": [],
   "source": [
    "v = np.array(([6],[7],[8]))\n",
    "print(v)\n",
    "v.shape"
   ]
  },
  {
   "cell_type": "markdown",
   "id": "tribal-judgment",
   "metadata": {},
   "source": [
    "You can turn a column vector into a row vector by flattening the vector."
   ]
  },
  {
   "cell_type": "code",
   "execution_count": null,
   "id": "authorized-tours",
   "metadata": {},
   "outputs": [],
   "source": [
    "v.reshape(v.shape[0])"
   ]
  },
  {
   "cell_type": "markdown",
   "id": "innocent-armstrong",
   "metadata": {},
   "source": [
    "### Inner product \n",
    "\n",
    "Recall, given $v,w \\in \\mathbb{R}^n$, the inner product is defined as:\n",
    "\n",
    "\n",
    "$$\n",
    "\\langle v,w\\rangle = v_{1}w_{1}+v_{2}w_{2}+\\dots+v_{n}w_{n}  .\n",
    "$$\n",
    "\n",
    "\n",
    "The inner product is also equal to the matrix product of the two vectors:\n",
    "\n",
    "$$\n",
    "v^T w = v_{1}w_{1}+v_{2}w_{2}+\\dots+v_{n}w_{n} \n",
    "$$\n",
    "\n",
    "\n",
    "\n",
    "You can use a for loop to compute the inner product of v and w."
   ]
  },
  {
   "cell_type": "code",
   "execution_count": null,
   "id": "outer-serum",
   "metadata": {},
   "outputs": [],
   "source": [
    "def dotproduct(x1,x2):\n",
    "    xv = 0\n",
    "    for i in range(x1.shape[0]):\n",
    "        xv += x1[i]*x2[i]\n",
    "    return xv"
   ]
  },
  {
   "cell_type": "code",
   "execution_count": null,
   "id": "classified-yorkshire",
   "metadata": {},
   "outputs": [],
   "source": [
    "%time dotproduct(x,v)"
   ]
  },
  {
   "cell_type": "markdown",
   "id": "resistant-module",
   "metadata": {},
   "source": [
    "However, as you can see, using a loop is slow. \n",
    "Instead, we can use numpy's build in function to compute the inner product."
   ]
  },
  {
   "cell_type": "code",
   "execution_count": null,
   "id": "silent-cleanup",
   "metadata": {},
   "outputs": [],
   "source": [
    "%time x.reshape(1,3).dot(v)"
   ]
  },
  {
   "cell_type": "markdown",
   "id": "atmospheric-mozambique",
   "metadata": {},
   "source": [
    "## 5. Applying operations to vectors\n",
    "\n",
    "We can use built-in NumPy functions like `np.sin` and `np.exp` on one-modal arrays to perform operations on each element of the array.\n",
    "\n",
    "For example:"
   ]
  },
  {
   "cell_type": "code",
   "execution_count": null,
   "id": "double-input",
   "metadata": {},
   "outputs": [],
   "source": [
    "vector = np.array([1,0,-1])\n",
    "vector"
   ]
  },
  {
   "cell_type": "code",
   "execution_count": null,
   "id": "negative-morris",
   "metadata": {},
   "outputs": [],
   "source": [
    "new_vector = np.exp(vector)\n",
    "new_vector"
   ]
  },
  {
   "cell_type": "markdown",
   "id": "excited-beverage",
   "metadata": {},
   "source": [
    "The entries in the `new_vector` above are $e$ ($e^1$), $1$ ($e^0$), and $\\frac{1}{e}$ ($e^{-1}$).\n",
    "\n",
    "Similarly, applying `np.sin` (or `np.cos`) to a vector returns a new vector, whose elements are the value of the function `np.sin` evaluated on each of the elements of the original vector (the function is \"applied element wise\", to use jargon)."
   ]
  },
  {
   "cell_type": "code",
   "execution_count": null,
   "id": "stuck-throw",
   "metadata": {},
   "outputs": [],
   "source": [
    "from math import pi\n",
    "vector = np.array([-pi/2, 0, pi/2])\n",
    "vector"
   ]
  },
  {
   "cell_type": "code",
   "execution_count": null,
   "id": "international-jewel",
   "metadata": {},
   "outputs": [],
   "source": [
    "new_vector = np.sin(vector)\n",
    "new_vector"
   ]
  },
  {
   "cell_type": "markdown",
   "id": "nervous-emerald",
   "metadata": {},
   "source": [
    "The same thing happens with two-modal arrays. For example, with `np.exp`:"
   ]
  },
  {
   "cell_type": "code",
   "execution_count": null,
   "id": "korean-jewelry",
   "metadata": {},
   "outputs": [],
   "source": [
    "matrix = np.array([[1, 0, -1], [-1, 0, 1]])\n",
    "matrix"
   ]
  },
  {
   "cell_type": "code",
   "execution_count": null,
   "id": "elementary-remainder",
   "metadata": {},
   "outputs": [],
   "source": [
    "new_matrix = np.exp(matrix)\n",
    "new_matrix"
   ]
  },
  {
   "cell_type": "markdown",
   "id": "recreational-bahrain",
   "metadata": {},
   "source": [
    "Similarly, with `np.cos` (or any other built-in NumPy function):"
   ]
  },
  {
   "cell_type": "code",
   "execution_count": null,
   "id": "under-homeless",
   "metadata": {},
   "outputs": [],
   "source": [
    "matrix = np.array([[-pi/2, 0, pi/2], [0, pi, 2*pi]])\n",
    "matrix"
   ]
  },
  {
   "cell_type": "code",
   "execution_count": null,
   "id": "modular-directory",
   "metadata": {},
   "outputs": [],
   "source": [
    "new_matrix = np.cos(matrix)\n",
    "new_matrix"
   ]
  },
  {
   "cell_type": "code",
   "execution_count": null,
   "id": "basic-interview",
   "metadata": {},
   "outputs": [],
   "source": [
    "rounded_new_matrix = np.round(new_matrix)\n",
    "rounded_new_matrix"
   ]
  },
  {
   "cell_type": "markdown",
   "id": "further-drill",
   "metadata": {},
   "source": [
    "## Making Stacks (Merge 2D `ndarrays` horizontally or vertically)\n",
    "\n",
    "Sometimes, we use a matrix as a collection of vectors. For example, each row or column is a feature vector corresponding to a different measurement. Other times, we simply want to concatenate two matrices for computational convenience. In both cases, we can use `np.hstack` and `np.vstack` to merge two dimensional `ndarray`'s horizontally and vertically, respectively. \n",
    "\n",
    "\n",
    "### Basics of `np.hstack` and `np.vstack`\n",
    "\n",
    "\n",
    "Use `np.hstack` to concatenate two matrices (two dimensional NumPy arrays) horizontally.\n",
    "\n",
    "Make sure you pass in a tuple containing `(A, B)`, rather than passing in `A` and `B` as two arguments."
   ]
  },
  {
   "cell_type": "code",
   "execution_count": null,
   "id": "laden-attitude",
   "metadata": {},
   "outputs": [],
   "source": [
    "A = np.array([[1, 2], [5, 6]])\n",
    "\n",
    "B = np.array([[3, 4], [7, 8]])\n",
    "\n",
    "C = np.hstack((A, B))\n",
    "\n",
    "print(\"A:\\n{}\\n\\nB:\\n{}\\n\\nC:\\n{}\".format(A, B, C))"
   ]
  },
  {
   "cell_type": "markdown",
   "id": "nominated-breeding",
   "metadata": {},
   "source": [
    "Similarly, use `np.vstack` to concatenate two matrices (two dimensional NumPy arrays) vertically"
   ]
  },
  {
   "cell_type": "code",
   "execution_count": null,
   "id": "southwest-postcard",
   "metadata": {},
   "outputs": [],
   "source": [
    "D = np.vstack((A, B))\n",
    "\n",
    "print(\"D:\\n{}\".format(D))"
   ]
  }
 ],
 "metadata": {
  "kernelspec": {
   "display_name": "Python 3",
   "language": "python",
   "name": "python3"
  }
 },
 "nbformat": 4,
 "nbformat_minor": 5
}
