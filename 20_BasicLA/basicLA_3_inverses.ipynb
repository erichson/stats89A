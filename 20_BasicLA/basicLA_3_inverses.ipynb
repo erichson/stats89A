{
 "cells": [
  {
   "cell_type": "code",
   "execution_count": null,
   "id": "significant-money",
   "metadata": {},
   "outputs": [],
   "source": [
    "import numpy as np\n",
    "import matplotlib.pyplot as plt"
   ]
  },
  {
   "cell_type": "markdown",
   "id": "urban-telling",
   "metadata": {},
   "source": [
    "# Left Inverses, Right Inverses, and Inverses\n",
    "\n",
    "As we've seen in the previous section, matrices really just represent _linear functions_ between vector spaces. \n",
    "In particular, a $m\\times n$ matrix $A$ is a linear function mapping vectors $x \\in \\mathbb{R}^n$ to vectors $y = Ax \\in \\mathbb{R}^m$. \n",
    "\n",
    "From our discussion on functions earlier in the semester, we know that functions may have left inverses, right inverses, or both, depending on whether the function is injective or surjective or both. \n",
    "This is in particular true for linear functions $f: \\mathbb{R}^n \\to \\mathbb{R}^m$, which are all of the form $f(x) = Ax$ for some $m\\times n$ matrix $A$. \n",
    "In this section, we discuss if and when such a function $f$ is injective or surjective or both, in terms of properties of the matrix $A$.\n",
    "\n",
    "\n",
    "## Left inverses for matrices\n",
    "\n",
    "\n",
    "### When is a linear function injective\n",
    "\n",
    "As we saw earlier in the semester, a function $f$ has (at least one) left inverse as long as it is _injective_. \n",
    "Recall that a function $f$ is injective if $f(x) = f(y)$ implies that $x=y$.\n",
    "\n",
    "Now suppose we have a linear function $f:\\mathbb{R}^n \\to \\mathbb{R}^m$ given by $f(x) = Ax$. \n",
    "Then, that by linearity of $f$,\n",
    "\n",
    "$$\n",
    "f(x) = f(y) \\iff f(x) - f(y) = 0 \\iff f(x - y) = 0 \\iff A(x-y) = 0  .\n",
    "$$\n",
    "\n",
    "Therefore, supposing that $f(x) = f(y)$ is the same as supposing that $x-y$ is a vector such that $A(x-y) = 0$. \n",
    "What injectivity is saying is that this is only possible if $x-y = 0$. \n",
    "In other words, $f(x) = Ax$ is injective if and only if the only vector that $A$ maps to zero is the zero vector.\n",
    "\n",
    "Before continuing, it's important to come up with a convenient representation for $Ax$. \n",
    "For this section, we will denote the $i^{th}$ column of $A$ by $A[:,i]$, which is a vector in $\\mathbb{R}^m$. \n",
    "We can express the vector $Ax$ as\n",
    "\n",
    "$$\n",
    "Ax = \\begin{pmatrix} A[:,1] & \\cdots & A[:,n] \\end{pmatrix}\\begin{pmatrix}x_1\\\\\\vdots \\\\ x_n\\end{pmatrix} = x_1A[:,1] + x_2A[:,2] + \\cdots + x_nA[:,n]   .\n",
    "$$\n",
    "\n",
    "Therefore we see that the vector $Ax$ is really a linear combination of the columns of $A$. \n",
    "\n",
    "Now let's return to our original problem of determining whether or not $f(x) = Ax$ is injective. \n",
    "Suppose that $Ax = 0$. \n",
    "Then, from the above, we have that \n",
    "\n",
    "$$\n",
    "x_1A[:,1] + x_2A[:,2] + \\cdots + x_nA[:,n] = 0   .\n",
    "$$\n",
    "\n",
    "That is, our function $f(x)$ is injective if and only if the above identity is possible only if $x = 0$, or in other words if $x_1 = x_2 = \\dots = x_n = 0$. \n",
    "From our discussion on linear combinations and linear dependence in the previous chapter, we know that this is true if and only if the vectors $A[:,1],\\dots,A[:,n]$ are linearly independent. \n",
    "Therefore, we have the following statement, which ties together our concepts from injective functions for general functions, and our linear algebraic concepts of vectors and linear dependence:\n",
    "\n",
    "> For an $m\\times n$ matrix $A$, the linear function $f(x) = Ax$ is injective if and only if the columns of $A$ are linearly independent.\n",
    "\n",
    "A simple corollary of this fact is the following: if $n > m$, then $f(x) = Ax$ can _never_ be injective. \n",
    "This is because the maximum number of linearly independent vectors in $\\mathbb{R}^m$ is $m$, and so no $n$ vectors can be linearly independent. \n",
    "Thus, at the very least, for $f(x) = Ax$ to be injective, we need that $n\\leq m$. \n",
    "Notice that this is coherent with our understanding of injective functions from Chapter 2: there we said that, intuitively, $f: X\\to Y$ can only be injective if $X$ is \"smaller than\" $Y$. Here, this translates to the fact that if $n\\leq m$, then $\\mathbb{R}^n$ is \"smaller than\" $\\mathbb{R}^m$. \n",
    "\n",
    "\n",
    "### Left inverses for injective linear functions\n",
    "\n",
    "We know that a function every injective function $f: X \\to Y$ has a least one left inverse $g:Y \\to X$ such that $g\\circ f = \\text{id}_X$. \n",
    "For linear functions of the form $f(x) = Ax$, a left inverse is another linear function $g(y) = By$ where $B$ is an $n\\times m$ matrix such that\n",
    "\n",
    "$$\n",
    "x = (g\\circ f)(x) = g(f(x)) = g(Ax) = BAx   .\n",
    "$$\n",
    "\n",
    "In other words, $g(y) = By$ is a left inverse if and only if $BA = I$ is the identity matrix on $\\mathbb{R}^n$. \n",
    "\n",
    "The condition $BA = I$ constitutes a linear system of equations, with $n^2$ constraints and $n\\cdot m$ unknown variables (the entries of the matrix $B$). \n",
    "Since we know that for $f$ to be injective we need $n\\leq m$, we have that $n^2 \\leq n\\cdot m$, and so in fact $BA = I$ is a linear system with more unknowns than constraints -- this is also commonly known as an _underdetermined system_. \n",
    "Typically, undetermined solutions have many possible solutions, and hence in general an injective function $f(x) = Ax$ will have many left inverses. \n",
    "\n",
    "In what follows, we walk through a simple example in Python of finding a left inverse of a matrix. \n",
    "Consider the function $f: \\mathbb{R}^2 \\to \\mathbb{R}^3$ where $f(x) = Ax$ with\n",
    "\n",
    "$$\n",
    "A = \\begin{pmatrix}1 & 2 \\\\ 0 & 0 \\\\ 0 &3\\end{pmatrix}  .\n",
    "$$\n",
    "\n",
    "It's easy to see that the vectors $(1,0,0)$ and $(2,0,3)$ are linearly independent, and so we know from the previous subsection that $f(x) = Ax$ is indeed injective.\n",
    "\n",
    "Let's define $A$ as a numpy array."
   ]
  },
  {
   "cell_type": "code",
   "execution_count": null,
   "id": "dominant-gentleman",
   "metadata": {},
   "outputs": [],
   "source": [
    "A = np.array([[1,2], [0, 0], [0,3]])\n",
    "A"
   ]
  },
  {
   "cell_type": "markdown",
   "id": "certain-queue",
   "metadata": {},
   "source": [
    "A left inverse $B$ for $A$ will be a $2\\times 3$ matrix of the form\n",
    "\n",
    "$$\n",
    "B = \\begin{pmatrix}b_{11} & b_{12} & b_{13}\\\\ b_{21} & b_{22} & b_{23}\\end{pmatrix}  .\n",
    "$$\n",
    "\n",
    "The constraint $BA = I$ becomes\n",
    "\n",
    "$$\n",
    "BA = \\begin{pmatrix}b_{11} & b_{12} & b_{13}\\\\ b_{21} & b_{22} & b_{23}\\end{pmatrix} \\begin{pmatrix}1 & 2 \\\\ 0 & 0 \\\\ 0 &3\\end{pmatrix} =  \\begin{pmatrix}1 & 0 \\\\ 0 & 1\\end{pmatrix}  .\n",
    "$$\n",
    "\n",
    "If we carry out the above matrix multiplication, we are left with the following $4$ constraints:\n",
    "\n",
    "$$\n",
    "\\begin{cases}\n",
    "b_{11} = 1 & (1)\\\\\n",
    "2b_{11} + 3 b_{13} = 0 & (2)\\\\\n",
    "b_{21} = 0 & (3)\\\\\n",
    "2b_{21} + 3b_{23} = 1& (4)   .\n",
    "\\end{cases}\n",
    "$$\n",
    "\n",
    "We've immediately determined that $b_{11} = 1$ and $b_{21} = 0$, so let's define these:"
   ]
  },
  {
   "cell_type": "code",
   "execution_count": null,
   "id": "divided-kuwait",
   "metadata": {},
   "outputs": [],
   "source": [
    "b11 = 1\n",
    "b21 = 0"
   ]
  },
  {
   "cell_type": "markdown",
   "id": "general-internet",
   "metadata": {},
   "source": [
    "It remains to determine the remaining entries of the matrix $B$. From equation (2), we have that \n",
    "\n",
    "$$\n",
    "0= 2b_{11} + 3b_{13} = 2 + 3b_{13} \\implies b_{13} = -\\frac{2}{3}   .\n",
    "$$\n",
    "\n",
    "Similarly, from (4) we have\n",
    "\n",
    "$$\n",
    "1 = 2b_{21} + 3b_{23} = 3b_{23} \\implies b_{23} = \\frac{1}{3}   .\n",
    "$$\n",
    "\n",
    "Let's define these in Python as well."
   ]
  },
  {
   "cell_type": "code",
   "execution_count": null,
   "id": "forbidden-symbol",
   "metadata": {},
   "outputs": [],
   "source": [
    "b13 = -2./3\n",
    "b23 = 1./3"
   ]
  },
  {
   "cell_type": "markdown",
   "id": "veterinary-webster",
   "metadata": {},
   "source": [
    "But what about $b_{12}$ and $b_{22}$? \n",
    "These two variables don't appear in our constraints at all; indeed, this is precisely because these variables can be _anything_. \n",
    "Let's see that this is indeed true. \n",
    "First, we'll define a function `left_inverse_for_A(b12, b22)` which takes in values of $b_{12}, b_{22}$ and returns the matrix\n",
    "\n",
    "\n",
    "$$\n",
    "B = \\begin{pmatrix}1 & b_{12} & -2/3\\\\ 0 & b_{22} & 1/3\\end{pmatrix}   .\n",
    "$$"
   ]
  },
  {
   "cell_type": "code",
   "execution_count": null,
   "id": "amateur-valve",
   "metadata": {},
   "outputs": [],
   "source": [
    "def left_inverse_for_A(b12, b22):\n",
    "    B = np.array([[b11, b12, b13], [b21, b22, b23]])\n",
    "    return B"
   ]
  },
  {
   "cell_type": "markdown",
   "id": "tough-budapest",
   "metadata": {},
   "source": [
    "Now let's try plugging in different values of $b_{12}$ and $b_{22}$ and see that these all give us valid left inverses for $A$."
   ]
  },
  {
   "cell_type": "code",
   "execution_count": null,
   "id": "dramatic-audience",
   "metadata": {},
   "outputs": [],
   "source": [
    "B1 = left_inverse_for_A(b12 = 1, b22 = 2)\n",
    "print('For b12 = 1, b22 = 2, we have BA = ')\n",
    "print(np.round(np.dot(B1, A),4))\n",
    "\n",
    "B2 = left_inverse_for_A(b12 = -341, b22 = 0.1)\n",
    "print('For b12 = -341, b22 = 0.1, we have BA = ')\n",
    "print(np.round(np.dot(B2, A),4))\n",
    "\n",
    "B3 = left_inverse_for_A(b12 = 0, b22 = 50)\n",
    "print('For b12 = 0, b22 = 50, we have BA = ')\n",
    "print(np.round(np.dot(B3, A),4))"
   ]
  },
  {
   "cell_type": "markdown",
   "id": "introductory-county",
   "metadata": {},
   "source": [
    "Indeed, no matter what values of $b_{12}$ and $b_{22}$ we plug in, we always get that $BA = I$, and hence $A$ has many left inverses. \n",
    "\n",
    "Here we illustrated the existence of many left inverses using a simple example which we could solve by hand; to find left inverses for bigger matrices we will need tools that we introduce in the next chapter.\n",
    "\n",
    "\n",
    "## Right inverses for matrices\n",
    "\n",
    "### When is a linear function surjective\n",
    "\n",
    "As we saw earlier in the semester, a function $f$ has (at least one) right inverse as long as it is _surjective_. \n",
    "Recall that a function $f:X\\to Y$ is surjective if for every $y\\in Y$ there exists $x\\in X$ such that $f(x)= y$.\n",
    "\n",
    "Now suppose again we have a linear function $f:\\mathbb{R}^n \\to \\mathbb{R}^m$ given by $f(x) = Ax$. \n",
    "Let $y$ be an arbitrary vector in $\\mathbb{R}^m$. \n",
    "To check whether $f$ is surjective, we want to know whether there is a vector $x\\in \\mathbb{R}^n$ such that $y = Ax = f(x)$. \n",
    "Using our representation of $Ax$ from the previous section, we want to know if there are coordinates $x = (x_1,\\dots,x_n)$ such that\n",
    "\n",
    "$$\n",
    "y = x_1 A[:,1] + x_2 A[:, 2] + \\cdots + x_n A[:, n]   .\n",
    "$$\n",
    "\n",
    "By definition, we will always be able to find such coordinates $x_1,\\dots,x_n$ as long as the columns $A[:,1],\\dots,A[:,n]$ span all of $\\mathbb{R}^m$. \n",
    "Hence we have the following characterization of surjective functions which ties together our concepts for general functions, and our linear algebraic concept of span:\n",
    "\n",
    "> For an $m\\times n$ matrix $A$, the linear function $f(x) = Ax$ is surjective if and only if the columns of $A$ span $\\mathbb{R}^m$.\n",
    "\n",
    "A simple corollary of this fact is the following: if $m > n$, then $f(x) = Ax$ can _never_ be surjective. \n",
    "This is because the minimum number of vectors which can span $\\mathbb{R}^m$ is $m$, and so if $n$ is smaller than $m$, no $n$ vectors can ever span all of $\\mathbb{R}^m$. \n",
    "Thus, at the very least, for $f(x) = Ax$ to be surjective, we need that $m\\leq n$. \n",
    "Notice that this is coherent with our understanding of surjective functions from before: there we said that, intuitively, $f: X\\to Y$ can only be surjective if $X$ is \"bigger than\" $Y$. \n",
    "Here, this translates to the fact that if $m\\leq n$, then $\\mathbb{R}^n$ is \"bigger than\" $\\mathbb{R}^m$. \n",
    "\n",
    "\n",
    "### Right inverses for surjective linear functions\n",
    "\n",
    "From before, we know that a function every surjective function $f: X \\to Y$ has a least one right inverse $g:Y \\to X$ such that $f\\circ g = \\text{id}_Y$. \n",
    "In the case of linear functions of the form $f(x) = Ax$, a right inverse is another linear function $g(y) = By$ where $B$ is an $n\\times m$ matrix such that\n",
    "\n",
    "$$\n",
    "y = (f\\circ g)(y) = f(g(y)) = f(By) = ABy   .\n",
    "$$\n",
    "\n",
    "In other words $g(y) = By$ is a right inverse if and only if $AB = I$ is the identity matrix on $\\mathbb{R}^m$. \n",
    "Like in the previous section, the condition $AB = I$ constitutes a linear system of equations, with $m^2$ constraints and $n\\cdot m$ unknown variables (the entries of the matrix $B$). \n",
    "Since we know that for $f$ to be surjective we need $m \\leq n$, we have that $m^2 \\leq n\\cdot m$, and so in fact $AB = I$ is a linear system with more unknowns than constraints -- this is also commonly known as an _underdetermined system_. \n",
    "Typically, undetermined solutions have many possible solutions, and hence in general an surjective function $f(x) = Ax$ will have many right inverses. \n",
    "\n",
    "In what follows, we walk through a simple example in Python of finding a right inverse of a matrix. \n",
    "Consider the function $f: \\mathbb{R}^3 \\to \\mathbb{R}^2$ where $f(x) = Ax$ with\n",
    "\n",
    "$$\n",
    "A = \\begin{pmatrix}1 & 2  & 0\\\\ 0 & 0 & 3\\end{pmatrix}  .\n",
    "$$\n",
    "\n",
    "It's easy to see that the vectors $(1,0)$, $(2,0)$ and $(0,3)$ span $\\mathbb{R}^2$, and so we know from the previous subsection that $f(x) = Ax$ is indeed surjective.\n",
    "\n",
    "Let's define this as a numpy array."
   ]
  },
  {
   "cell_type": "code",
   "execution_count": null,
   "id": "legendary-hearts",
   "metadata": {},
   "outputs": [],
   "source": [
    "A = np.array([[1,2,0], [0,0,3]])\n",
    "A"
   ]
  },
  {
   "cell_type": "markdown",
   "id": "healthy-shark",
   "metadata": {},
   "source": [
    "A right inverse $B$ for $A$ will be a $3\\times 2$ matrix of the form\n",
    "\n",
    "$$\n",
    "B = \\begin{pmatrix}b_{11} & b_{12}\\\\ b_{21} & b_{22}\\\\ b_{31} & b_{32}\\end{pmatrix}  .\n",
    "$$\n",
    "\n",
    "The constraint $AB = I$ becomes\n",
    "\n",
    "$$\n",
    "AB = \\begin{pmatrix}1 & 2  & 0\\\\ 0 & 0 & 3\\end{pmatrix}\\begin{pmatrix}b_{11} & b_{12}\\\\ b_{21} & b_{22}\\\\ b_{31} & b_{32}\\end{pmatrix} =  \\begin{pmatrix}1 & 0 \\\\ 0 & 1\\end{pmatrix}  .\n",
    "$$\n",
    "\n",
    "If we carry out the above matrix multiplication, we are left with the following $4$ constraints:\n",
    "\n",
    "$$\n",
    "\\begin{cases}\n",
    "b_{11} + 2b_{21} = 1 & (1)\\\\\n",
    "b_{12} + 2 b_{22} = 0 & (2)\\\\\n",
    "3b_{31} = 0 & (3)\\\\\n",
    "3b_{32} = 1& (4)  .\n",
    "\\end{cases}\n",
    "$$\n",
    "\n",
    "From (3) and (4) we immediately know that $b_{31} = 0$ and $b_{32} = 1/3$. \n",
    "Moreover, from (1) and (2) we know that $b_{11} = 1-2b_{21}$ and $b_{12} = -2b_{22}$. \n",
    "As we can see, we do not have enough constraints to fully determine the matrix $B$: $b_{21}$ and $b_{22}$ are free to vary. \n",
    "Let's check that no matter what choices of these values, we still get a right inverse."
   ]
  },
  {
   "cell_type": "code",
   "execution_count": null,
   "id": "conventional-second",
   "metadata": {},
   "outputs": [],
   "source": [
    "b31 = 0\n",
    "b32 = 1./3\n",
    "\n",
    "def right_inverse_for_A(b21, b22):\n",
    "    b11 = 1-2*b21\n",
    "    b12 = -2*b22\n",
    "    B = np.array([[b11, b12], [b21, b22], [b31, b32]])\n",
    "    return B"
   ]
  },
  {
   "cell_type": "markdown",
   "id": "administrative-maria",
   "metadata": {},
   "source": [
    "Let's again try several values for $b_{21}$ and $b_{22}$, and check that they all give valid right inverses, i.e. that $AB = I$."
   ]
  },
  {
   "cell_type": "code",
   "execution_count": null,
   "id": "absent-context",
   "metadata": {},
   "outputs": [],
   "source": [
    "B1 = right_inverse_for_A(b21 = 1, b22 = 2)\n",
    "print('For b21 = 1, b22 = 2, we have AB = ')\n",
    "print(np.round(np.dot(A, B1),4))\n",
    "\n",
    "B2 = right_inverse_for_A(b21 = -341, b22 = 0.1)\n",
    "print('For b21 = -341, b22 = 0.1, we have AB = ')\n",
    "print(np.round(np.dot(A, B2),4))\n",
    "\n",
    "B3 = right_inverse_for_A(b21 = 0, b22 = 50)\n",
    "print('For b21 = 0, b22 = 50, we have AB = ')\n",
    "print(np.round(np.dot(A, B3),4))"
   ]
  },
  {
   "cell_type": "markdown",
   "id": "forced-rebecca",
   "metadata": {},
   "source": [
    "Indeed, as expected, these each give valid right inverses for $f(x) = Ax$, reflecting the fact that, in general, surjective functions will have many right inverses.\n",
    "\n",
    "Here we illustrated the existence of many right inverses using a simple example which we could solve by hand; to find right inverses for bigger matrices we will need tools that we introduce in the next chapter.\n",
    "\n",
    "\n",
    "## Linear functions with inverses\n",
    "\n",
    "As a special case of the previous two sections, we can have functions which are both injective _and_ surjective. \n",
    "Such functions are called _bijective_. \n",
    "\n",
    "For linear functions, we saw in the previous two sections that the injective and surjective linear functions are characterized by the following two statements:\n",
    "\n",
    "- For an $m\\times n$ matrix $A$, the linear function $f(x) = Ax$ is injective if and only if the columns of $A$ are linearly independent.\n",
    "- For an $m\\times n$ matrix $A$, the linear function $f(x) = Ax$ is surjective if and only if the columns of $A$ span $\\mathbb{R}^m$.\n",
    "\n",
    "We also saw that the function $f(x) = Ax$ is injective only if $n\\leq m$, and surjective only if $m\\leq n$. \n",
    "Combining these two facts, a linear function can only be bijective if $m=n$, or in other words if the matrix $A$ is square. \n",
    "Therefore, we can characterize bijective linear functions with the following.\n",
    "\n",
    "> For an $m\\times n$ matrix $A$, the linear function $f(x) = Ax$ is bijective if and only if $A$ is a square matrix, and the columns of $A$ are linearly independent and span $\\mathbb{R}^m$. \n",
    "\n",
    "Recall that bijective functions have a unique complementary function $f^{-1}$ called an _inverse_ function. \n",
    "In the case of a linear function $f(x) = Ax$, an inverse is a function  $f^{-1}(x) = A^{-1}x$, where $A^{-1}$ is a square matrix such that\n",
    "\n",
    "$$\n",
    "AA^{-1} = I\\;\\;\\;\\;\\;\\;\\text{ and }\\;\\;\\;\\;\\;\\; A^{-1}A = I  .\n",
    "$$\n",
    "\n",
    "The matrix $A^{-1}$ is called the _inverse matrix_ of $A$. \n",
    "We call a matrix _invertible_ if the function $f(x) = Ax$ has an inverse function. \n",
    "Equivalently, using our characterization above, a square matrix $A$ is invertible if and only if its columns are linearly independent and span all of $\\mathbb{R}^m$. \n",
    "Note that this is equivalent to saying that $A$ is invertible if and only if its columns form a basis.\n",
    "\n",
    "In numpy, we can use the function `np.linalg.inv(A)` to find the inverse of a matrix $A$. \n",
    "Before giving examples of when this works, let's see what happens if we try to use this function to invert functions which _aren't_ invertible. \n",
    "For example, consider again the matrix $A$ from the previous section\n",
    "\n",
    "$$\n",
    "A = \\begin{pmatrix}1 & 2  & 0\\\\ 0 & 0 & 3\\end{pmatrix}  .\n",
    "$$\n",
    "\n",
    "This matrix is not square, and so by our discussion above, it cannot have an inverse. \n",
    "Let's see what happens if we try to apply `np.linalg.inv()` to this matrix."
   ]
  },
  {
   "cell_type": "raw",
   "id": "under-contamination",
   "metadata": {},
   "source": [
    "A = np.array([[1,2,0], [0,0,3]])\n",
    "np.linalg.inv(A)"
   ]
  },
  {
   "cell_type": "markdown",
   "id": "infinite-gazette",
   "metadata": {},
   "source": [
    "Indeed, numpy gives us an error saying that the array needs to be square in order to apply the function. \n",
    "Next, let's what happens if the columns of $A$ are not linearly independent and don't span all of $\\mathbb{R}^m$. \n",
    "For example, consider the matrix \n",
    "\n",
    "$$\n",
    "A = \\begin{pmatrix} 1 & -1\\\\ -1 &1\\end{pmatrix}  .\n",
    "$$\n",
    "\n",
    "While this matrix is square, it's columns are not linearly independent, since $A[:,1] = -A[:,2]$, and for the same reason, the columns do not span $\\mathbb{R}^2$. \n",
    "When we try to apply the function `np.linalg.inv(A)` on a matrix we get:"
   ]
  },
  {
   "cell_type": "code",
   "execution_count": null,
   "id": "blessed-local",
   "metadata": {},
   "outputs": [],
   "source": [
    "A = np.array([[1,-1], [-1,1]])\n",
    "np.linalg.inv(A)"
   ]
  },
  {
   "cell_type": "markdown",
   "id": "private-spray",
   "metadata": {},
   "source": [
    "In this case, we now get an error telling us that $A$ is a singular matrix. \n",
    "This is because $A$ has lineary depdenent columns, and therefore is not invertible. \n",
    "Thus we see that numpy requires us to pass the `np.linalg.inv()` function a valid, invertible matrix. \n",
    "Let's see an example of doing this. \n",
    "Consider the matrix \n",
    "$$\n",
    "A = \\begin{pmatrix} 1 & 2\\\\ 0 &3 \\end{pmatrix}  .\n",
    "$$\n",
    "\n",
    "This matrix is square and indeed has linearly independent columns/columns which span $\\mathbb{R}^2$. \n",
    "Let's try finding its inverse in Python."
   ]
  },
  {
   "cell_type": "code",
   "execution_count": null,
   "id": "declared-russell",
   "metadata": {},
   "outputs": [],
   "source": [
    "A = np.array([[1,2], [0,3]])\n",
    "A_inv = np.linalg.inv(A)"
   ]
  },
  {
   "cell_type": "markdown",
   "id": "medium-explorer",
   "metadata": {},
   "source": [
    "As we can see, this time numpy did not throw an error. \n",
    "Moreover, we can check that `A_inv` is indeed an inverse by computing $AA^{-1}$ and $A^{-1}A$:"
   ]
  },
  {
   "cell_type": "code",
   "execution_count": null,
   "id": "perceived-threshold",
   "metadata": {},
   "outputs": [],
   "source": [
    "print('AA^{-1} = ') \n",
    "print(np.round(np.dot(A, A_inv)))\n",
    "print('A^{-1}A = ') \n",
    "print(np.round(np.dot(A, A_inv)))"
   ]
  },
  {
   "cell_type": "markdown",
   "id": "random-tumor",
   "metadata": {},
   "source": [
    "Indeed, we have that $AA^{-1} = I$ and $A^{-1}A = I$, verifying that $A^{-1}$ is a valid inverse for $A$.\n",
    "\n",
    "Of course, we can also do this for bigger matrices, for example a $10 \\times 10$ matrix. Below we give an example of such a matrix where each of the entries are drawn randomly from a normal distribution (such matrices can be shown to be invertible with very high probability)."
   ]
  },
  {
   "cell_type": "code",
   "execution_count": null,
   "id": "multiple-spanish",
   "metadata": {},
   "outputs": [],
   "source": [
    "n = 10\n",
    "\n",
    "A = np.random.normal(size = (n,n))\n",
    "A_inv = np.linalg.inv(A)\n",
    "\n",
    "print('AA^{-1} = ') \n",
    "print(np.round(np.dot(A, A_inv)))\n",
    "print('A^{-1}A = ') \n",
    "print(np.round(np.dot(A, A_inv)))"
   ]
  }
 ],
 "metadata": {
  "kernelspec": {
   "display_name": "Python 3",
   "language": "python",
   "name": "python3"
  },
  "language_info": {
   "codemirror_mode": {
    "name": "ipython",
    "version": 3
   },
   "file_extension": ".py",
   "mimetype": "text/x-python",
   "name": "python",
   "nbconvert_exporter": "python",
   "pygments_lexer": "ipython3",
   "version": "3.7.9"
  }
 },
 "nbformat": 4,
 "nbformat_minor": 5
}
